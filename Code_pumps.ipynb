{
  "nbformat": 4,
  "nbformat_minor": 0,
  "metadata": {
    "colab": {
      "name": "Code_pumps.ipynb",
      "provenance": [],
      "collapsed_sections": [],
      "toc_visible": true
    },
    "kernelspec": {
      "name": "python3",
      "display_name": "Python 3"
    },
    "language_info": {
      "name": "python"
    }
  },
  "cells": [
    {
      "cell_type": "code",
      "metadata": {
        "id": "tkKHBcdgiOju"
      },
      "source": [
        "import numpy as np\n",
        "import pandas as pd\n",
        "import seaborn as sns\n",
        "import matplotlib.pyplot as plt\n",
        "from matplotlib import pyplot"
      ],
      "execution_count": null,
      "outputs": []
    },
    {
      "cell_type": "code",
      "metadata": {
        "id": "LoFbrByRjqki"
      },
      "source": [
        "df_train = pd.read_csv('Train.csv')"
      ],
      "execution_count": null,
      "outputs": []
    },
    {
      "cell_type": "markdown",
      "metadata": {
        "id": "GB3hvakf-nKe"
      },
      "source": [
        "#First Exploring data for visualisation and printing"
      ]
    },
    {
      "cell_type": "code",
      "metadata": {
        "colab": {
          "base_uri": "https://localhost:8080/",
          "height": 776
        },
        "id": "4KKkDytkkq2q",
        "outputId": "bf435050-61d1-4074-cf66-5916d08d5c72"
      },
      "source": [
        "display(df_train)"
      ],
      "execution_count": null,
      "outputs": [
        {
          "output_type": "display_data",
          "data": {
            "text/html": [
              "<div>\n",
              "<style scoped>\n",
              "    .dataframe tbody tr th:only-of-type {\n",
              "        vertical-align: middle;\n",
              "    }\n",
              "\n",
              "    .dataframe tbody tr th {\n",
              "        vertical-align: top;\n",
              "    }\n",
              "\n",
              "    .dataframe thead th {\n",
              "        text-align: right;\n",
              "    }\n",
              "</style>\n",
              "<table border=\"1\" class=\"dataframe\">\n",
              "  <thead>\n",
              "    <tr style=\"text-align: right;\">\n",
              "      <th></th>\n",
              "      <th>id</th>\n",
              "      <th>amount_tsh</th>\n",
              "      <th>date_recorded</th>\n",
              "      <th>funder</th>\n",
              "      <th>gps_height</th>\n",
              "      <th>installer</th>\n",
              "      <th>longitude</th>\n",
              "      <th>latitude</th>\n",
              "      <th>wpt_name</th>\n",
              "      <th>num_private</th>\n",
              "      <th>basin</th>\n",
              "      <th>subvillage</th>\n",
              "      <th>region</th>\n",
              "      <th>region_code</th>\n",
              "      <th>district_code</th>\n",
              "      <th>lga</th>\n",
              "      <th>ward</th>\n",
              "      <th>population</th>\n",
              "      <th>public_meeting</th>\n",
              "      <th>recorded_by</th>\n",
              "      <th>scheme_management</th>\n",
              "      <th>scheme_name</th>\n",
              "      <th>permit</th>\n",
              "      <th>construction_year</th>\n",
              "      <th>extraction_type</th>\n",
              "      <th>extraction_type_group</th>\n",
              "      <th>extraction_type_class</th>\n",
              "      <th>management</th>\n",
              "      <th>management_group</th>\n",
              "      <th>payment</th>\n",
              "      <th>payment_type</th>\n",
              "      <th>water_quality</th>\n",
              "      <th>quality_group</th>\n",
              "      <th>quantity</th>\n",
              "      <th>quantity_group</th>\n",
              "      <th>source</th>\n",
              "      <th>source_type</th>\n",
              "      <th>source_class</th>\n",
              "      <th>waterpoint_type</th>\n",
              "      <th>waterpoint_type_group</th>\n",
              "      <th>status_group</th>\n",
              "    </tr>\n",
              "  </thead>\n",
              "  <tbody>\n",
              "    <tr>\n",
              "      <th>0</th>\n",
              "      <td>7411</td>\n",
              "      <td>7.0</td>\n",
              "      <td>2013-03-20</td>\n",
              "      <td>Germany Republi</td>\n",
              "      <td>1203</td>\n",
              "      <td>CES</td>\n",
              "      <td>37.228664</td>\n",
              "      <td>-3.256505</td>\n",
              "      <td>Kwa Abdalla</td>\n",
              "      <td>0</td>\n",
              "      <td>Pangani</td>\n",
              "      <td>Mafurini</td>\n",
              "      <td>Kilimanjaro</td>\n",
              "      <td>3</td>\n",
              "      <td>5</td>\n",
              "      <td>Hai</td>\n",
              "      <td>Machame Kaskazini</td>\n",
              "      <td>90</td>\n",
              "      <td>True</td>\n",
              "      <td>GeoData Consultants Ltd</td>\n",
              "      <td>Water Board</td>\n",
              "      <td>Machame water supply</td>\n",
              "      <td>True</td>\n",
              "      <td>2008</td>\n",
              "      <td>gravity</td>\n",
              "      <td>gravity</td>\n",
              "      <td>gravity</td>\n",
              "      <td>water board</td>\n",
              "      <td>user-group</td>\n",
              "      <td>pay per bucket</td>\n",
              "      <td>per bucket</td>\n",
              "      <td>soft</td>\n",
              "      <td>good</td>\n",
              "      <td>enough</td>\n",
              "      <td>enough</td>\n",
              "      <td>spring</td>\n",
              "      <td>spring</td>\n",
              "      <td>groundwater</td>\n",
              "      <td>communal standpipe</td>\n",
              "      <td>communal standpipe</td>\n",
              "      <td>functional</td>\n",
              "    </tr>\n",
              "    <tr>\n",
              "      <th>1</th>\n",
              "      <td>18014</td>\n",
              "      <td>0.0</td>\n",
              "      <td>2011-02-21</td>\n",
              "      <td>Cdtf</td>\n",
              "      <td>1409</td>\n",
              "      <td>CDTF</td>\n",
              "      <td>34.615481</td>\n",
              "      <td>-9.972601</td>\n",
              "      <td>none</td>\n",
              "      <td>0</td>\n",
              "      <td>Lake Nyasa</td>\n",
              "      <td>Ituni</td>\n",
              "      <td>Iringa</td>\n",
              "      <td>11</td>\n",
              "      <td>5</td>\n",
              "      <td>Ludewa</td>\n",
              "      <td>Luana</td>\n",
              "      <td>70</td>\n",
              "      <td>False</td>\n",
              "      <td>GeoData Consultants Ltd</td>\n",
              "      <td>Private operator</td>\n",
              "      <td>Mgowel</td>\n",
              "      <td>False</td>\n",
              "      <td>1984</td>\n",
              "      <td>gravity</td>\n",
              "      <td>gravity</td>\n",
              "      <td>gravity</td>\n",
              "      <td>private operator</td>\n",
              "      <td>commercial</td>\n",
              "      <td>never pay</td>\n",
              "      <td>never pay</td>\n",
              "      <td>soft</td>\n",
              "      <td>good</td>\n",
              "      <td>enough</td>\n",
              "      <td>enough</td>\n",
              "      <td>spring</td>\n",
              "      <td>spring</td>\n",
              "      <td>groundwater</td>\n",
              "      <td>communal standpipe</td>\n",
              "      <td>communal standpipe</td>\n",
              "      <td>functional</td>\n",
              "    </tr>\n",
              "    <tr>\n",
              "      <th>2</th>\n",
              "      <td>26103</td>\n",
              "      <td>0.0</td>\n",
              "      <td>2013-01-04</td>\n",
              "      <td>Government Of Tanzania</td>\n",
              "      <td>1572</td>\n",
              "      <td>DWE</td>\n",
              "      <td>36.658778</td>\n",
              "      <td>-3.321529</td>\n",
              "      <td>Kwa Loishiye</td>\n",
              "      <td>0</td>\n",
              "      <td>Pangani</td>\n",
              "      <td>Melebuki</td>\n",
              "      <td>Arusha</td>\n",
              "      <td>2</td>\n",
              "      <td>2</td>\n",
              "      <td>Arusha Rural</td>\n",
              "      <td>Kimnyaki</td>\n",
              "      <td>150</td>\n",
              "      <td>True</td>\n",
              "      <td>GeoData Consultants Ltd</td>\n",
              "      <td>VWC</td>\n",
              "      <td>Saitero olosaita pipe line</td>\n",
              "      <td>True</td>\n",
              "      <td>2002</td>\n",
              "      <td>gravity</td>\n",
              "      <td>gravity</td>\n",
              "      <td>gravity</td>\n",
              "      <td>vwc</td>\n",
              "      <td>user-group</td>\n",
              "      <td>never pay</td>\n",
              "      <td>never pay</td>\n",
              "      <td>soft</td>\n",
              "      <td>good</td>\n",
              "      <td>insufficient</td>\n",
              "      <td>insufficient</td>\n",
              "      <td>spring</td>\n",
              "      <td>spring</td>\n",
              "      <td>groundwater</td>\n",
              "      <td>communal standpipe</td>\n",
              "      <td>communal standpipe</td>\n",
              "      <td>non functional</td>\n",
              "    </tr>\n",
              "    <tr>\n",
              "      <th>3</th>\n",
              "      <td>31140</td>\n",
              "      <td>0.0</td>\n",
              "      <td>2011-04-03</td>\n",
              "      <td>District Council</td>\n",
              "      <td>0</td>\n",
              "      <td>District Council</td>\n",
              "      <td>33.628025</td>\n",
              "      <td>-8.860795</td>\n",
              "      <td>Mwanzechele</td>\n",
              "      <td>0</td>\n",
              "      <td>Rufiji</td>\n",
              "      <td>Darajani</td>\n",
              "      <td>Mbeya</td>\n",
              "      <td>12</td>\n",
              "      <td>2</td>\n",
              "      <td>Mbeya Rural</td>\n",
              "      <td>Inyala</td>\n",
              "      <td>0</td>\n",
              "      <td>True</td>\n",
              "      <td>GeoData Consultants Ltd</td>\n",
              "      <td>VWC</td>\n",
              "      <td>NaN</td>\n",
              "      <td>True</td>\n",
              "      <td>0</td>\n",
              "      <td>gravity</td>\n",
              "      <td>gravity</td>\n",
              "      <td>gravity</td>\n",
              "      <td>wug</td>\n",
              "      <td>user-group</td>\n",
              "      <td>pay annually</td>\n",
              "      <td>annually</td>\n",
              "      <td>soft</td>\n",
              "      <td>good</td>\n",
              "      <td>insufficient</td>\n",
              "      <td>insufficient</td>\n",
              "      <td>river</td>\n",
              "      <td>river/lake</td>\n",
              "      <td>surface</td>\n",
              "      <td>communal standpipe</td>\n",
              "      <td>communal standpipe</td>\n",
              "      <td>functional</td>\n",
              "    </tr>\n",
              "    <tr>\n",
              "      <th>4</th>\n",
              "      <td>12286</td>\n",
              "      <td>300.0</td>\n",
              "      <td>2013-03-08</td>\n",
              "      <td>District Council</td>\n",
              "      <td>1283</td>\n",
              "      <td>District Council</td>\n",
              "      <td>37.655509</td>\n",
              "      <td>-3.669777</td>\n",
              "      <td>Kwa Kidaya</td>\n",
              "      <td>0</td>\n",
              "      <td>Pangani</td>\n",
              "      <td>Mwira A</td>\n",
              "      <td>Kilimanjaro</td>\n",
              "      <td>3</td>\n",
              "      <td>2</td>\n",
              "      <td>Mwanga</td>\n",
              "      <td>Shinghatini</td>\n",
              "      <td>34</td>\n",
              "      <td>True</td>\n",
              "      <td>GeoData Consultants Ltd</td>\n",
              "      <td>VWC</td>\n",
              "      <td>Churu water supply</td>\n",
              "      <td>False</td>\n",
              "      <td>2007</td>\n",
              "      <td>gravity</td>\n",
              "      <td>gravity</td>\n",
              "      <td>gravity</td>\n",
              "      <td>vwc</td>\n",
              "      <td>user-group</td>\n",
              "      <td>pay monthly</td>\n",
              "      <td>monthly</td>\n",
              "      <td>soft</td>\n",
              "      <td>good</td>\n",
              "      <td>insufficient</td>\n",
              "      <td>insufficient</td>\n",
              "      <td>spring</td>\n",
              "      <td>spring</td>\n",
              "      <td>groundwater</td>\n",
              "      <td>communal standpipe</td>\n",
              "      <td>communal standpipe</td>\n",
              "      <td>functional</td>\n",
              "    </tr>\n",
              "    <tr>\n",
              "      <th>...</th>\n",
              "      <td>...</td>\n",
              "      <td>...</td>\n",
              "      <td>...</td>\n",
              "      <td>...</td>\n",
              "      <td>...</td>\n",
              "      <td>...</td>\n",
              "      <td>...</td>\n",
              "      <td>...</td>\n",
              "      <td>...</td>\n",
              "      <td>...</td>\n",
              "      <td>...</td>\n",
              "      <td>...</td>\n",
              "      <td>...</td>\n",
              "      <td>...</td>\n",
              "      <td>...</td>\n",
              "      <td>...</td>\n",
              "      <td>...</td>\n",
              "      <td>...</td>\n",
              "      <td>...</td>\n",
              "      <td>...</td>\n",
              "      <td>...</td>\n",
              "      <td>...</td>\n",
              "      <td>...</td>\n",
              "      <td>...</td>\n",
              "      <td>...</td>\n",
              "      <td>...</td>\n",
              "      <td>...</td>\n",
              "      <td>...</td>\n",
              "      <td>...</td>\n",
              "      <td>...</td>\n",
              "      <td>...</td>\n",
              "      <td>...</td>\n",
              "      <td>...</td>\n",
              "      <td>...</td>\n",
              "      <td>...</td>\n",
              "      <td>...</td>\n",
              "      <td>...</td>\n",
              "      <td>...</td>\n",
              "      <td>...</td>\n",
              "      <td>...</td>\n",
              "      <td>...</td>\n",
              "    </tr>\n",
              "    <tr>\n",
              "      <th>44545</th>\n",
              "      <td>43878</td>\n",
              "      <td>0.0</td>\n",
              "      <td>2013-01-23</td>\n",
              "      <td>World Vision</td>\n",
              "      <td>0</td>\n",
              "      <td>TAWASA</td>\n",
              "      <td>32.383715</td>\n",
              "      <td>-3.457624</td>\n",
              "      <td>Imalabuluhi</td>\n",
              "      <td>0</td>\n",
              "      <td>Lake Tanganyika</td>\n",
              "      <td>Bukenge</td>\n",
              "      <td>Shinyanga</td>\n",
              "      <td>17</td>\n",
              "      <td>3</td>\n",
              "      <td>Kahama</td>\n",
              "      <td>Segese</td>\n",
              "      <td>0</td>\n",
              "      <td>True</td>\n",
              "      <td>GeoData Consultants Ltd</td>\n",
              "      <td>NaN</td>\n",
              "      <td>NaN</td>\n",
              "      <td>True</td>\n",
              "      <td>0</td>\n",
              "      <td>nira/tanira</td>\n",
              "      <td>nira/tanira</td>\n",
              "      <td>handpump</td>\n",
              "      <td>wug</td>\n",
              "      <td>user-group</td>\n",
              "      <td>unknown</td>\n",
              "      <td>unknown</td>\n",
              "      <td>milky</td>\n",
              "      <td>milky</td>\n",
              "      <td>enough</td>\n",
              "      <td>enough</td>\n",
              "      <td>shallow well</td>\n",
              "      <td>shallow well</td>\n",
              "      <td>groundwater</td>\n",
              "      <td>hand pump</td>\n",
              "      <td>hand pump</td>\n",
              "      <td>functional</td>\n",
              "    </tr>\n",
              "    <tr>\n",
              "      <th>44546</th>\n",
              "      <td>50718</td>\n",
              "      <td>0.0</td>\n",
              "      <td>2011-07-25</td>\n",
              "      <td>Ded</td>\n",
              "      <td>0</td>\n",
              "      <td>DED</td>\n",
              "      <td>31.615509</td>\n",
              "      <td>-2.738682</td>\n",
              "      <td>Ilyamchele Center</td>\n",
              "      <td>0</td>\n",
              "      <td>Lake Victoria</td>\n",
              "      <td>Ilyamchele Center</td>\n",
              "      <td>Kagera</td>\n",
              "      <td>18</td>\n",
              "      <td>8</td>\n",
              "      <td>Chato</td>\n",
              "      <td>Katende</td>\n",
              "      <td>0</td>\n",
              "      <td>True</td>\n",
              "      <td>GeoData Consultants Ltd</td>\n",
              "      <td>WUA</td>\n",
              "      <td>NaN</td>\n",
              "      <td>True</td>\n",
              "      <td>0</td>\n",
              "      <td>afridev</td>\n",
              "      <td>afridev</td>\n",
              "      <td>handpump</td>\n",
              "      <td>wua</td>\n",
              "      <td>user-group</td>\n",
              "      <td>pay monthly</td>\n",
              "      <td>monthly</td>\n",
              "      <td>soft</td>\n",
              "      <td>good</td>\n",
              "      <td>enough</td>\n",
              "      <td>enough</td>\n",
              "      <td>hand dtw</td>\n",
              "      <td>borehole</td>\n",
              "      <td>groundwater</td>\n",
              "      <td>hand pump</td>\n",
              "      <td>hand pump</td>\n",
              "      <td>non functional</td>\n",
              "    </tr>\n",
              "    <tr>\n",
              "      <th>44547</th>\n",
              "      <td>67177</td>\n",
              "      <td>0.0</td>\n",
              "      <td>2013-02-23</td>\n",
              "      <td>Government Of Tanzania</td>\n",
              "      <td>969</td>\n",
              "      <td>Government</td>\n",
              "      <td>35.134412</td>\n",
              "      <td>-10.676062</td>\n",
              "      <td>Kwa Mzee Maondo</td>\n",
              "      <td>0</td>\n",
              "      <td>Ruvuma / Southern Coast</td>\n",
              "      <td>Masango</td>\n",
              "      <td>Ruvuma</td>\n",
              "      <td>10</td>\n",
              "      <td>3</td>\n",
              "      <td>Mbinga</td>\n",
              "      <td>Kigonsera</td>\n",
              "      <td>60</td>\n",
              "      <td>NaN</td>\n",
              "      <td>GeoData Consultants Ltd</td>\n",
              "      <td>VWC</td>\n",
              "      <td>Government</td>\n",
              "      <td>NaN</td>\n",
              "      <td>1977</td>\n",
              "      <td>gravity</td>\n",
              "      <td>gravity</td>\n",
              "      <td>gravity</td>\n",
              "      <td>vwc</td>\n",
              "      <td>user-group</td>\n",
              "      <td>unknown</td>\n",
              "      <td>unknown</td>\n",
              "      <td>soft</td>\n",
              "      <td>good</td>\n",
              "      <td>seasonal</td>\n",
              "      <td>seasonal</td>\n",
              "      <td>spring</td>\n",
              "      <td>spring</td>\n",
              "      <td>groundwater</td>\n",
              "      <td>communal standpipe</td>\n",
              "      <td>communal standpipe</td>\n",
              "      <td>functional</td>\n",
              "    </tr>\n",
              "    <tr>\n",
              "      <th>44548</th>\n",
              "      <td>2744</td>\n",
              "      <td>200.0</td>\n",
              "      <td>2013-03-26</td>\n",
              "      <td>Adra</td>\n",
              "      <td>1269</td>\n",
              "      <td>ADRA/Government</td>\n",
              "      <td>37.886287</td>\n",
              "      <td>-4.390882</td>\n",
              "      <td>Miembeni</td>\n",
              "      <td>0</td>\n",
              "      <td>Pangani</td>\n",
              "      <td>Mng'Ende</td>\n",
              "      <td>Kilimanjaro</td>\n",
              "      <td>3</td>\n",
              "      <td>3</td>\n",
              "      <td>Same</td>\n",
              "      <td>Suji</td>\n",
              "      <td>80</td>\n",
              "      <td>True</td>\n",
              "      <td>GeoData Consultants Ltd</td>\n",
              "      <td>Water authority</td>\n",
              "      <td>Kiumba water supply</td>\n",
              "      <td>True</td>\n",
              "      <td>2011</td>\n",
              "      <td>gravity</td>\n",
              "      <td>gravity</td>\n",
              "      <td>gravity</td>\n",
              "      <td>vwc</td>\n",
              "      <td>user-group</td>\n",
              "      <td>pay monthly</td>\n",
              "      <td>monthly</td>\n",
              "      <td>soft</td>\n",
              "      <td>good</td>\n",
              "      <td>insufficient</td>\n",
              "      <td>insufficient</td>\n",
              "      <td>spring</td>\n",
              "      <td>spring</td>\n",
              "      <td>groundwater</td>\n",
              "      <td>communal standpipe</td>\n",
              "      <td>communal standpipe</td>\n",
              "      <td>functional</td>\n",
              "    </tr>\n",
              "    <tr>\n",
              "      <th>44549</th>\n",
              "      <td>10262</td>\n",
              "      <td>0.0</td>\n",
              "      <td>2013-01-26</td>\n",
              "      <td>World Vision</td>\n",
              "      <td>0</td>\n",
              "      <td>Consulting Engineer</td>\n",
              "      <td>32.976560</td>\n",
              "      <td>-4.262149</td>\n",
              "      <td>Itunda A Mkwajuni</td>\n",
              "      <td>0</td>\n",
              "      <td>Lake Tanganyika</td>\n",
              "      <td>Itunda A</td>\n",
              "      <td>Tabora</td>\n",
              "      <td>14</td>\n",
              "      <td>1</td>\n",
              "      <td>Nzega</td>\n",
              "      <td>Karitu</td>\n",
              "      <td>0</td>\n",
              "      <td>True</td>\n",
              "      <td>GeoData Consultants Ltd</td>\n",
              "      <td>VWC</td>\n",
              "      <td>NaN</td>\n",
              "      <td>False</td>\n",
              "      <td>0</td>\n",
              "      <td>nira/tanira</td>\n",
              "      <td>nira/tanira</td>\n",
              "      <td>handpump</td>\n",
              "      <td>vwc</td>\n",
              "      <td>user-group</td>\n",
              "      <td>pay when scheme fails</td>\n",
              "      <td>on failure</td>\n",
              "      <td>soft</td>\n",
              "      <td>good</td>\n",
              "      <td>enough</td>\n",
              "      <td>enough</td>\n",
              "      <td>shallow well</td>\n",
              "      <td>shallow well</td>\n",
              "      <td>groundwater</td>\n",
              "      <td>hand pump</td>\n",
              "      <td>hand pump</td>\n",
              "      <td>functional</td>\n",
              "    </tr>\n",
              "  </tbody>\n",
              "</table>\n",
              "<p>44550 rows × 41 columns</p>\n",
              "</div>"
            ],
            "text/plain": [
              "          id  amount_tsh  ... waterpoint_type_group    status_group\n",
              "0       7411         7.0  ...    communal standpipe      functional\n",
              "1      18014         0.0  ...    communal standpipe      functional\n",
              "2      26103         0.0  ...    communal standpipe  non functional\n",
              "3      31140         0.0  ...    communal standpipe      functional\n",
              "4      12286       300.0  ...    communal standpipe      functional\n",
              "...      ...         ...  ...                   ...             ...\n",
              "44545  43878         0.0  ...             hand pump      functional\n",
              "44546  50718         0.0  ...             hand pump  non functional\n",
              "44547  67177         0.0  ...    communal standpipe      functional\n",
              "44548   2744       200.0  ...    communal standpipe      functional\n",
              "44549  10262         0.0  ...             hand pump      functional\n",
              "\n",
              "[44550 rows x 41 columns]"
            ]
          },
          "metadata": {
            "tags": []
          }
        }
      ]
    },
    {
      "cell_type": "markdown",
      "metadata": {
        "id": "vXJpbybU6EAI"
      },
      "source": [
        "There are mixed set of data types and also different columns have different scale."
      ]
    },
    {
      "cell_type": "markdown",
      "metadata": {
        "id": "mXxJdyIiEKsz"
      },
      "source": [
        "looking at the data types of the features"
      ]
    },
    {
      "cell_type": "code",
      "metadata": {
        "colab": {
          "base_uri": "https://localhost:8080/"
        },
        "id": "UESd8rQym1UQ",
        "outputId": "9b241ead-dab9-4130-f7f7-9cb6eccd0e60"
      },
      "source": [
        "print(df_train.dtypes)"
      ],
      "execution_count": null,
      "outputs": [
        {
          "output_type": "stream",
          "text": [
            "id                         int64\n",
            "amount_tsh               float64\n",
            "date_recorded             object\n",
            "funder                    object\n",
            "gps_height                 int64\n",
            "installer                 object\n",
            "longitude                float64\n",
            "latitude                 float64\n",
            "wpt_name                  object\n",
            "num_private                int64\n",
            "basin                     object\n",
            "subvillage                object\n",
            "region                    object\n",
            "region_code                int64\n",
            "district_code              int64\n",
            "lga                       object\n",
            "ward                      object\n",
            "population                 int64\n",
            "public_meeting            object\n",
            "recorded_by               object\n",
            "scheme_management         object\n",
            "scheme_name               object\n",
            "permit                    object\n",
            "construction_year          int64\n",
            "extraction_type           object\n",
            "extraction_type_group     object\n",
            "extraction_type_class     object\n",
            "management                object\n",
            "management_group          object\n",
            "payment                   object\n",
            "payment_type              object\n",
            "water_quality             object\n",
            "quality_group             object\n",
            "quantity                  object\n",
            "quantity_group            object\n",
            "source                    object\n",
            "source_type               object\n",
            "source_class              object\n",
            "waterpoint_type           object\n",
            "waterpoint_type_group     object\n",
            "status_group              object\n",
            "dtype: object\n"
          ],
          "name": "stdout"
        }
      ]
    },
    {
      "cell_type": "markdown",
      "metadata": {
        "id": "zw5e1ZfsEUZ3"
      },
      "source": [
        "most of the features are of object data type and some are of float and integer."
      ]
    },
    {
      "cell_type": "markdown",
      "metadata": {
        "id": "IFvF5TvUEgO3"
      },
      "source": [
        "now,lets find out which features have least unique values."
      ]
    },
    {
      "cell_type": "code",
      "metadata": {
        "colab": {
          "base_uri": "https://localhost:8080/"
        },
        "id": "aSNn92cHm7kO",
        "outputId": "b75a4db5-4287-4c3d-a33e-fd56e14db39c"
      },
      "source": [
        "for col in df_train.columns.values:\n",
        "  list_vals = pd.unique(df_train[col])\n",
        "  print(col + 'is of type' + str(df_train[col].dtypes)+',has' + str(len(list_vals))+'unique values')\n",
        "  if len(list_vals)< 10:\n",
        "    list_str = ''\n",
        "    for n_value in range(0,len(list_vals)):\n",
        "      list_str = list_str + str(list_vals[n_value]) + ''\n",
        "    print('these are:' + list_str[0:len(list_str)-2])  "
      ],
      "execution_count": null,
      "outputs": [
        {
          "output_type": "stream",
          "text": [
            "idis of typeint64,has44550unique values\n",
            "amount_tshis of typefloat64,has85unique values\n",
            "date_recordedis of typeobject,has346unique values\n",
            "funderis of typeobject,has1652unique values\n",
            "gps_heightis of typeint64,has2396unique values\n",
            "installeris of typeobject,has1855unique values\n",
            "longitudeis of typefloat64,has43155unique values\n",
            "latitudeis of typefloat64,has43155unique values\n",
            "wpt_nameis of typeobject,has28991unique values\n",
            "num_privateis of typeint64,has59unique values\n",
            "basinis of typeobject,has9unique values\n",
            "these are:PanganiLake NyasaRufijiLake TanganyikaLake VictoriaWami / RuvuInternalRuvuma / Southern CoastLake Ruk\n",
            "subvillageis of typeobject,has16618unique values\n",
            "regionis of typeobject,has21unique values\n",
            "region_codeis of typeint64,has27unique values\n",
            "district_codeis of typeint64,has20unique values\n",
            "lgais of typeobject,has125unique values\n",
            "wardis of typeobject,has2080unique values\n",
            "populationis of typeint64,has956unique values\n",
            "public_meetingis of typeobject,has3unique values\n",
            "these are:TrueFalsen\n",
            "recorded_byis of typeobject,has1unique values\n",
            "these are:GeoData Consultants L\n",
            "scheme_managementis of typeobject,has13unique values\n",
            "scheme_nameis of typeobject,has2507unique values\n",
            "permitis of typeobject,has3unique values\n",
            "these are:TrueFalsen\n",
            "construction_yearis of typeint64,has55unique values\n",
            "extraction_typeis of typeobject,has18unique values\n",
            "extraction_type_groupis of typeobject,has13unique values\n",
            "extraction_type_classis of typeobject,has7unique values\n",
            "these are:gravityhandpumpmotorpumpsubmersibleotherrope pumpwind-power\n",
            "managementis of typeobject,has12unique values\n",
            "management_groupis of typeobject,has5unique values\n",
            "these are:user-groupcommercialparastatalunknownoth\n",
            "paymentis of typeobject,has7unique values\n",
            "these are:pay per bucketnever paypay annuallypay monthlyunknownpay when scheme failsoth\n",
            "payment_typeis of typeobject,has7unique values\n",
            "these are:per bucketnever payannuallymonthlyunknownon failureoth\n",
            "water_qualityis of typeobject,has8unique values\n",
            "these are:softsalty abandonedunknownsaltyfluoridemilkycolouredfluoride abandon\n",
            "quality_groupis of typeobject,has6unique values\n",
            "these are:goodsaltyunknownfluoridemilkycolor\n",
            "quantityis of typeobject,has5unique values\n",
            "these are:enoughinsufficientdryunknownseason\n",
            "quantity_groupis of typeobject,has5unique values\n",
            "these are:enoughinsufficientdryunknownseason\n",
            "sourceis of typeobject,has10unique values\n",
            "source_typeis of typeobject,has7unique values\n",
            "these are:springriver/lakeshallow wellboreholerainwater harvestingdamoth\n",
            "source_classis of typeobject,has3unique values\n",
            "these are:groundwatersurfaceunkno\n",
            "waterpoint_typeis of typeobject,has7unique values\n",
            "these are:communal standpipehand pumpothercommunal standpipe multiplecattle troughimproved springd\n",
            "waterpoint_type_groupis of typeobject,has6unique values\n",
            "these are:communal standpipehand pumpothercattle troughimproved springd\n",
            "status_groupis of typeobject,has3unique values\n",
            "these are:functionalnon functionalfunctional needs repa\n"
          ],
          "name": "stdout"
        }
      ]
    },
    {
      "cell_type": "code",
      "metadata": {
        "colab": {
          "base_uri": "https://localhost:8080/"
        },
        "id": "94CKefbvs6ZX",
        "outputId": "86f51335-7178-4e62-f90d-61f9c3b61cd2"
      },
      "source": [
        "for col in df_train.columns.values: # for each column\n",
        "  unique_entries = pd.unique(df_train[col]) # unique elements in a column\n",
        "  print(f\"The column '{col}'  has {len(unique_entries)} unique entries, and {df_train[col].isnull().sum()} NaN values\")"
      ],
      "execution_count": null,
      "outputs": [
        {
          "output_type": "stream",
          "text": [
            "The column 'id'  has 44550 unique entries, and 0 NaN values\n",
            "The column 'amount_tsh'  has 85 unique entries, and 0 NaN values\n",
            "The column 'date_recorded'  has 346 unique entries, and 0 NaN values\n",
            "The column 'funder'  has 1652 unique entries, and 2793 NaN values\n",
            "The column 'gps_height'  has 2396 unique entries, and 0 NaN values\n",
            "The column 'installer'  has 1855 unique entries, and 2807 NaN values\n",
            "The column 'longitude'  has 43155 unique entries, and 0 NaN values\n",
            "The column 'latitude'  has 43155 unique entries, and 0 NaN values\n",
            "The column 'wpt_name'  has 28991 unique entries, and 0 NaN values\n",
            "The column 'num_private'  has 59 unique entries, and 0 NaN values\n",
            "The column 'basin'  has 9 unique entries, and 0 NaN values\n",
            "The column 'subvillage'  has 16618 unique entries, and 287 NaN values\n",
            "The column 'region'  has 21 unique entries, and 0 NaN values\n",
            "The column 'region_code'  has 27 unique entries, and 0 NaN values\n",
            "The column 'district_code'  has 20 unique entries, and 0 NaN values\n",
            "The column 'lga'  has 125 unique entries, and 0 NaN values\n",
            "The column 'ward'  has 2080 unique entries, and 0 NaN values\n",
            "The column 'population'  has 956 unique entries, and 0 NaN values\n",
            "The column 'public_meeting'  has 3 unique entries, and 2491 NaN values\n",
            "The column 'recorded_by'  has 1 unique entries, and 0 NaN values\n",
            "The column 'scheme_management'  has 13 unique entries, and 2832 NaN values\n",
            "The column 'scheme_name'  has 2507 unique entries, and 21110 NaN values\n",
            "The column 'permit'  has 3 unique entries, and 2336 NaN values\n",
            "The column 'construction_year'  has 55 unique entries, and 0 NaN values\n",
            "The column 'extraction_type'  has 18 unique entries, and 0 NaN values\n",
            "The column 'extraction_type_group'  has 13 unique entries, and 0 NaN values\n",
            "The column 'extraction_type_class'  has 7 unique entries, and 0 NaN values\n",
            "The column 'management'  has 12 unique entries, and 0 NaN values\n",
            "The column 'management_group'  has 5 unique entries, and 0 NaN values\n",
            "The column 'payment'  has 7 unique entries, and 0 NaN values\n",
            "The column 'payment_type'  has 7 unique entries, and 0 NaN values\n",
            "The column 'water_quality'  has 8 unique entries, and 0 NaN values\n",
            "The column 'quality_group'  has 6 unique entries, and 0 NaN values\n",
            "The column 'quantity'  has 5 unique entries, and 0 NaN values\n",
            "The column 'quantity_group'  has 5 unique entries, and 0 NaN values\n",
            "The column 'source'  has 10 unique entries, and 0 NaN values\n",
            "The column 'source_type'  has 7 unique entries, and 0 NaN values\n",
            "The column 'source_class'  has 3 unique entries, and 0 NaN values\n",
            "The column 'waterpoint_type'  has 7 unique entries, and 0 NaN values\n",
            "The column 'waterpoint_type_group'  has 6 unique entries, and 0 NaN values\n",
            "The column 'status_group'  has 3 unique entries, and 0 NaN values\n"
          ],
          "name": "stdout"
        }
      ]
    },
    {
      "cell_type": "markdown",
      "metadata": {
        "id": "WUn4Ax1G6mUW"
      },
      "source": [
        "We should drop the features of similar type and the feature which will have no effect (eg. recorded_by has only one unique value so this column is not helpful at all) also among quality and quality group we can only keep one same goes for quantity and quantity group because the extra column will not give any extra knowledge to the model.all have unique id so it can also be dropped"
      ]
    },
    {
      "cell_type": "code",
      "metadata": {
        "id": "yGaonfU7uoEp"
      },
      "source": [
        "df_train = df_train.drop(['id','source','wpt_name', 'num_private', 'region','quantity','quality_group','lga','ward','management','recorded_by', 'payment', \n",
        "           'extraction_type_group','extraction_type_class'],axis=1)"
      ],
      "execution_count": null,
      "outputs": []
    },
    {
      "cell_type": "markdown",
      "metadata": {
        "id": "fz8AkWcNC9Wi"
      },
      "source": [
        "Now the label column is the status_group column as that is what we have to predict."
      ]
    },
    {
      "cell_type": "code",
      "metadata": {
        "id": "kIk4dp24AAey"
      },
      "source": [
        "train_label = df_train['status_group']"
      ],
      "execution_count": null,
      "outputs": []
    },
    {
      "cell_type": "code",
      "metadata": {
        "colab": {
          "base_uri": "https://localhost:8080/"
        },
        "id": "t5oHimbrA6F2",
        "outputId": "a49cf2d2-e615-4da2-cc9b-4e185a17c4ce"
      },
      "source": [
        "train_label.value_counts()"
      ],
      "execution_count": null,
      "outputs": [
        {
          "output_type": "execute_result",
          "data": {
            "text/plain": [
              "functional                 24194\n",
              "non functional             17118\n",
              "functional needs repair     3238\n",
              "Name: status_group, dtype: int64"
            ]
          },
          "metadata": {
            "tags": []
          },
          "execution_count": 9
        }
      ]
    },
    {
      "cell_type": "code",
      "metadata": {
        "colab": {
          "base_uri": "https://localhost:8080/",
          "height": 353
        },
        "id": "J9-0gvXzxZEO",
        "outputId": "acbeb70b-42dd-45b8-9924-2ecb78926eaa"
      },
      "source": [
        "sns.countplot(train_label)"
      ],
      "execution_count": null,
      "outputs": [
        {
          "output_type": "stream",
          "text": [
            "/usr/local/lib/python3.7/dist-packages/seaborn/_decorators.py:43: FutureWarning: Pass the following variable as a keyword arg: x. From version 0.12, the only valid positional argument will be `data`, and passing other arguments without an explicit keyword will result in an error or misinterpretation.\n",
            "  FutureWarning\n"
          ],
          "name": "stderr"
        },
        {
          "output_type": "execute_result",
          "data": {
            "text/plain": [
              "<matplotlib.axes._subplots.AxesSubplot at 0x7fafb26eb750>"
            ]
          },
          "metadata": {
            "tags": []
          },
          "execution_count": 10
        },
        {
          "output_type": "display_data",
          "data": {
            "image/png": "[encoded data removed]",
            "text/plain": [
              "<Figure size 432x288 with 1 Axes>"
            ]
          },
          "metadata": {
            "tags": [],
            "needs_background": "light"
          }
        }
      ]
    },
    {
      "cell_type": "code",
      "metadata": {
        "colab": {
          "base_uri": "https://localhost:8080/"
        },
        "id": "I3SWIHtjxkdC",
        "outputId": "f67b9122-d8c2-42e1-a2ac-067f65e37921"
      },
      "source": [
        "train_label.value_counts()/len(train_label)"
      ],
      "execution_count": null,
      "outputs": [
        {
          "output_type": "execute_result",
          "data": {
            "text/plain": [
              "functional                 0.543075\n",
              "non functional             0.384242\n",
              "functional needs repair    0.072682\n",
              "Name: status_group, dtype: float64"
            ]
          },
          "metadata": {
            "tags": []
          },
          "execution_count": 11
        }
      ]
    },
    {
      "cell_type": "markdown",
      "metadata": {
        "id": "QplhPoQRykKb"
      },
      "source": [
        "#Hypothesis"
      ]
    },
    {
      "cell_type": "markdown",
      "metadata": {
        "id": "UUvW3tQ9DYeW"
      },
      "source": [
        "**We can see from above that the % of functional, non functional and functional needs repair is 54%, 38% and 7.2% respectively. And this should be our hypothesis that when we finally predict on testing data we get these kind of percentages.**"
      ]
    },
    {
      "cell_type": "markdown",
      "metadata": {
        "id": "kujQhVsGDcP0"
      },
      "source": [
        "mapping each label to a number so that calculations will be easy. and also we will be needing it to plot the pivot table as there are lot object type datas. "
      ]
    },
    {
      "cell_type": "code",
      "metadata": {
        "id": "bedIvS-18v4i"
      },
      "source": [
        "status_vals = {'functional':2, 'functional needs repair':1, 'non functional':0}\n",
        "df_train['status_values']  = df_train.status_group.replace(status_vals)"
      ],
      "execution_count": null,
      "outputs": []
    },
    {
      "cell_type": "code",
      "metadata": {
        "colab": {
          "base_uri": "https://localhost:8080/",
          "height": 317
        },
        "id": "-q--mYJiTdm1",
        "outputId": "d951b637-fadf-460e-b6aa-98c6a0abf20b"
      },
      "source": [
        "df_train.head()"
      ],
      "execution_count": null,
      "outputs": [
        {
          "output_type": "execute_result",
          "data": {
            "text/html": [
              "<div>\n",
              "<style scoped>\n",
              "    .dataframe tbody tr th:only-of-type {\n",
              "        vertical-align: middle;\n",
              "    }\n",
              "\n",
              "    .dataframe tbody tr th {\n",
              "        vertical-align: top;\n",
              "    }\n",
              "\n",
              "    .dataframe thead th {\n",
              "        text-align: right;\n",
              "    }\n",
              "</style>\n",
              "<table border=\"1\" class=\"dataframe\">\n",
              "  <thead>\n",
              "    <tr style=\"text-align: right;\">\n",
              "      <th></th>\n",
              "      <th>amount_tsh</th>\n",
              "      <th>date_recorded</th>\n",
              "      <th>funder</th>\n",
              "      <th>gps_height</th>\n",
              "      <th>installer</th>\n",
              "      <th>longitude</th>\n",
              "      <th>latitude</th>\n",
              "      <th>basin</th>\n",
              "      <th>subvillage</th>\n",
              "      <th>region_code</th>\n",
              "      <th>district_code</th>\n",
              "      <th>population</th>\n",
              "      <th>public_meeting</th>\n",
              "      <th>scheme_management</th>\n",
              "      <th>scheme_name</th>\n",
              "      <th>permit</th>\n",
              "      <th>construction_year</th>\n",
              "      <th>extraction_type</th>\n",
              "      <th>management_group</th>\n",
              "      <th>payment_type</th>\n",
              "      <th>water_quality</th>\n",
              "      <th>quantity_group</th>\n",
              "      <th>source_type</th>\n",
              "      <th>source_class</th>\n",
              "      <th>waterpoint_type</th>\n",
              "      <th>waterpoint_type_group</th>\n",
              "      <th>status_group</th>\n",
              "      <th>status_values</th>\n",
              "    </tr>\n",
              "  </thead>\n",
              "  <tbody>\n",
              "    <tr>\n",
              "      <th>0</th>\n",
              "      <td>7.0</td>\n",
              "      <td>2013-03-20</td>\n",
              "      <td>Germany Republi</td>\n",
              "      <td>1203</td>\n",
              "      <td>CES</td>\n",
              "      <td>37.228664</td>\n",
              "      <td>-3.256505</td>\n",
              "      <td>Pangani</td>\n",
              "      <td>Mafurini</td>\n",
              "      <td>3</td>\n",
              "      <td>5</td>\n",
              "      <td>90</td>\n",
              "      <td>True</td>\n",
              "      <td>Water Board</td>\n",
              "      <td>Machame water supply</td>\n",
              "      <td>True</td>\n",
              "      <td>2008</td>\n",
              "      <td>gravity</td>\n",
              "      <td>user-group</td>\n",
              "      <td>per bucket</td>\n",
              "      <td>soft</td>\n",
              "      <td>enough</td>\n",
              "      <td>spring</td>\n",
              "      <td>groundwater</td>\n",
              "      <td>communal standpipe</td>\n",
              "      <td>communal standpipe</td>\n",
              "      <td>functional</td>\n",
              "      <td>2</td>\n",
              "    </tr>\n",
              "    <tr>\n",
              "      <th>1</th>\n",
              "      <td>0.0</td>\n",
              "      <td>2011-02-21</td>\n",
              "      <td>Cdtf</td>\n",
              "      <td>1409</td>\n",
              "      <td>CDTF</td>\n",
              "      <td>34.615481</td>\n",
              "      <td>-9.972601</td>\n",
              "      <td>Lake Nyasa</td>\n",
              "      <td>Ituni</td>\n",
              "      <td>11</td>\n",
              "      <td>5</td>\n",
              "      <td>70</td>\n",
              "      <td>False</td>\n",
              "      <td>Private operator</td>\n",
              "      <td>Mgowel</td>\n",
              "      <td>False</td>\n",
              "      <td>1984</td>\n",
              "      <td>gravity</td>\n",
              "      <td>commercial</td>\n",
              "      <td>never pay</td>\n",
              "      <td>soft</td>\n",
              "      <td>enough</td>\n",
              "      <td>spring</td>\n",
              "      <td>groundwater</td>\n",
              "      <td>communal standpipe</td>\n",
              "      <td>communal standpipe</td>\n",
              "      <td>functional</td>\n",
              "      <td>2</td>\n",
              "    </tr>\n",
              "    <tr>\n",
              "      <th>2</th>\n",
              "      <td>0.0</td>\n",
              "      <td>2013-01-04</td>\n",
              "      <td>Government Of Tanzania</td>\n",
              "      <td>1572</td>\n",
              "      <td>DWE</td>\n",
              "      <td>36.658778</td>\n",
              "      <td>-3.321529</td>\n",
              "      <td>Pangani</td>\n",
              "      <td>Melebuki</td>\n",
              "      <td>2</td>\n",
              "      <td>2</td>\n",
              "      <td>150</td>\n",
              "      <td>True</td>\n",
              "      <td>VWC</td>\n",
              "      <td>Saitero olosaita pipe line</td>\n",
              "      <td>True</td>\n",
              "      <td>2002</td>\n",
              "      <td>gravity</td>\n",
              "      <td>user-group</td>\n",
              "      <td>never pay</td>\n",
              "      <td>soft</td>\n",
              "      <td>insufficient</td>\n",
              "      <td>spring</td>\n",
              "      <td>groundwater</td>\n",
              "      <td>communal standpipe</td>\n",
              "      <td>communal standpipe</td>\n",
              "      <td>non functional</td>\n",
              "      <td>0</td>\n",
              "    </tr>\n",
              "    <tr>\n",
              "      <th>3</th>\n",
              "      <td>0.0</td>\n",
              "      <td>2011-04-03</td>\n",
              "      <td>District Council</td>\n",
              "      <td>0</td>\n",
              "      <td>District Council</td>\n",
              "      <td>33.628025</td>\n",
              "      <td>-8.860795</td>\n",
              "      <td>Rufiji</td>\n",
              "      <td>Darajani</td>\n",
              "      <td>12</td>\n",
              "      <td>2</td>\n",
              "      <td>0</td>\n",
              "      <td>True</td>\n",
              "      <td>VWC</td>\n",
              "      <td>NaN</td>\n",
              "      <td>True</td>\n",
              "      <td>0</td>\n",
              "      <td>gravity</td>\n",
              "      <td>user-group</td>\n",
              "      <td>annually</td>\n",
              "      <td>soft</td>\n",
              "      <td>insufficient</td>\n",
              "      <td>river/lake</td>\n",
              "      <td>surface</td>\n",
              "      <td>communal standpipe</td>\n",
              "      <td>communal standpipe</td>\n",
              "      <td>functional</td>\n",
              "      <td>2</td>\n",
              "    </tr>\n",
              "    <tr>\n",
              "      <th>4</th>\n",
              "      <td>300.0</td>\n",
              "      <td>2013-03-08</td>\n",
              "      <td>District Council</td>\n",
              "      <td>1283</td>\n",
              "      <td>District Council</td>\n",
              "      <td>37.655509</td>\n",
              "      <td>-3.669777</td>\n",
              "      <td>Pangani</td>\n",
              "      <td>Mwira A</td>\n",
              "      <td>3</td>\n",
              "      <td>2</td>\n",
              "      <td>34</td>\n",
              "      <td>True</td>\n",
              "      <td>VWC</td>\n",
              "      <td>Churu water supply</td>\n",
              "      <td>False</td>\n",
              "      <td>2007</td>\n",
              "      <td>gravity</td>\n",
              "      <td>user-group</td>\n",
              "      <td>monthly</td>\n",
              "      <td>soft</td>\n",
              "      <td>insufficient</td>\n",
              "      <td>spring</td>\n",
              "      <td>groundwater</td>\n",
              "      <td>communal standpipe</td>\n",
              "      <td>communal standpipe</td>\n",
              "      <td>functional</td>\n",
              "      <td>2</td>\n",
              "    </tr>\n",
              "  </tbody>\n",
              "</table>\n",
              "</div>"
            ],
            "text/plain": [
              "   amount_tsh date_recorded  ...    status_group  status_values\n",
              "0         7.0    2013-03-20  ...      functional              2\n",
              "1         0.0    2011-02-21  ...      functional              2\n",
              "2         0.0    2013-01-04  ...  non functional              0\n",
              "3         0.0    2011-04-03  ...      functional              2\n",
              "4       300.0    2013-03-08  ...      functional              2\n",
              "\n",
              "[5 rows x 28 columns]"
            ]
          },
          "metadata": {
            "tags": []
          },
          "execution_count": 13
        }
      ]
    },
    {
      "cell_type": "markdown",
      "metadata": {
        "id": "knmXZ0JEElGf"
      },
      "source": [
        "Now we will start treating the training data by columns starting from funder column"
      ]
    },
    {
      "cell_type": "markdown",
      "metadata": {
        "id": "swzGIZavDnAx"
      },
      "source": [
        "We will keep the top 10 values based on frequency and will assign the rest to 11th synthetic value. same we will do for all the columns with high variety."
      ]
    },
    {
      "cell_type": "code",
      "metadata": {
        "id": "Skjs4-TTUIdi"
      },
      "source": [
        " def funder_cl(row):  \n",
        "    if row['funder']=='Government Of Tanzania':\n",
        "        return 'gov'\n",
        "    elif row['funder']=='Danida':\n",
        "        return 'danida'\n",
        "    elif row['funder']=='Hesawa':\n",
        "        return 'hesawa'\n",
        "    elif row['funder']=='Rwssp':\n",
        "        return 'rwssp'\n",
        "    elif row['funder']=='World Bank':\n",
        "        return 'world_bank'    \n",
        "    elif row['funder']=='Kkkt':\n",
        "        return 'Kkkt'\n",
        "    elif row['funder']=='World Vision':\n",
        "        return 'World Vision'\n",
        "    elif row['funder']=='Unicef':\n",
        "        return 'Unicef'\n",
        "    elif row['funder']=='Tasaf':\n",
        "        return 'Tasaf'\n",
        "    elif row['funder']=='District Council':\n",
        "        return 'District Council'\n",
        "    else:\n",
        "        return 'other'\n",
        "    \n",
        "df_train['funder'] = df_train.apply(lambda row: funder_cl(row), axis=1)"
      ],
      "execution_count": null,
      "outputs": []
    },
    {
      "cell_type": "code",
      "metadata": {
        "colab": {
          "base_uri": "https://localhost:8080/",
          "height": 437
        },
        "id": "L3GfFWpgUYYv",
        "outputId": "13c14f3f-09c6-42c5-a312-b8b2ffe45fd9"
      },
      "source": [
        "pivot_table = pd.pivot_table(df_train,index=['funder', 'status_group'],\n",
        "                           values='status_values', aggfunc='count')\n",
        "pivot_table\n",
        "pivot_df= df_train[['funder','status_group','status_values']]\n",
        "pivot_table = pivot_df.pivot_table(index='funder',\n",
        "                           columns='status_group', aggfunc='count')\n",
        "pivot_table"
      ],
      "execution_count": null,
      "outputs": [
        {
          "output_type": "execute_result",
          "data": {
            "text/html": [
              "<div>\n",
              "<style scoped>\n",
              "    .dataframe tbody tr th:only-of-type {\n",
              "        vertical-align: middle;\n",
              "    }\n",
              "\n",
              "    .dataframe tbody tr th {\n",
              "        vertical-align: top;\n",
              "    }\n",
              "\n",
              "    .dataframe thead tr th {\n",
              "        text-align: left;\n",
              "    }\n",
              "\n",
              "    .dataframe thead tr:last-of-type th {\n",
              "        text-align: right;\n",
              "    }\n",
              "</style>\n",
              "<table border=\"1\" class=\"dataframe\">\n",
              "  <thead>\n",
              "    <tr>\n",
              "      <th></th>\n",
              "      <th colspan=\"3\" halign=\"left\">status_values</th>\n",
              "    </tr>\n",
              "    <tr>\n",
              "      <th>status_group</th>\n",
              "      <th>functional</th>\n",
              "      <th>functional needs repair</th>\n",
              "      <th>non functional</th>\n",
              "    </tr>\n",
              "    <tr>\n",
              "      <th>funder</th>\n",
              "      <th></th>\n",
              "      <th></th>\n",
              "      <th></th>\n",
              "    </tr>\n",
              "  </thead>\n",
              "  <tbody>\n",
              "    <tr>\n",
              "      <th>District Council</th>\n",
              "      <td>294</td>\n",
              "      <td>35</td>\n",
              "      <td>326</td>\n",
              "    </tr>\n",
              "    <tr>\n",
              "      <th>Kkkt</th>\n",
              "      <td>529</td>\n",
              "      <td>55</td>\n",
              "      <td>380</td>\n",
              "    </tr>\n",
              "    <tr>\n",
              "      <th>Tasaf</th>\n",
              "      <td>365</td>\n",
              "      <td>53</td>\n",
              "      <td>247</td>\n",
              "    </tr>\n",
              "    <tr>\n",
              "      <th>Unicef</th>\n",
              "      <td>467</td>\n",
              "      <td>71</td>\n",
              "      <td>270</td>\n",
              "    </tr>\n",
              "    <tr>\n",
              "      <th>World Vision</th>\n",
              "      <td>545</td>\n",
              "      <td>99</td>\n",
              "      <td>280</td>\n",
              "    </tr>\n",
              "    <tr>\n",
              "      <th>danida</th>\n",
              "      <td>1282</td>\n",
              "      <td>119</td>\n",
              "      <td>961</td>\n",
              "    </tr>\n",
              "    <tr>\n",
              "      <th>gov</th>\n",
              "      <td>2781</td>\n",
              "      <td>519</td>\n",
              "      <td>3480</td>\n",
              "    </tr>\n",
              "    <tr>\n",
              "      <th>hesawa</th>\n",
              "      <td>692</td>\n",
              "      <td>180</td>\n",
              "      <td>767</td>\n",
              "    </tr>\n",
              "    <tr>\n",
              "      <th>other</th>\n",
              "      <td>16231</td>\n",
              "      <td>1954</td>\n",
              "      <td>9574</td>\n",
              "    </tr>\n",
              "    <tr>\n",
              "      <th>rwssp</th>\n",
              "      <td>609</td>\n",
              "      <td>80</td>\n",
              "      <td>343</td>\n",
              "    </tr>\n",
              "    <tr>\n",
              "      <th>world_bank</th>\n",
              "      <td>399</td>\n",
              "      <td>73</td>\n",
              "      <td>490</td>\n",
              "    </tr>\n",
              "  </tbody>\n",
              "</table>\n",
              "</div>"
            ],
            "text/plain": [
              "                 status_values                                       \n",
              "status_group        functional functional needs repair non functional\n",
              "funder                                                               \n",
              "District Council           294                      35            326\n",
              "Kkkt                       529                      55            380\n",
              "Tasaf                      365                      53            247\n",
              "Unicef                     467                      71            270\n",
              "World Vision               545                      99            280\n",
              "danida                    1282                     119            961\n",
              "gov                       2781                     519           3480\n",
              "hesawa                     692                     180            767\n",
              "other                    16231                    1954           9574\n",
              "rwssp                      609                      80            343\n",
              "world_bank                 399                      73            490"
            ]
          },
          "metadata": {
            "tags": []
          },
          "execution_count": 15
        }
      ]
    },
    {
      "cell_type": "code",
      "metadata": {
        "colab": {
          "base_uri": "https://localhost:8080/",
          "height": 571
        },
        "id": "j24yqH3UUwTI",
        "outputId": "700b1e82-98a9-46bd-af4d-49d4caf1721e"
      },
      "source": [
        "a4_dims = (12, 9)\n",
        "fig, ax = pyplot.subplots(figsize=a4_dims)\n",
        "sns.heatmap(pivot_table, cmap = 'GnBu')"
      ],
      "execution_count": null,
      "outputs": [
        {
          "output_type": "execute_result",
          "data": {
            "text/plain": [
              "<matplotlib.axes._subplots.AxesSubplot at 0x7fafb2676e10>"
            ]
          },
          "metadata": {
            "tags": []
          },
          "execution_count": 16
        },
        {
          "output_type": "display_data",
          "data": {
            "image/png": "[encoded data removed]",
            "text/plain": [
              "<Figure size 864x648 with 2 Axes>"
            ]
          },
          "metadata": {
            "tags": [],
            "needs_background": "light"
          }
        }
      ]
    },
    {
      "cell_type": "code",
      "metadata": {
        "id": "p3N5PZqLU4L2"
      },
      "source": [
        ""
      ],
      "execution_count": null,
      "outputs": []
    },
    {
      "cell_type": "code",
      "metadata": {
        "id": "nJdd79FIU4fU"
      },
      "source": [
        ""
      ],
      "execution_count": null,
      "outputs": []
    },
    {
      "cell_type": "code",
      "metadata": {
        "colab": {
          "base_uri": "https://localhost:8080/"
        },
        "id": "4hLEeDtzU6Y6",
        "outputId": "28d655d3-15df-4491-8a5d-5fcb4340a1f8"
      },
      "source": [
        "df_train.installer.value_counts().head(10)"
      ],
      "execution_count": null,
      "outputs": [
        {
          "output_type": "execute_result",
          "data": {
            "text/plain": [
              "DWE                   13005\n",
              "Government             1365\n",
              "RWE                     876\n",
              "Commu                   806\n",
              "DANIDA                  788\n",
              "KKKT                    681\n",
              "Hesawa                  622\n",
              "0                       572\n",
              "TCRS                    537\n",
              "Central government      504\n",
              "Name: installer, dtype: int64"
            ]
          },
          "metadata": {
            "tags": []
          },
          "execution_count": 17
        }
      ]
    },
    {
      "cell_type": "code",
      "metadata": {
        "id": "YD-Ci4o9VCb7"
      },
      "source": [
        "def installer_cl(row):\n",
        "    if row['installer']=='DWE':\n",
        "        return 'dwe'\n",
        "    elif row['installer']=='Government':\n",
        "        return 'gov'\n",
        "    elif row['installer']=='RWE':\n",
        "        return 'rwe'\n",
        "    elif row['installer']=='Commu':\n",
        "        return 'commu'\n",
        "    elif row['installer']=='DANIDA':\n",
        "        return 'danida'\n",
        "    elif row['installer']=='KKKT':\n",
        "        return 'kkkt'\n",
        "    elif row['installer']=='Hesawa':\n",
        "        return 'hesawa'\n",
        "    elif row['installer']=='TCRS':\n",
        "        return 'tcrs'\n",
        "    elif row['installer']=='Central government':\n",
        "        return 'Central government'\n",
        "    else:\n",
        "        return 'other'  \n",
        "df_train['installer'] = df_train.apply(lambda row: installer_cl(row), axis=1)"
      ],
      "execution_count": null,
      "outputs": []
    },
    {
      "cell_type": "code",
      "metadata": {
        "colab": {
          "base_uri": "https://localhost:8080/",
          "height": 421
        },
        "id": "dMzEgWDuVRab",
        "outputId": "0bf90252-6e7e-448c-ee3b-ee413288a2a3"
      },
      "source": [
        "pivot_df= df_train[['installer','status_group','status_values']]\n",
        "pivot_table = pivot_df.pivot_table(index='installer',\n",
        "                           columns='status_group', aggfunc='count')\n",
        "pivot_table"
      ],
      "execution_count": null,
      "outputs": [
        {
          "output_type": "execute_result",
          "data": {
            "text/html": [
              "<div>\n",
              "<style scoped>\n",
              "    .dataframe tbody tr th:only-of-type {\n",
              "        vertical-align: middle;\n",
              "    }\n",
              "\n",
              "    .dataframe tbody tr th {\n",
              "        vertical-align: top;\n",
              "    }\n",
              "\n",
              "    .dataframe thead tr th {\n",
              "        text-align: left;\n",
              "    }\n",
              "\n",
              "    .dataframe thead tr:last-of-type th {\n",
              "        text-align: right;\n",
              "    }\n",
              "</style>\n",
              "<table border=\"1\" class=\"dataframe\">\n",
              "  <thead>\n",
              "    <tr>\n",
              "      <th></th>\n",
              "      <th colspan=\"3\" halign=\"left\">status_values</th>\n",
              "    </tr>\n",
              "    <tr>\n",
              "      <th>status_group</th>\n",
              "      <th>functional</th>\n",
              "      <th>functional needs repair</th>\n",
              "      <th>non functional</th>\n",
              "    </tr>\n",
              "    <tr>\n",
              "      <th>installer</th>\n",
              "      <th></th>\n",
              "      <th></th>\n",
              "      <th></th>\n",
              "    </tr>\n",
              "  </thead>\n",
              "  <tbody>\n",
              "    <tr>\n",
              "      <th>Central government</th>\n",
              "      <td>120</td>\n",
              "      <td>4</td>\n",
              "      <td>380</td>\n",
              "    </tr>\n",
              "    <tr>\n",
              "      <th>commu</th>\n",
              "      <td>546</td>\n",
              "      <td>27</td>\n",
              "      <td>233</td>\n",
              "    </tr>\n",
              "    <tr>\n",
              "      <th>danida</th>\n",
              "      <td>404</td>\n",
              "      <td>64</td>\n",
              "      <td>320</td>\n",
              "    </tr>\n",
              "    <tr>\n",
              "      <th>dwe</th>\n",
              "      <td>7049</td>\n",
              "      <td>1199</td>\n",
              "      <td>4757</td>\n",
              "    </tr>\n",
              "    <tr>\n",
              "      <th>gov</th>\n",
              "      <td>413</td>\n",
              "      <td>195</td>\n",
              "      <td>757</td>\n",
              "    </tr>\n",
              "    <tr>\n",
              "      <th>hesawa</th>\n",
              "      <td>348</td>\n",
              "      <td>14</td>\n",
              "      <td>260</td>\n",
              "    </tr>\n",
              "    <tr>\n",
              "      <th>kkkt</th>\n",
              "      <td>311</td>\n",
              "      <td>51</td>\n",
              "      <td>319</td>\n",
              "    </tr>\n",
              "    <tr>\n",
              "      <th>other</th>\n",
              "      <td>14552</td>\n",
              "      <td>1551</td>\n",
              "      <td>9263</td>\n",
              "    </tr>\n",
              "    <tr>\n",
              "      <th>rwe</th>\n",
              "      <td>229</td>\n",
              "      <td>99</td>\n",
              "      <td>548</td>\n",
              "    </tr>\n",
              "    <tr>\n",
              "      <th>tcrs</th>\n",
              "      <td>222</td>\n",
              "      <td>34</td>\n",
              "      <td>281</td>\n",
              "    </tr>\n",
              "  </tbody>\n",
              "</table>\n",
              "</div>"
            ],
            "text/plain": [
              "                   status_values                                       \n",
              "status_group          functional functional needs repair non functional\n",
              "installer                                                              \n",
              "Central government           120                       4            380\n",
              "commu                        546                      27            233\n",
              "danida                       404                      64            320\n",
              "dwe                         7049                    1199           4757\n",
              "gov                          413                     195            757\n",
              "hesawa                       348                      14            260\n",
              "kkkt                         311                      51            319\n",
              "other                      14552                    1551           9263\n",
              "rwe                          229                      99            548\n",
              "tcrs                         222                      34            281"
            ]
          },
          "metadata": {
            "tags": []
          },
          "execution_count": 19
        }
      ]
    },
    {
      "cell_type": "code",
      "metadata": {
        "colab": {
          "base_uri": "https://localhost:8080/",
          "height": 553
        },
        "id": "1wGCTkOPVeGq",
        "outputId": "232489a0-3bea-44de-f5d0-8ab10aa07d6e"
      },
      "source": [
        "fig, ax = pyplot.subplots(figsize=a4_dims)\n",
        "ax = sns.heatmap(pivot_table, cmap='GnBu')"
      ],
      "execution_count": null,
      "outputs": [
        {
          "output_type": "display_data",
          "data": {
            "image/png": "[encoded data removed]",
            "text/plain": [
              "<Figure size 864x648 with 2 Axes>"
            ]
          },
          "metadata": {
            "tags": [],
            "needs_background": "light"
          }
        }
      ]
    },
    {
      "cell_type": "code",
      "metadata": {
        "colab": {
          "base_uri": "https://localhost:8080/"
        },
        "id": "R-oqyWQgV5Zt",
        "outputId": "99387bf1-062b-4f40-9b7d-8608b17afc1d"
      },
      "source": [
        "df_train.subvillage.value_counts().head(10)"
      ],
      "execution_count": null,
      "outputs": [
        {
          "output_type": "execute_result",
          "data": {
            "text/plain": [
              "Madukani    403\n",
              "Majengo     391\n",
              "Shuleni     380\n",
              "Kati        274\n",
              "Mtakuja     187\n",
              "Sokoni      171\n",
              "M           139\n",
              "Muungano    120\n",
              "Mbuyuni     119\n",
              "Mlimani     115\n",
              "Name: subvillage, dtype: int64"
            ]
          },
          "metadata": {
            "tags": []
          },
          "execution_count": 21
        }
      ]
    },
    {
      "cell_type": "markdown",
      "metadata": {
        "id": "VBs2BwR7Flb7"
      },
      "source": [
        "there are very less values present we will fill the remaining as other."
      ]
    },
    {
      "cell_type": "code",
      "metadata": {
        "id": "py-uosOGV--A"
      },
      "source": [
        "df_train.subvillage = df_train.subvillage.fillna('other')"
      ],
      "execution_count": null,
      "outputs": []
    },
    {
      "cell_type": "code",
      "metadata": {
        "id": "S3r0H_aCWKsq"
      },
      "source": [
        ""
      ],
      "execution_count": null,
      "outputs": []
    },
    {
      "cell_type": "code",
      "metadata": {
        "colab": {
          "base_uri": "https://localhost:8080/"
        },
        "id": "p8ipDW4jWLCK",
        "outputId": "12b3f0b3-91bf-438d-c33a-2f3146fcecba"
      },
      "source": [
        "df_train.public_meeting.value_counts()"
      ],
      "execution_count": null,
      "outputs": [
        {
          "output_type": "execute_result",
          "data": {
            "text/plain": [
              "True     38212\n",
              "False     3847\n",
              "Name: public_meeting, dtype: int64"
            ]
          },
          "metadata": {
            "tags": []
          },
          "execution_count": 23
        }
      ]
    },
    {
      "cell_type": "markdown",
      "metadata": {
        "id": "ot8d1RejFwZg"
      },
      "source": [
        "as there are only two values we will fill the missing one as unknown"
      ]
    },
    {
      "cell_type": "code",
      "metadata": {
        "id": "XOhjq6A0WSdf"
      },
      "source": [
        "df_train.public_meeting = df_train.public_meeting.fillna('Unknown')"
      ],
      "execution_count": null,
      "outputs": []
    },
    {
      "cell_type": "code",
      "metadata": {
        "colab": {
          "base_uri": "https://localhost:8080/"
        },
        "id": "zvtjfXs6WdCh",
        "outputId": "f5e5a81a-1479-4c3f-9c9b-16410491c43b"
      },
      "source": [
        "df_train.scheme_management.value_counts()"
      ],
      "execution_count": null,
      "outputs": [
        {
          "output_type": "execute_result",
          "data": {
            "text/plain": [
              "VWC                 27651\n",
              "WUG                  3906\n",
              "Water authority      2361\n",
              "WUA                  2166\n",
              "Water Board          2078\n",
              "Parastatal           1272\n",
              "Private operator      792\n",
              "Company               790\n",
              "Other                 575\n",
              "SWC                    69\n",
              "Trust                  57\n",
              "None                    1\n",
              "Name: scheme_management, dtype: int64"
            ]
          },
          "metadata": {
            "tags": []
          },
          "execution_count": 25
        }
      ]
    },
    {
      "cell_type": "code",
      "metadata": {
        "id": "wPNITd1DWlAr"
      },
      "source": [
        " def scheme_cl(row):\n",
        "    if row['scheme_management']=='VWC':\n",
        "        return 'vwc'\n",
        "    elif row['scheme_management']=='WUG':\n",
        "        return 'wug'\n",
        "    elif row['scheme_management']=='Water authority':\n",
        "        return 'wtr_auth'\n",
        "    elif row['scheme_management']=='WUA':\n",
        "        return 'wua'\n",
        "    elif row['scheme_management']=='Water Board':\n",
        "        return 'wtr_brd'\n",
        "    elif row['scheme_management']=='Parastatal':\n",
        "        return 'Parastatal'\n",
        "    elif row['scheme_management']=='Private operator':\n",
        "        return 'pri_optr'\n",
        "    elif row['scheme_management']=='SWC':\n",
        "        return 'swc'\n",
        "    elif row['scheme_management']=='Company':\n",
        "        return 'company'\n",
        "    elif row['scheme_management']=='Trust':\n",
        "        return 'trust'\n",
        "    else:\n",
        "        return 'other'\n",
        "df_train['scheme_management'] = df_train.apply(lambda row: scheme_cl(row), axis=1)"
      ],
      "execution_count": null,
      "outputs": []
    },
    {
      "cell_type": "code",
      "metadata": {
        "colab": {
          "base_uri": "https://localhost:8080/",
          "height": 437
        },
        "id": "6Y4Ior8KWvFO",
        "outputId": "6b262d29-0c58-4c5a-b2e5-b60e97f89d63"
      },
      "source": [
        "pivot_df= df_train[['scheme_management','status_group','status_values']]\n",
        "pivot_table = pivot_df.pivot_table(index='scheme_management',\n",
        "                           columns='status_group', aggfunc='count')\n",
        "pivot_table"
      ],
      "execution_count": null,
      "outputs": [
        {
          "output_type": "execute_result",
          "data": {
            "text/html": [
              "<div>\n",
              "<style scoped>\n",
              "    .dataframe tbody tr th:only-of-type {\n",
              "        vertical-align: middle;\n",
              "    }\n",
              "\n",
              "    .dataframe tbody tr th {\n",
              "        vertical-align: top;\n",
              "    }\n",
              "\n",
              "    .dataframe thead tr th {\n",
              "        text-align: left;\n",
              "    }\n",
              "\n",
              "    .dataframe thead tr:last-of-type th {\n",
              "        text-align: right;\n",
              "    }\n",
              "</style>\n",
              "<table border=\"1\" class=\"dataframe\">\n",
              "  <thead>\n",
              "    <tr>\n",
              "      <th></th>\n",
              "      <th colspan=\"3\" halign=\"left\">status_values</th>\n",
              "    </tr>\n",
              "    <tr>\n",
              "      <th>status_group</th>\n",
              "      <th>functional</th>\n",
              "      <th>functional needs repair</th>\n",
              "      <th>non functional</th>\n",
              "    </tr>\n",
              "    <tr>\n",
              "      <th>scheme_management</th>\n",
              "      <th></th>\n",
              "      <th></th>\n",
              "      <th></th>\n",
              "    </tr>\n",
              "  </thead>\n",
              "  <tbody>\n",
              "    <tr>\n",
              "      <th>Parastatal</th>\n",
              "      <td>735</td>\n",
              "      <td>151</td>\n",
              "      <td>386</td>\n",
              "    </tr>\n",
              "    <tr>\n",
              "      <th>company</th>\n",
              "      <td>401</td>\n",
              "      <td>27</td>\n",
              "      <td>362</td>\n",
              "    </tr>\n",
              "    <tr>\n",
              "      <th>other</th>\n",
              "      <td>1730</td>\n",
              "      <td>177</td>\n",
              "      <td>1501</td>\n",
              "    </tr>\n",
              "    <tr>\n",
              "      <th>pri_optr</th>\n",
              "      <td>542</td>\n",
              "      <td>16</td>\n",
              "      <td>234</td>\n",
              "    </tr>\n",
              "    <tr>\n",
              "      <th>swc</th>\n",
              "      <td>12</td>\n",
              "      <td>1</td>\n",
              "      <td>56</td>\n",
              "    </tr>\n",
              "    <tr>\n",
              "      <th>trust</th>\n",
              "      <td>35</td>\n",
              "      <td>5</td>\n",
              "      <td>17</td>\n",
              "    </tr>\n",
              "    <tr>\n",
              "      <th>vwc</th>\n",
              "      <td>14242</td>\n",
              "      <td>1777</td>\n",
              "      <td>11632</td>\n",
              "    </tr>\n",
              "    <tr>\n",
              "      <th>wtr_auth</th>\n",
              "      <td>1208</td>\n",
              "      <td>325</td>\n",
              "      <td>828</td>\n",
              "    </tr>\n",
              "    <tr>\n",
              "      <th>wtr_brd</th>\n",
              "      <td>1555</td>\n",
              "      <td>75</td>\n",
              "      <td>448</td>\n",
              "    </tr>\n",
              "    <tr>\n",
              "      <th>wua</th>\n",
              "      <td>1494</td>\n",
              "      <td>183</td>\n",
              "      <td>489</td>\n",
              "    </tr>\n",
              "    <tr>\n",
              "      <th>wug</th>\n",
              "      <td>2240</td>\n",
              "      <td>501</td>\n",
              "      <td>1165</td>\n",
              "    </tr>\n",
              "  </tbody>\n",
              "</table>\n",
              "</div>"
            ],
            "text/plain": [
              "                  status_values                                       \n",
              "status_group         functional functional needs repair non functional\n",
              "scheme_management                                                     \n",
              "Parastatal                  735                     151            386\n",
              "company                     401                      27            362\n",
              "other                      1730                     177           1501\n",
              "pri_optr                    542                      16            234\n",
              "swc                          12                       1             56\n",
              "trust                        35                       5             17\n",
              "vwc                       14242                    1777          11632\n",
              "wtr_auth                   1208                     325            828\n",
              "wtr_brd                    1555                      75            448\n",
              "wua                        1494                     183            489\n",
              "wug                        2240                     501           1165"
            ]
          },
          "metadata": {
            "tags": []
          },
          "execution_count": 27
        }
      ]
    },
    {
      "cell_type": "code",
      "metadata": {
        "colab": {
          "base_uri": "https://localhost:8080/",
          "height": 553
        },
        "id": "Wz4ys1PjW8me",
        "outputId": "110d7b27-141a-4834-b287-239b47fb6807"
      },
      "source": [
        "fig, ax = pyplot.subplots(figsize=a4_dims)\n",
        "ax = sns.heatmap(pivot_table, cmap='GnBu')"
      ],
      "execution_count": null,
      "outputs": [
        {
          "output_type": "display_data",
          "data": {
            "image/png": "[encoded data removed]",
            "text/plain": [
              "<Figure size 864x648 with 2 Axes>"
            ]
          },
          "metadata": {
            "tags": [],
            "needs_background": "light"
          }
        }
      ]
    },
    {
      "cell_type": "code",
      "metadata": {
        "colab": {
          "base_uri": "https://localhost:8080/"
        },
        "id": "et-_cDwQXGpR",
        "outputId": "85e35074-e75d-4062-ecde-2aafbadb408e"
      },
      "source": [
        "df_train.scheme_name.value_counts().head(10)"
      ],
      "execution_count": null,
      "outputs": [
        {
          "output_type": "execute_result",
          "data": {
            "text/plain": [
              "K                              528\n",
              "None                           494\n",
              "Borehole                       402\n",
              "M                              310\n",
              "Chalinze wate                  300\n",
              "DANIDA                         273\n",
              "Government                     238\n",
              "Ngana water supplied scheme    221\n",
              "wanging'ombe water supply s    186\n",
              "wanging'ombe supply scheme     182\n",
              "Name: scheme_name, dtype: int64"
            ]
          },
          "metadata": {
            "tags": []
          },
          "execution_count": 29
        }
      ]
    },
    {
      "cell_type": "markdown",
      "metadata": {
        "id": "Qi1T7a1OF7Q2"
      },
      "source": [
        "here also very less values are present we will fill the missing ones as other."
      ]
    },
    {
      "cell_type": "code",
      "metadata": {
        "id": "shoT6tlnXSjk"
      },
      "source": [
        "df_train.scheme_name = df_train.scheme_name.fillna('other')"
      ],
      "execution_count": null,
      "outputs": []
    },
    {
      "cell_type": "code",
      "metadata": {
        "id": "DsfeQvdcXpt9"
      },
      "source": [
        ""
      ],
      "execution_count": null,
      "outputs": []
    },
    {
      "cell_type": "code",
      "metadata": {
        "id": "a_aZd267XqLL"
      },
      "source": [
        ""
      ],
      "execution_count": null,
      "outputs": []
    },
    {
      "cell_type": "code",
      "metadata": {
        "id": "F0Bsgx24XriK"
      },
      "source": [
        " # changing the construction year to numeric value\n",
        "df_train.construction_year = pd.to_numeric(df_train.construction_year)"
      ],
      "execution_count": null,
      "outputs": []
    },
    {
      "cell_type": "markdown",
      "metadata": {
        "id": "-L1jzxbqGKek"
      },
      "source": [
        "Lets convert the construction year ctegorically to 60s, 70s,80s etc."
      ]
    },
    {
      "cell_type": "code",
      "metadata": {
        "id": "UEKbrNmFX0VD"
      },
      "source": [
        "def construction_cl(row):\n",
        "    if row['construction_year'] >= 1960 and row['construction_year'] < 1970:\n",
        "        return '60s'\n",
        "    elif row['construction_year'] >= 1970 and row['construction_year'] < 1980:\n",
        "        return '70s'\n",
        "    elif row['construction_year'] >= 1980 and row['construction_year'] < 1990:\n",
        "        return '80s'\n",
        "    elif row['construction_year'] >= 1990 and row['construction_year'] < 2000:\n",
        "        return '90s'\n",
        "    elif row['construction_year'] >= 2000 and row['construction_year'] < 2010:\n",
        "        return '00s'\n",
        "    elif row['construction_year'] >= 2010:\n",
        "        return '10s'\n",
        "    else:\n",
        "        return 'unknown'\n",
        "    \n",
        "df_train['construction_year'] = df_train.apply(lambda row: construction_cl(row), axis=1)"
      ],
      "execution_count": null,
      "outputs": []
    },
    {
      "cell_type": "code",
      "metadata": {
        "colab": {
          "base_uri": "https://localhost:8080/",
          "height": 317
        },
        "id": "gMeEod04X9KN",
        "outputId": "296bffad-b34a-4c07-cd2b-49654eb39e84"
      },
      "source": [
        "pivot_df= df_train[['construction_year','status_group','status_values']]\n",
        "pivot_table = pivot_df.pivot_table(index='construction_year',\n",
        "                           columns='status_group', aggfunc='count')\n",
        "pivot_table"
      ],
      "execution_count": null,
      "outputs": [
        {
          "output_type": "execute_result",
          "data": {
            "text/html": [
              "<div>\n",
              "<style scoped>\n",
              "    .dataframe tbody tr th:only-of-type {\n",
              "        vertical-align: middle;\n",
              "    }\n",
              "\n",
              "    .dataframe tbody tr th {\n",
              "        vertical-align: top;\n",
              "    }\n",
              "\n",
              "    .dataframe thead tr th {\n",
              "        text-align: left;\n",
              "    }\n",
              "\n",
              "    .dataframe thead tr:last-of-type th {\n",
              "        text-align: right;\n",
              "    }\n",
              "</style>\n",
              "<table border=\"1\" class=\"dataframe\">\n",
              "  <thead>\n",
              "    <tr>\n",
              "      <th></th>\n",
              "      <th colspan=\"3\" halign=\"left\">status_values</th>\n",
              "    </tr>\n",
              "    <tr>\n",
              "      <th>status_group</th>\n",
              "      <th>functional</th>\n",
              "      <th>functional needs repair</th>\n",
              "      <th>non functional</th>\n",
              "    </tr>\n",
              "    <tr>\n",
              "      <th>construction_year</th>\n",
              "      <th></th>\n",
              "      <th></th>\n",
              "      <th></th>\n",
              "    </tr>\n",
              "  </thead>\n",
              "  <tbody>\n",
              "    <tr>\n",
              "      <th>00s</th>\n",
              "      <td>7514</td>\n",
              "      <td>744</td>\n",
              "      <td>3282</td>\n",
              "    </tr>\n",
              "    <tr>\n",
              "      <th>10s</th>\n",
              "      <td>2836</td>\n",
              "      <td>164</td>\n",
              "      <td>860</td>\n",
              "    </tr>\n",
              "    <tr>\n",
              "      <th>60s</th>\n",
              "      <td>115</td>\n",
              "      <td>35</td>\n",
              "      <td>253</td>\n",
              "    </tr>\n",
              "    <tr>\n",
              "      <th>70s</th>\n",
              "      <td>1053</td>\n",
              "      <td>241</td>\n",
              "      <td>1974</td>\n",
              "    </tr>\n",
              "    <tr>\n",
              "      <th>80s</th>\n",
              "      <td>1704</td>\n",
              "      <td>304</td>\n",
              "      <td>2175</td>\n",
              "    </tr>\n",
              "    <tr>\n",
              "      <th>90s</th>\n",
              "      <td>3057</td>\n",
              "      <td>377</td>\n",
              "      <td>2221</td>\n",
              "    </tr>\n",
              "    <tr>\n",
              "      <th>unknown</th>\n",
              "      <td>7915</td>\n",
              "      <td>1373</td>\n",
              "      <td>6353</td>\n",
              "    </tr>\n",
              "  </tbody>\n",
              "</table>\n",
              "</div>"
            ],
            "text/plain": [
              "                  status_values                                       \n",
              "status_group         functional functional needs repair non functional\n",
              "construction_year                                                     \n",
              "00s                        7514                     744           3282\n",
              "10s                        2836                     164            860\n",
              "60s                         115                      35            253\n",
              "70s                        1053                     241           1974\n",
              "80s                        1704                     304           2175\n",
              "90s                        3057                     377           2221\n",
              "unknown                    7915                    1373           6353"
            ]
          },
          "metadata": {
            "tags": []
          },
          "execution_count": 33
        }
      ]
    },
    {
      "cell_type": "code",
      "metadata": {
        "colab": {
          "base_uri": "https://localhost:8080/",
          "height": 553
        },
        "id": "KhXHRAQVYNL7",
        "outputId": "a4ffec58-4fcf-4180-bb9e-45966e46e52c"
      },
      "source": [
        "fig, ax = pyplot.subplots(figsize=a4_dims)\n",
        "ax = sns.heatmap(pivot_table, cmap='GnBu')"
      ],
      "execution_count": null,
      "outputs": [
        {
          "output_type": "display_data",
          "data": {
            "image/png": "[encoded data removed]",
            "text/plain": [
              "<Figure size 864x648 with 2 Axes>"
            ]
          },
          "metadata": {
            "tags": [],
            "needs_background": "light"
          }
        }
      ]
    },
    {
      "cell_type": "markdown",
      "metadata": {
        "id": "Jv8jzq-_GdhO"
      },
      "source": [
        "as dates are given we will convert into days since recorded by subtracting al the dates from the most recent one."
      ]
    },
    {
      "cell_type": "code",
      "metadata": {
        "id": "RM8Ay7i-YZ7f"
      },
      "source": [
        " ## Converting the Month column into date time object.\n",
        "df_train['month']=pd.to_datetime(df_train.date_recorded).dt.month"
      ],
      "execution_count": null,
      "outputs": []
    },
    {
      "cell_type": "code",
      "metadata": {
        "colab": {
          "base_uri": "https://localhost:8080/"
        },
        "id": "r5oEDQ3iYyT_",
        "outputId": "56ebb55a-3ef2-4b73-995b-2a949a92090a"
      },
      "source": [
        "df_train.date_recorded = pd.to_datetime(df_train.date_recorded)\n",
        "df_train.date_recorded.describe()"
      ],
      "execution_count": null,
      "outputs": [
        {
          "output_type": "stream",
          "text": [
            "/usr/local/lib/python3.7/dist-packages/ipykernel_launcher.py:2: FutureWarning: Treating datetime data as categorical rather than numeric in `.describe` is deprecated and will be removed in a future version of pandas. Specify `datetime_is_numeric=True` to silence this warning and adopt the future behavior now.\n",
            "  \n"
          ],
          "name": "stderr"
        },
        {
          "output_type": "execute_result",
          "data": {
            "text/plain": [
              "count                   44550\n",
              "unique                    346\n",
              "top       2011-03-15 00:00:00\n",
              "freq                      423\n",
              "first     2002-10-14 00:00:00\n",
              "last      2013-12-03 00:00:00\n",
              "Name: date_recorded, dtype: object"
            ]
          },
          "metadata": {
            "tags": []
          },
          "execution_count": 36
        }
      ]
    },
    {
      "cell_type": "code",
      "metadata": {
        "colab": {
          "base_uri": "https://localhost:8080/"
        },
        "id": "K5AnA29-ZBp7",
        "outputId": "37a19448-d28c-4d0d-f684-4042fa7510fe"
      },
      "source": [
        "df_train.date_recorded = pd.datetime(2013, 12, 3) - pd.to_datetime(df_train.date_recorded)\n",
        "df_train.columns = ['days_since_recorded' if x=='date_recorded' else x for x in df_train.columns]\n",
        "df_train.days_since_recorded = df_train.days_since_recorded.astype('timedelta64[D]').astype(int)\n",
        "df_train.days_since_recorded.describe()"
      ],
      "execution_count": null,
      "outputs": [
        {
          "output_type": "stream",
          "text": [
            "/usr/local/lib/python3.7/dist-packages/ipykernel_launcher.py:1: FutureWarning: The pandas.datetime class is deprecated and will be removed from pandas in a future version. Import from datetime module instead.\n",
            "  \"\"\"Entry point for launching an IPython kernel.\n"
          ],
          "name": "stderr"
        },
        {
          "output_type": "execute_result",
          "data": {
            "text/plain": [
              "count    44550.000000\n",
              "mean       615.289809\n",
              "std        333.898570\n",
              "min          0.000000\n",
              "25%        297.000000\n",
              "50%        420.000000\n",
              "75%        977.000000\n",
              "max       4068.000000\n",
              "Name: days_since_recorded, dtype: float64"
            ]
          },
          "metadata": {
            "tags": []
          },
          "execution_count": 37
        }
      ]
    },
    {
      "cell_type": "code",
      "metadata": {
        "colab": {
          "base_uri": "https://localhost:8080/"
        },
        "id": "xbi8MJwEZZG4",
        "outputId": "ccd9f06a-231b-44a8-ddc3-38c62c174706"
      },
      "source": [
        "## basin\n",
        "df_train.basin.value_counts()"
      ],
      "execution_count": null,
      "outputs": [
        {
          "output_type": "execute_result",
          "data": {
            "text/plain": [
              "Lake Victoria              7623\n",
              "Pangani                    6703\n",
              "Rufiji                     6045\n",
              "Internal                   5855\n",
              "Lake Tanganyika            4775\n",
              "Wami / Ruvu                4430\n",
              "Lake Nyasa                 3902\n",
              "Ruvuma / Southern Coast    3381\n",
              "Lake Rukwa                 1836\n",
              "Name: basin, dtype: int64"
            ]
          },
          "metadata": {
            "tags": []
          },
          "execution_count": 38
        }
      ]
    },
    {
      "cell_type": "code",
      "metadata": {
        "colab": {
          "base_uri": "https://localhost:8080/",
          "height": 377
        },
        "id": "89o-JyE3ZgT-",
        "outputId": "af66960b-431a-4126-ce8d-d152a8fe9d0c"
      },
      "source": [
        "pivot_df= df_train[['basin','status_group','status_values']]\n",
        "pivot_table = pivot_df.pivot_table(index='basin',\n",
        "                           columns='status_group', aggfunc='count')\n",
        "pivot_table"
      ],
      "execution_count": null,
      "outputs": [
        {
          "output_type": "execute_result",
          "data": {
            "text/html": [
              "<div>\n",
              "<style scoped>\n",
              "    .dataframe tbody tr th:only-of-type {\n",
              "        vertical-align: middle;\n",
              "    }\n",
              "\n",
              "    .dataframe tbody tr th {\n",
              "        vertical-align: top;\n",
              "    }\n",
              "\n",
              "    .dataframe thead tr th {\n",
              "        text-align: left;\n",
              "    }\n",
              "\n",
              "    .dataframe thead tr:last-of-type th {\n",
              "        text-align: right;\n",
              "    }\n",
              "</style>\n",
              "<table border=\"1\" class=\"dataframe\">\n",
              "  <thead>\n",
              "    <tr>\n",
              "      <th></th>\n",
              "      <th colspan=\"3\" halign=\"left\">status_values</th>\n",
              "    </tr>\n",
              "    <tr>\n",
              "      <th>status_group</th>\n",
              "      <th>functional</th>\n",
              "      <th>functional needs repair</th>\n",
              "      <th>non functional</th>\n",
              "    </tr>\n",
              "    <tr>\n",
              "      <th>basin</th>\n",
              "      <th></th>\n",
              "      <th></th>\n",
              "      <th></th>\n",
              "    </tr>\n",
              "  </thead>\n",
              "  <tbody>\n",
              "    <tr>\n",
              "      <th>Internal</th>\n",
              "      <td>3379</td>\n",
              "      <td>420</td>\n",
              "      <td>2056</td>\n",
              "    </tr>\n",
              "    <tr>\n",
              "      <th>Lake Nyasa</th>\n",
              "      <td>2525</td>\n",
              "      <td>195</td>\n",
              "      <td>1182</td>\n",
              "    </tr>\n",
              "    <tr>\n",
              "      <th>Lake Rukwa</th>\n",
              "      <td>748</td>\n",
              "      <td>203</td>\n",
              "      <td>885</td>\n",
              "    </tr>\n",
              "    <tr>\n",
              "      <th>Lake Tanganyika</th>\n",
              "      <td>2318</td>\n",
              "      <td>545</td>\n",
              "      <td>1912</td>\n",
              "    </tr>\n",
              "    <tr>\n",
              "      <th>Lake Victoria</th>\n",
              "      <td>3793</td>\n",
              "      <td>741</td>\n",
              "      <td>3089</td>\n",
              "    </tr>\n",
              "    <tr>\n",
              "      <th>Pangani</th>\n",
              "      <td>4021</td>\n",
              "      <td>352</td>\n",
              "      <td>2330</td>\n",
              "    </tr>\n",
              "    <tr>\n",
              "      <th>Rufiji</th>\n",
              "      <td>3836</td>\n",
              "      <td>338</td>\n",
              "      <td>1871</td>\n",
              "    </tr>\n",
              "    <tr>\n",
              "      <th>Ruvuma / Southern Coast</th>\n",
              "      <td>1268</td>\n",
              "      <td>237</td>\n",
              "      <td>1876</td>\n",
              "    </tr>\n",
              "    <tr>\n",
              "      <th>Wami / Ruvu</th>\n",
              "      <td>2306</td>\n",
              "      <td>207</td>\n",
              "      <td>1917</td>\n",
              "    </tr>\n",
              "  </tbody>\n",
              "</table>\n",
              "</div>"
            ],
            "text/plain": [
              "                        status_values                                       \n",
              "status_group               functional functional needs repair non functional\n",
              "basin                                                                       \n",
              "Internal                         3379                     420           2056\n",
              "Lake Nyasa                       2525                     195           1182\n",
              "Lake Rukwa                        748                     203            885\n",
              "Lake Tanganyika                  2318                     545           1912\n",
              "Lake Victoria                    3793                     741           3089\n",
              "Pangani                          4021                     352           2330\n",
              "Rufiji                           3836                     338           1871\n",
              "Ruvuma / Southern Coast          1268                     237           1876\n",
              "Wami / Ruvu                      2306                     207           1917"
            ]
          },
          "metadata": {
            "tags": []
          },
          "execution_count": 39
        }
      ]
    },
    {
      "cell_type": "code",
      "metadata": {
        "colab": {
          "base_uri": "https://localhost:8080/",
          "height": 554
        },
        "id": "xpl2wCjBZsqc",
        "outputId": "33ee3006-c6e1-4620-e483-6a7c32ecc7a7"
      },
      "source": [
        "fig, ax = pyplot.subplots(figsize=a4_dims)\n",
        "ax = sns.heatmap(pivot_table, cmap='GnBu')"
      ],
      "execution_count": null,
      "outputs": [
        {
          "output_type": "display_data",
          "data": {
            "image/png": "[encoded data removed]",
            "text/plain": [
              "<Figure size 864x648 with 2 Axes>"
            ]
          },
          "metadata": {
            "tags": [],
            "needs_background": "light"
          }
        }
      ]
    },
    {
      "cell_type": "code",
      "metadata": {
        "colab": {
          "base_uri": "https://localhost:8080/"
        },
        "id": "7kHnIPojbfgL",
        "outputId": "e04419f1-4cae-4112-cf27-baca0c240f50"
      },
      "source": [
        "df_train.extraction_type.value_counts()"
      ],
      "execution_count": null,
      "outputs": [
        {
          "output_type": "execute_result",
          "data": {
            "text/plain": [
              "gravity                      20127\n",
              "nira/tanira                   6130\n",
              "other                         4768\n",
              "submersible                   3560\n",
              "swn 80                        2771\n",
              "mono                          2164\n",
              "india mark ii                 1768\n",
              "afridev                       1339\n",
              "ksb                           1043\n",
              "other - rope pump              335\n",
              "other - swn 81                 177\n",
              "windmill                        89\n",
              "india mark iii                  77\n",
              "cemo                            70\n",
              "other - play pump               65\n",
              "walimi                          39\n",
              "climax                          26\n",
              "other - mkulima/shinyanga        2\n",
              "Name: extraction_type, dtype: int64"
            ]
          },
          "metadata": {
            "tags": []
          },
          "execution_count": 41
        }
      ]
    },
    {
      "cell_type": "code",
      "metadata": {
        "id": "Nvba1QG4bmdW"
      },
      "source": [
        "def extraction_cl(row):\n",
        "    if row['extraction_type']=='gravity':\n",
        "        return 'gravity'\n",
        "    elif row['extraction_type']=='nira/tanira':\n",
        "        return 'nira'\n",
        "    elif row['extraction_type']=='submersible':\n",
        "        return 'submersible'\n",
        "    elif row['extraction_type']=='swn 80':\n",
        "        return 'swn'\n",
        "    elif row['extraction_type']=='mono':\n",
        "        return 'mono'\n",
        "    elif row['extraction_type']=='india mark ii':\n",
        "        return 'indiamark2'\n",
        "    elif row['extraction_type']=='afridev':\n",
        "        return 'afridev'\n",
        "    elif row['extraction_type']=='ksb':\n",
        "        return 'ksb'\n",
        "    elif row['extraction_type']=='windmill':\n",
        "        return 'windmill'\n",
        "    elif row['extraction_type']=='india mark iii':\n",
        "        return 'indiamark3'\n",
        "    else:\n",
        "        return 'other'\n",
        "df_train['extraction_type'] = df_train.apply(lambda row: extraction_cl(row), axis=1)"
      ],
      "execution_count": null,
      "outputs": []
    },
    {
      "cell_type": "code",
      "metadata": {
        "colab": {
          "base_uri": "https://localhost:8080/",
          "height": 437
        },
        "id": "ovoIjAlwbxmO",
        "outputId": "677ea29a-94da-434b-ed79-9512edc6fd73"
      },
      "source": [
        "pivot_df= df_train[['extraction_type','status_group','status_values']]\n",
        "pivot_table = pivot_df.pivot_table(index='extraction_type',\n",
        "                           columns='status_group', aggfunc='count')\n",
        "pivot_table"
      ],
      "execution_count": null,
      "outputs": [
        {
          "output_type": "execute_result",
          "data": {
            "text/html": [
              "<div>\n",
              "<style scoped>\n",
              "    .dataframe tbody tr th:only-of-type {\n",
              "        vertical-align: middle;\n",
              "    }\n",
              "\n",
              "    .dataframe tbody tr th {\n",
              "        vertical-align: top;\n",
              "    }\n",
              "\n",
              "    .dataframe thead tr th {\n",
              "        text-align: left;\n",
              "    }\n",
              "\n",
              "    .dataframe thead tr:last-of-type th {\n",
              "        text-align: right;\n",
              "    }\n",
              "</style>\n",
              "<table border=\"1\" class=\"dataframe\">\n",
              "  <thead>\n",
              "    <tr>\n",
              "      <th></th>\n",
              "      <th colspan=\"3\" halign=\"left\">status_values</th>\n",
              "    </tr>\n",
              "    <tr>\n",
              "      <th>status_group</th>\n",
              "      <th>functional</th>\n",
              "      <th>functional needs repair</th>\n",
              "      <th>non functional</th>\n",
              "    </tr>\n",
              "    <tr>\n",
              "      <th>extraction_type</th>\n",
              "      <th></th>\n",
              "      <th></th>\n",
              "      <th></th>\n",
              "    </tr>\n",
              "  </thead>\n",
              "  <tbody>\n",
              "    <tr>\n",
              "      <th>afridev</th>\n",
              "      <td>924</td>\n",
              "      <td>28</td>\n",
              "      <td>387</td>\n",
              "    </tr>\n",
              "    <tr>\n",
              "      <th>gravity</th>\n",
              "      <td>12046</td>\n",
              "      <td>2042</td>\n",
              "      <td>6039</td>\n",
              "    </tr>\n",
              "    <tr>\n",
              "      <th>indiamark2</th>\n",
              "      <td>1061</td>\n",
              "      <td>56</td>\n",
              "      <td>651</td>\n",
              "    </tr>\n",
              "    <tr>\n",
              "      <th>indiamark3</th>\n",
              "      <td>34</td>\n",
              "      <td>1</td>\n",
              "      <td>42</td>\n",
              "    </tr>\n",
              "    <tr>\n",
              "      <th>ksb</th>\n",
              "      <td>509</td>\n",
              "      <td>22</td>\n",
              "      <td>512</td>\n",
              "    </tr>\n",
              "    <tr>\n",
              "      <th>mono</th>\n",
              "      <td>818</td>\n",
              "      <td>103</td>\n",
              "      <td>1243</td>\n",
              "    </tr>\n",
              "    <tr>\n",
              "      <th>nira</th>\n",
              "      <td>4075</td>\n",
              "      <td>488</td>\n",
              "      <td>1567</td>\n",
              "    </tr>\n",
              "    <tr>\n",
              "      <th>other</th>\n",
              "      <td>1153</td>\n",
              "      <td>181</td>\n",
              "      <td>4148</td>\n",
              "    </tr>\n",
              "    <tr>\n",
              "      <th>submersible</th>\n",
              "      <td>1964</td>\n",
              "      <td>160</td>\n",
              "      <td>1436</td>\n",
              "    </tr>\n",
              "    <tr>\n",
              "      <th>swn</th>\n",
              "      <td>1573</td>\n",
              "      <td>152</td>\n",
              "      <td>1046</td>\n",
              "    </tr>\n",
              "    <tr>\n",
              "      <th>windmill</th>\n",
              "      <td>37</td>\n",
              "      <td>5</td>\n",
              "      <td>47</td>\n",
              "    </tr>\n",
              "  </tbody>\n",
              "</table>\n",
              "</div>"
            ],
            "text/plain": [
              "                status_values                                       \n",
              "status_group       functional functional needs repair non functional\n",
              "extraction_type                                                     \n",
              "afridev                   924                      28            387\n",
              "gravity                 12046                    2042           6039\n",
              "indiamark2               1061                      56            651\n",
              "indiamark3                 34                       1             42\n",
              "ksb                       509                      22            512\n",
              "mono                      818                     103           1243\n",
              "nira                     4075                     488           1567\n",
              "other                    1153                     181           4148\n",
              "submersible              1964                     160           1436\n",
              "swn                      1573                     152           1046\n",
              "windmill                   37                       5             47"
            ]
          },
          "metadata": {
            "tags": []
          },
          "execution_count": 43
        }
      ]
    },
    {
      "cell_type": "code",
      "metadata": {
        "colab": {
          "base_uri": "https://localhost:8080/",
          "height": 554
        },
        "id": "Ivuthip7b819",
        "outputId": "8c47c644-8de8-43e9-e314-dc4128374f6b"
      },
      "source": [
        "fig, ax = pyplot.subplots(figsize=a4_dims)\n",
        "ax = sns.heatmap(pivot_table, cmap='GnBu')"
      ],
      "execution_count": null,
      "outputs": [
        {
          "output_type": "display_data",
          "data": {
            "image/png": "[encoded data removed]",
            "text/plain": [
              "<Figure size 864x648 with 2 Axes>"
            ]
          },
          "metadata": {
            "tags": [],
            "needs_background": "light"
          }
        }
      ]
    },
    {
      "cell_type": "code",
      "metadata": {
        "colab": {
          "base_uri": "https://localhost:8080/"
        },
        "id": "LfBzNcOVcHww",
        "outputId": "9b4aab53-1a07-47cc-ae2e-46ea01fc3df4"
      },
      "source": [
        "df_train.management_group.value_counts()"
      ],
      "execution_count": null,
      "outputs": [
        {
          "output_type": "execute_result",
          "data": {
            "text/plain": [
              "user-group    39373\n",
              "commercial     2736\n",
              "parastatal     1347\n",
              "other           692\n",
              "unknown         402\n",
              "Name: management_group, dtype: int64"
            ]
          },
          "metadata": {
            "tags": []
          },
          "execution_count": 45
        }
      ]
    },
    {
      "cell_type": "code",
      "metadata": {
        "id": "lK-LZ2QHcNqI"
      },
      "source": [
        "# almost all are managed by user-group we can drop it\n",
        "df_train = df_train.drop(['management_group'], axis=1)"
      ],
      "execution_count": null,
      "outputs": []
    },
    {
      "cell_type": "code",
      "metadata": {
        "colab": {
          "base_uri": "https://localhost:8080/"
        },
        "id": "trfvKTjgcgNW",
        "outputId": "bae356e2-4e34-4bd7-e604-7c2c9d8c60f4"
      },
      "source": [
        "df_train.water_quality.value_counts()"
      ],
      "execution_count": null,
      "outputs": [
        {
          "output_type": "execute_result",
          "data": {
            "text/plain": [
              "soft                  38093\n",
              "salty                  3668\n",
              "unknown                1397\n",
              "milky                   606\n",
              "coloured                364\n",
              "salty abandoned         264\n",
              "fluoride                147\n",
              "fluoride abandoned       11\n",
              "Name: water_quality, dtype: int64"
            ]
          },
          "metadata": {
            "tags": []
          },
          "execution_count": 47
        }
      ]
    },
    {
      "cell_type": "code",
      "metadata": {
        "colab": {
          "base_uri": "https://localhost:8080/"
        },
        "id": "z0SbBgCTcmhm",
        "outputId": "d418bda2-08a5-40fc-892d-579b71539e02"
      },
      "source": [
        "df_train.quantity_group.value_counts()"
      ],
      "execution_count": null,
      "outputs": [
        {
          "output_type": "execute_result",
          "data": {
            "text/plain": [
              "enough          24821\n",
              "insufficient    11367\n",
              "dry              4725\n",
              "seasonal         3049\n",
              "unknown           588\n",
              "Name: quantity_group, dtype: int64"
            ]
          },
          "metadata": {
            "tags": []
          },
          "execution_count": 48
        }
      ]
    },
    {
      "cell_type": "markdown",
      "metadata": {
        "id": "YNIJWrvCG3mk"
      },
      "source": [
        " We can drop the location data "
      ]
    },
    {
      "cell_type": "code",
      "metadata": {
        "id": "U1Y9nfAlct9X"
      },
      "source": [
        "df_train= df_train.drop(['longitude', 'latitude', 'region_code', 'district_code'], axis=1)"
      ],
      "execution_count": null,
      "outputs": []
    },
    {
      "cell_type": "code",
      "metadata": {
        "id": "5S27PumNc6lC"
      },
      "source": [
        "## Dropping the status_values, operation_time, month which are added for the caluculations.\n",
        "df_train= df_train.drop(['status_values','month'], axis=1)"
      ],
      "execution_count": null,
      "outputs": []
    },
    {
      "cell_type": "code",
      "metadata": {
        "colab": {
          "base_uri": "https://localhost:8080/",
          "height": 317
        },
        "id": "GlDQ6OwOe3b6",
        "outputId": "3fab036d-c667-41e8-b8ba-1494d1f8747e"
      },
      "source": [
        "df_train.head()"
      ],
      "execution_count": null,
      "outputs": [
        {
          "output_type": "execute_result",
          "data": {
            "text/html": [
              "<div>\n",
              "<style scoped>\n",
              "    .dataframe tbody tr th:only-of-type {\n",
              "        vertical-align: middle;\n",
              "    }\n",
              "\n",
              "    .dataframe tbody tr th {\n",
              "        vertical-align: top;\n",
              "    }\n",
              "\n",
              "    .dataframe thead th {\n",
              "        text-align: right;\n",
              "    }\n",
              "</style>\n",
              "<table border=\"1\" class=\"dataframe\">\n",
              "  <thead>\n",
              "    <tr style=\"text-align: right;\">\n",
              "      <th></th>\n",
              "      <th>amount_tsh</th>\n",
              "      <th>days_since_recorded</th>\n",
              "      <th>funder</th>\n",
              "      <th>gps_height</th>\n",
              "      <th>installer</th>\n",
              "      <th>basin</th>\n",
              "      <th>subvillage</th>\n",
              "      <th>population</th>\n",
              "      <th>public_meeting</th>\n",
              "      <th>scheme_management</th>\n",
              "      <th>scheme_name</th>\n",
              "      <th>permit</th>\n",
              "      <th>construction_year</th>\n",
              "      <th>extraction_type</th>\n",
              "      <th>payment_type</th>\n",
              "      <th>water_quality</th>\n",
              "      <th>quantity_group</th>\n",
              "      <th>source_type</th>\n",
              "      <th>source_class</th>\n",
              "      <th>waterpoint_type</th>\n",
              "      <th>waterpoint_type_group</th>\n",
              "      <th>status_group</th>\n",
              "    </tr>\n",
              "  </thead>\n",
              "  <tbody>\n",
              "    <tr>\n",
              "      <th>0</th>\n",
              "      <td>7.0</td>\n",
              "      <td>258</td>\n",
              "      <td>other</td>\n",
              "      <td>1203</td>\n",
              "      <td>other</td>\n",
              "      <td>Pangani</td>\n",
              "      <td>Mafurini</td>\n",
              "      <td>90</td>\n",
              "      <td>True</td>\n",
              "      <td>wtr_brd</td>\n",
              "      <td>Machame water supply</td>\n",
              "      <td>True</td>\n",
              "      <td>00s</td>\n",
              "      <td>gravity</td>\n",
              "      <td>per bucket</td>\n",
              "      <td>soft</td>\n",
              "      <td>enough</td>\n",
              "      <td>spring</td>\n",
              "      <td>groundwater</td>\n",
              "      <td>communal standpipe</td>\n",
              "      <td>communal standpipe</td>\n",
              "      <td>functional</td>\n",
              "    </tr>\n",
              "    <tr>\n",
              "      <th>1</th>\n",
              "      <td>0.0</td>\n",
              "      <td>1016</td>\n",
              "      <td>other</td>\n",
              "      <td>1409</td>\n",
              "      <td>other</td>\n",
              "      <td>Lake Nyasa</td>\n",
              "      <td>Ituni</td>\n",
              "      <td>70</td>\n",
              "      <td>False</td>\n",
              "      <td>pri_optr</td>\n",
              "      <td>Mgowel</td>\n",
              "      <td>False</td>\n",
              "      <td>80s</td>\n",
              "      <td>gravity</td>\n",
              "      <td>never pay</td>\n",
              "      <td>soft</td>\n",
              "      <td>enough</td>\n",
              "      <td>spring</td>\n",
              "      <td>groundwater</td>\n",
              "      <td>communal standpipe</td>\n",
              "      <td>communal standpipe</td>\n",
              "      <td>functional</td>\n",
              "    </tr>\n",
              "    <tr>\n",
              "      <th>2</th>\n",
              "      <td>0.0</td>\n",
              "      <td>333</td>\n",
              "      <td>gov</td>\n",
              "      <td>1572</td>\n",
              "      <td>dwe</td>\n",
              "      <td>Pangani</td>\n",
              "      <td>Melebuki</td>\n",
              "      <td>150</td>\n",
              "      <td>True</td>\n",
              "      <td>vwc</td>\n",
              "      <td>Saitero olosaita pipe line</td>\n",
              "      <td>True</td>\n",
              "      <td>00s</td>\n",
              "      <td>gravity</td>\n",
              "      <td>never pay</td>\n",
              "      <td>soft</td>\n",
              "      <td>insufficient</td>\n",
              "      <td>spring</td>\n",
              "      <td>groundwater</td>\n",
              "      <td>communal standpipe</td>\n",
              "      <td>communal standpipe</td>\n",
              "      <td>non functional</td>\n",
              "    </tr>\n",
              "    <tr>\n",
              "      <th>3</th>\n",
              "      <td>0.0</td>\n",
              "      <td>975</td>\n",
              "      <td>District Council</td>\n",
              "      <td>0</td>\n",
              "      <td>other</td>\n",
              "      <td>Rufiji</td>\n",
              "      <td>Darajani</td>\n",
              "      <td>0</td>\n",
              "      <td>True</td>\n",
              "      <td>vwc</td>\n",
              "      <td>other</td>\n",
              "      <td>True</td>\n",
              "      <td>unknown</td>\n",
              "      <td>gravity</td>\n",
              "      <td>annually</td>\n",
              "      <td>soft</td>\n",
              "      <td>insufficient</td>\n",
              "      <td>river/lake</td>\n",
              "      <td>surface</td>\n",
              "      <td>communal standpipe</td>\n",
              "      <td>communal standpipe</td>\n",
              "      <td>functional</td>\n",
              "    </tr>\n",
              "    <tr>\n",
              "      <th>4</th>\n",
              "      <td>300.0</td>\n",
              "      <td>270</td>\n",
              "      <td>District Council</td>\n",
              "      <td>1283</td>\n",
              "      <td>other</td>\n",
              "      <td>Pangani</td>\n",
              "      <td>Mwira A</td>\n",
              "      <td>34</td>\n",
              "      <td>True</td>\n",
              "      <td>vwc</td>\n",
              "      <td>Churu water supply</td>\n",
              "      <td>False</td>\n",
              "      <td>00s</td>\n",
              "      <td>gravity</td>\n",
              "      <td>monthly</td>\n",
              "      <td>soft</td>\n",
              "      <td>insufficient</td>\n",
              "      <td>spring</td>\n",
              "      <td>groundwater</td>\n",
              "      <td>communal standpipe</td>\n",
              "      <td>communal standpipe</td>\n",
              "      <td>functional</td>\n",
              "    </tr>\n",
              "  </tbody>\n",
              "</table>\n",
              "</div>"
            ],
            "text/plain": [
              "   amount_tsh  days_since_recorded  ... waterpoint_type_group    status_group\n",
              "0         7.0                  258  ...    communal standpipe      functional\n",
              "1         0.0                 1016  ...    communal standpipe      functional\n",
              "2         0.0                  333  ...    communal standpipe  non functional\n",
              "3         0.0                  975  ...    communal standpipe      functional\n",
              "4       300.0                  270  ...    communal standpipe      functional\n",
              "\n",
              "[5 rows x 22 columns]"
            ]
          },
          "metadata": {
            "tags": []
          },
          "execution_count": 51
        }
      ]
    },
    {
      "cell_type": "code",
      "metadata": {
        "id": "OX9eQ0oEe7yn"
      },
      "source": [
        ""
      ],
      "execution_count": null,
      "outputs": []
    },
    {
      "cell_type": "code",
      "metadata": {
        "id": "Mtv0C7wqfENC"
      },
      "source": [
        "train  = df_train\n"
      ],
      "execution_count": null,
      "outputs": []
    },
    {
      "cell_type": "code",
      "metadata": {
        "id": "LofhOqCvflQd"
      },
      "source": [
        "train = train.drop('status_group', axis=1)"
      ],
      "execution_count": null,
      "outputs": []
    },
    {
      "cell_type": "code",
      "metadata": {
        "id": "RaySLl6IfLS5"
      },
      "source": [
        "def transform_feature(df, column_name):\n",
        "    unique_values = set(df[column_name].tolist())\n",
        "    transformer_dict = {}\n",
        "    for index, value in enumerate(unique_values):\n",
        "        transformer_dict[value] = index\n",
        "    df[column_name] = df[column_name].apply(lambda y: transformer_dict[y])\n",
        "    return df"
      ],
      "execution_count": null,
      "outputs": []
    },
    {
      "cell_type": "code",
      "metadata": {
        "id": "F4jq3-hpfeAx"
      },
      "source": [
        "integer_columns = ['days_since_recorded', 'population','gps_height'] \n",
        "columns_to_transform = [col for col in train.columns if col not in integer_columns]\n",
        "for column in columns_to_transform: \n",
        "    train = transform_feature(train, column)\n",
        "    "
      ],
      "execution_count": null,
      "outputs": []
    },
    {
      "cell_type": "code",
      "metadata": {
        "id": "Ab9WdPOJgTUr"
      },
      "source": [
        "## Converting the Training dataframe into a matrix and predictor as y \n",
        "X = train.to_numpy()\n",
        "y = df_train[\"status_group\"].tolist()"
      ],
      "execution_count": null,
      "outputs": []
    },
    {
      "cell_type": "markdown",
      "metadata": {
        "id": "Ci4kzBHJHubW"
      },
      "source": [
        "#spliting the train data so that we can train our model and do the hyperparameter tuning."
      ]
    },
    {
      "cell_type": "markdown",
      "metadata": {
        "id": "a54ma-Zfslxo"
      },
      "source": [
        "To decide whichframe work to use :- https://stackoverflow.com/questions/2595176/which-machine-learning-classifier-to-choose-in-general\n",
        "\n",
        "https://nlp.stanford.edu/IR-book/html/htmledition/choosing-what-kind-of-classifier-to-use-1.html"
      ]
    },
    {
      "cell_type": "code",
      "metadata": {
        "id": "0ObbQ_87gTuc"
      },
      "source": [
        "import sklearn.model_selection \n",
        "X_train, X_test, y_train, y_test = sklearn.model_selection.train_test_split(X, y, test_size=0.3, random_state = 40)"
      ],
      "execution_count": null,
      "outputs": []
    },
    {
      "cell_type": "code",
      "metadata": {
        "id": "pDSvb_-gQzL5"
      },
      "source": [
        "from sklearn.model_selection import GridSearchCV\n",
        "from sklearn.metrics import classification_report\n",
        "from sklearn.metrics import roc_auc_score"
      ],
      "execution_count": null,
      "outputs": []
    },
    {
      "cell_type": "markdown",
      "metadata": {
        "id": "tnUO_zPC5KeK"
      },
      "source": [
        "#Random Forest Classifier"
      ]
    },
    {
      "cell_type": "code",
      "metadata": {
        "colab": {
          "base_uri": "https://localhost:8080/"
        },
        "id": "AVFjXpve7XlI",
        "outputId": "292581ff-3100-40fb-b0b4-7863753e3b71"
      },
      "source": [
        "from sklearn.ensemble import RandomForestClassifier\n",
        "\n",
        "rfc=RandomForestClassifier()\n",
        "scoring = 'f1_weighted'  # as the target variable  is multi_class\n",
        "hyperparameters={'max_depth':[2,5,10,20],\"n_estimators\":[10,30,1000]}\n",
        "clf = GridSearchCV(rfc , param_grid= hyperparameters , scoring = scoring )\n",
        "clf.fit(np.array(X_train) ,np.squeeze(y_train))\n",
        "print(\"BEST PARAMETER:\")\n",
        "print(clf.best_params_)\n",
        "print(\"best scoring\" + scoring + str(clf.best_score_))\n",
        "print(\"test classification report\")\n",
        "y_true , y_pred =np.squeeze(y_test) ,clf.predict(np.array(X_test))\n",
        "print(classification_report(y_true , y_pred))"
      ],
      "execution_count": null,
      "outputs": [
        {
          "output_type": "stream",
          "text": [
            "BEST PARAMETER:\n",
            "{'max_depth': 20, 'n_estimators': 1000}\n",
            "best scoringf1_weighted0.7817538808135875\n",
            "test classification report\n",
            "                         precision    recall  f1-score   support\n",
            "\n",
            "             functional       0.78      0.91      0.84      7234\n",
            "functional needs repair       0.59      0.22      0.32       998\n",
            "         non functional       0.85      0.74      0.79      5133\n",
            "\n",
            "               accuracy                           0.80     13365\n",
            "              macro avg       0.74      0.62      0.65     13365\n",
            "           weighted avg       0.79      0.80      0.78     13365\n",
            "\n"
          ],
          "name": "stdout"
        }
      ]
    },
    {
      "cell_type": "code",
      "metadata": {
        "id": "SLXRfL89AbFC"
      },
      "source": [
        "import sklearn.ensemble"
      ],
      "execution_count": null,
      "outputs": []
    },
    {
      "cell_type": "markdown",
      "metadata": {
        "id": "Nbb08911oKAC"
      },
      "source": [
        "**Feature importance**"
      ]
    },
    {
      "cell_type": "code",
      "metadata": {
        "colab": {
          "base_uri": "https://localhost:8080/"
        },
        "id": "q3H43NUNApaL",
        "outputId": "2ccb3e83-ca02-4880-9050-cdad045ecdc2"
      },
      "source": [
        " rfc.fit(X_train, y_train)\n",
        " print(rfc.feature_importances_)"
      ],
      "execution_count": null,
      "outputs": [
        {
          "output_type": "stream",
          "text": [
            "[0.03540291 0.10923388 0.03077505 0.09322901 0.02382751 0.0323353\n",
            " 0.12734924 0.06037196 0.01314498 0.02745541 0.0475476  0.0159288\n",
            " 0.03643745 0.04964747 0.0306736  0.02016718 0.13378011 0.02464671\n",
            " 0.0080112  0.04751217 0.03252243]\n"
          ],
          "name": "stdout"
        }
      ]
    },
    {
      "cell_type": "code",
      "metadata": {
        "colab": {
          "base_uri": "https://localhost:8080/",
          "height": 300
        },
        "id": "6cUYAn-niPoq",
        "outputId": "c9a44478-f867-4d49-aa93-d9448c908594"
      },
      "source": [
        "importance = rfc.feature_importances_\n",
        "importance = pd.DataFrame(importance, index=train.columns, \n",
        "                          columns=[\"Importance\"])\n",
        " \n",
        "importance[\"Std\"] = np.std([tree.feature_importances_ \n",
        "                            for tree in rfc.estimators_], axis=0)\n",
        " \n",
        "x = range(importance.shape[0])\n",
        "y = importance.iloc[:, 0]\n",
        "yerr = importance.iloc[:, 1]\n",
        "lables = list(train.columns.values)\n",
        " \n",
        " \n",
        " \n",
        "ax = plt.bar(x, y, yerr=yerr ,align=\"center\")\n",
        "plt.xlabel('Features', fontsize = 12)\n",
        "plt.ylabel('Importance', fontsize = 12)"
      ],
      "execution_count": null,
      "outputs": [
        {
          "output_type": "execute_result",
          "data": {
            "text/plain": [
              "Text(0, 0.5, 'Importance')"
            ]
          },
          "metadata": {
            "tags": []
          },
          "execution_count": 62
        },
        {
          "output_type": "display_data",
          "data": {
            "image/png": "[encoded data removed]",
            "text/plain": [
              "<Figure size 432x288 with 1 Axes>"
            ]
          },
          "metadata": {
            "tags": [],
            "needs_background": "light"
          }
        }
      ]
    },
    {
      "cell_type": "code",
      "metadata": {
        "colab": {
          "base_uri": "https://localhost:8080/"
        },
        "id": "DufHl9hNimTZ",
        "outputId": "573add83-8180-4cff-f55c-14fa7106a4ee"
      },
      "source": [
        "from sklearn.metrics import classification_report\n",
        "predicted = rfc.predict(X_test)\n",
        "report = classification_report(y_test, predicted)\n",
        "print(report)"
      ],
      "execution_count": null,
      "outputs": [
        {
          "output_type": "stream",
          "text": [
            "                         precision    recall  f1-score   support\n",
            "\n",
            "             functional       0.79      0.87      0.83      7234\n",
            "functional needs repair       0.52      0.29      0.37       998\n",
            "         non functional       0.82      0.77      0.79      5133\n",
            "\n",
            "               accuracy                           0.79     13365\n",
            "              macro avg       0.71      0.64      0.67     13365\n",
            "           weighted avg       0.78      0.79      0.78     13365\n",
            "\n"
          ],
          "name": "stdout"
        }
      ]
    },
    {
      "cell_type": "markdown",
      "metadata": {
        "id": "ACG4dQwnby-Y"
      },
      "source": [
        "#XGB classifier"
      ]
    },
    {
      "cell_type": "code",
      "metadata": {
        "id": "dQYr_JalD0iV"
      },
      "source": [
        "from xgboost import XGBClassifier"
      ],
      "execution_count": null,
      "outputs": []
    },
    {
      "cell_type": "code",
      "metadata": {
        "id": "B7V4dhphTuls"
      },
      "source": [
        "xgb = XGBClassifier()"
      ],
      "execution_count": null,
      "outputs": []
    },
    {
      "cell_type": "code",
      "metadata": {
        "colab": {
          "base_uri": "https://localhost:8080/"
        },
        "id": "E_uJiKEFLLRf",
        "outputId": "a8dd3a03-a543-433c-bc4b-aa81f0ec76cf"
      },
      "source": [
        "n_estimators = [50,100,1000] #no. of trees\n",
        "gamma = [0.1,0.2]\n",
        "max_depth = [2,5]\n",
        "parameter_grid = {'n_estimators':n_estimators,'max_depth':max_depth , 'gamma':gamma}\n",
        "print(parameter_grid.keys())"
      ],
      "execution_count": null,
      "outputs": [
        {
          "output_type": "stream",
          "text": [
            "dict_keys(['n_estimators', 'max_depth', 'gamma'])\n"
          ],
          "name": "stdout"
        }
      ]
    },
    {
      "cell_type": "code",
      "metadata": {
        "colab": {
          "base_uri": "https://localhost:8080/"
        },
        "id": "X2DthLyvMBaX",
        "outputId": "bfc2a238-e5a2-4cd0-836e-5cd84e9f2f82"
      },
      "source": [
        "xgb_grid = GridSearchCV(estimator=xgb,param_grid=parameter_grid,cv=3,n_jobs = 5)\n",
        "xgb_grid.fit(np.array(X_train),np.squeeze(y_train))"
      ],
      "execution_count": null,
      "outputs": [
        {
          "output_type": "execute_result",
          "data": {
            "text/plain": [
              "GridSearchCV(cv=3, error_score=nan,\n",
              "             estimator=XGBClassifier(base_score=0.5, booster='gbtree',\n",
              "                                     colsample_bylevel=1, colsample_bynode=1,\n",
              "                                     colsample_bytree=1, gamma=0,\n",
              "                                     learning_rate=0.1, max_delta_step=0,\n",
              "                                     max_depth=3, min_child_weight=1,\n",
              "                                     missing=None, n_estimators=100, n_jobs=1,\n",
              "                                     nthread=None, objective='binary:logistic',\n",
              "                                     random_state=0, reg_alpha=0, reg_lambda=1,\n",
              "                                     scale_pos_weight=1, seed=None, silent=None,\n",
              "                                     subsample=1, verbosity=1),\n",
              "             iid='deprecated', n_jobs=5,\n",
              "             param_grid={'gamma': [0.1, 0.2], 'max_depth': [2, 5],\n",
              "                         'n_estimators': [50, 100, 1000]},\n",
              "             pre_dispatch='2*n_jobs', refit=True, return_train_score=False,\n",
              "             scoring=None, verbose=0)"
            ]
          },
          "metadata": {
            "tags": []
          },
          "execution_count": 67
        }
      ]
    },
    {
      "cell_type": "code",
      "metadata": {
        "colab": {
          "base_uri": "https://localhost:8080/"
        },
        "id": "Br_7C2wfYVzn",
        "outputId": "6dc74e5b-687b-4680-cd03-a81e5b8e8c28"
      },
      "source": [
        "print('best score for training data'+':' + str(xgb_grid.best_score_))\n",
        "print('The classification report')\n",
        "\n",
        "y_true,y_pred = np.squeeze(y_test),xgb_grid.predict(np.array(X_test))\n",
        "print(classification_report(y_true,y_pred))"
      ],
      "execution_count": null,
      "outputs": [
        {
          "output_type": "stream",
          "text": [
            "best score for training data:0.7828443161776496\n",
            "The classification report\n",
            "                         precision    recall  f1-score   support\n",
            "\n",
            "             functional       0.78      0.89      0.83      7234\n",
            "functional needs repair       0.56      0.24      0.34       998\n",
            "         non functional       0.83      0.75      0.79      5133\n",
            "\n",
            "               accuracy                           0.79     13365\n",
            "              macro avg       0.72      0.63      0.65     13365\n",
            "           weighted avg       0.78      0.79      0.78     13365\n",
            "\n"
          ],
          "name": "stdout"
        }
      ]
    },
    {
      "cell_type": "markdown",
      "metadata": {
        "id": "iureUiVToRSD"
      },
      "source": [
        "**Feature importance**"
      ]
    },
    {
      "cell_type": "code",
      "metadata": {
        "colab": {
          "base_uri": "https://localhost:8080/"
        },
        "id": "qBW6eSesZ1_w",
        "outputId": "80b50b75-5943-4581-d9a9-8601053f16e2"
      },
      "source": [
        "xgb.fit(X_train, y_train)\n",
        "print(xgb.feature_importances_)"
      ],
      "execution_count": null,
      "outputs": [
        {
          "output_type": "stream",
          "text": [
            "[0.08905645 0.01845343 0.04385292 0.02057492 0.02595443 0.01825666\n",
            " 0.00406941 0.01752253 0.02491613 0.02505153 0.00942924 0.00830889\n",
            " 0.0508205  0.07652488 0.02312835 0.03614496 0.2684943  0.02484141\n",
            " 0.04309228 0.16038021 0.01112651]\n"
          ],
          "name": "stdout"
        }
      ]
    },
    {
      "cell_type": "markdown",
      "metadata": {
        "id": "z1vTGk5bcEHx"
      },
      "source": [
        "#Decision tree classifier"
      ]
    },
    {
      "cell_type": "code",
      "metadata": {
        "id": "sKe6WaARcJ2j"
      },
      "source": [
        "from sklearn.tree import DecisionTreeClassifier\n",
        "DTC = DecisionTreeClassifier()"
      ],
      "execution_count": null,
      "outputs": []
    },
    {
      "cell_type": "code",
      "metadata": {
        "id": "wH4gbKLZcZsC"
      },
      "source": [
        "criterion = ['gini','entropy']\n",
        "max_depth = [2,5,10]\n",
        "parameter_grid = {'criterion':criterion,'max_depth':max_depth}\n"
      ],
      "execution_count": null,
      "outputs": []
    },
    {
      "cell_type": "code",
      "metadata": {
        "colab": {
          "base_uri": "https://localhost:8080/"
        },
        "id": "yse9puBac4SZ",
        "outputId": "00d9ad08-b5e7-462a-9b01-a648b6de4b19"
      },
      "source": [
        "#grid search for best parameter\n",
        "DTC_grid = GridSearchCV(estimator= DTC,param_grid=parameter_grid,cv=3,n_jobs=4)\n",
        "DTC_grid.fit(np.array(X_train),np.squeeze(y_train))"
      ],
      "execution_count": null,
      "outputs": [
        {
          "output_type": "execute_result",
          "data": {
            "text/plain": [
              "GridSearchCV(cv=3, error_score=nan,\n",
              "             estimator=DecisionTreeClassifier(ccp_alpha=0.0, class_weight=None,\n",
              "                                              criterion='gini', max_depth=None,\n",
              "                                              max_features=None,\n",
              "                                              max_leaf_nodes=None,\n",
              "                                              min_impurity_decrease=0.0,\n",
              "                                              min_impurity_split=None,\n",
              "                                              min_samples_leaf=1,\n",
              "                                              min_samples_split=2,\n",
              "                                              min_weight_fraction_leaf=0.0,\n",
              "                                              presort='deprecated',\n",
              "                                              random_state=None,\n",
              "                                              splitter='best'),\n",
              "             iid='deprecated', n_jobs=4,\n",
              "             param_grid={'criterion': ['gini', 'entropy'],\n",
              "                         'max_depth': [2, 5, 10]},\n",
              "             pre_dispatch='2*n_jobs', refit=True, return_train_score=False,\n",
              "             scoring=None, verbose=0)"
            ]
          },
          "metadata": {
            "tags": []
          },
          "execution_count": 72
        }
      ]
    },
    {
      "cell_type": "code",
      "metadata": {
        "colab": {
          "base_uri": "https://localhost:8080/"
        },
        "id": "NhHQumbPd08S",
        "outputId": "285886db-24bc-4f9e-fc16-ebf4cfdea22a"
      },
      "source": [
        "print('Best parameters :')\n",
        "print(DTC_grid.best_params_)\n",
        "\n",
        "print('best score for training data'+':' + str(DTC_grid.best_score_))\n",
        "print('The classification report')\n",
        "\n",
        "y_true,y_pred = np.squeeze(y_test),DTC_grid.predict(np.array(X_test))\n",
        "print(classification_report(y_true,y_pred))"
      ],
      "execution_count": null,
      "outputs": [
        {
          "output_type": "stream",
          "text": [
            "Best parameters :\n",
            "{'criterion': 'gini', 'max_depth': 10}\n",
            "best score for training data:0.737694404361071\n",
            "The classification report\n",
            "                         precision    recall  f1-score   support\n",
            "\n",
            "             functional       0.72      0.92      0.80      7234\n",
            "functional needs repair       0.55      0.12      0.19       998\n",
            "         non functional       0.83      0.63      0.71      5133\n",
            "\n",
            "               accuracy                           0.75     13365\n",
            "              macro avg       0.70      0.55      0.57     13365\n",
            "           weighted avg       0.75      0.75      0.72     13365\n",
            "\n"
          ],
          "name": "stdout"
        }
      ]
    },
    {
      "cell_type": "markdown",
      "metadata": {
        "id": "XbBNnw1eoWp-"
      },
      "source": [
        "**Feature importance**"
      ]
    },
    {
      "cell_type": "code",
      "metadata": {
        "colab": {
          "base_uri": "https://localhost:8080/"
        },
        "id": "5zrkROyKeh8l",
        "outputId": "513a816c-124a-4572-b3c3-3dea18f352b3"
      },
      "source": [
        "DTC.fit(X_train, y_train)\n",
        "print(DTC.feature_importances_)"
      ],
      "execution_count": null,
      "outputs": [
        {
          "output_type": "stream",
          "text": [
            "[0.02768169 0.10786415 0.0270188  0.10888892 0.02196284 0.02725385\n",
            " 0.1390287  0.0593416  0.01180003 0.0223303  0.0469822  0.0145352\n",
            " 0.03376201 0.0348506  0.02483144 0.01396683 0.15697419 0.02168666\n",
            " 0.00506652 0.01729159 0.07688188]\n"
          ],
          "name": "stdout"
        }
      ]
    },
    {
      "cell_type": "markdown",
      "metadata": {
        "id": "rHc-VNLZ8VKH"
      },
      "source": [
        "#Touching the test data first time here and we will be using random forest classifier to predict our test labels as that gave us the maximum accuracy."
      ]
    },
    {
      "cell_type": "markdown",
      "metadata": {
        "id": "Uo_VSJ0D1EaB"
      },
      "source": [
        "We will be using the test data at the very end but we need perform the same operations on the test data also same as train data to correctly implement our model"
      ]
    },
    {
      "cell_type": "code",
      "metadata": {
        "id": "rqiO_cH21gBv"
      },
      "source": [
        "df_test = pd.read_csv('test.csv')"
      ],
      "execution_count": null,
      "outputs": []
    },
    {
      "cell_type": "code",
      "metadata": {
        "id": "TJqOQggD1cU8"
      },
      "source": [
        "df_test = df_test.drop(['longitude', 'latitude', 'region_code', 'district_code',\n",
        "                  'num_private', 'id', 'payment', 'management_group', 'management', \n",
        "                  'extraction_type_class', 'extraction_type_group', 'recorded_by','region', 'lga',\n",
        "                  'ward', 'wpt_name', 'quantity',\n",
        "                 'quality_group', 'source'], axis=1)"
      ],
      "execution_count": null,
      "outputs": []
    },
    {
      "cell_type": "code",
      "metadata": {
        "colab": {
          "base_uri": "https://localhost:8080/"
        },
        "id": "Z-auMEOp1oSk",
        "outputId": "1ea04e9c-4535-4550-f65e-60e94db1d0c8"
      },
      "source": [
        "#cleaning the columns as the training data set\n",
        "df_test.date_recorded = pd.datetime(2013, 12, 3) - pd.to_datetime(df_test.date_recorded)\n",
        "df_test.columns = ['days_since_recorded' if x=='date_recorded' else x for x in df_test.columns]\n",
        "df_test.days_since_recorded = df_test.days_since_recorded.astype('timedelta64[D]').astype(int)"
      ],
      "execution_count": null,
      "outputs": [
        {
          "output_type": "stream",
          "text": [
            "/usr/local/lib/python3.7/dist-packages/ipykernel_launcher.py:2: FutureWarning: The pandas.datetime class is deprecated and will be removed from pandas in a future version. Import from datetime module instead.\n",
            "  \n"
          ],
          "name": "stderr"
        }
      ]
    },
    {
      "cell_type": "code",
      "metadata": {
        "id": "TF_zXu0v1xxZ"
      },
      "source": [
        "df_test.permit = df_test.permit.fillna('Unknown')\n",
        "df_test.public_meeting = df_test.public_meeting.fillna('Unknown')"
      ],
      "execution_count": null,
      "outputs": []
    },
    {
      "cell_type": "code",
      "metadata": {
        "id": "mBG51DYd12XZ"
      },
      "source": [
        "df_test['scheme_management'] = df_test.apply(lambda row: scheme_cl(row), axis=1)\n",
        "df_test['construction_year'] = df_test.apply(lambda row: construction_cl(row), axis=1)\n",
        "df_test['installer'] = df_test.apply(lambda row: installer_cl(row), axis=1)\n",
        "df_test['funder'] = df_test.apply(lambda row: funder_cl(row), axis=1)\n",
        "df_test['extraction_type'] = df_test.apply(lambda row: extraction_cl(row), axis=1)"
      ],
      "execution_count": null,
      "outputs": []
    },
    {
      "cell_type": "code",
      "metadata": {
        "colab": {
          "base_uri": "https://localhost:8080/",
          "height": 301
        },
        "id": "V741nUSc18NQ",
        "outputId": "3ee9e309-384b-49de-d65e-e7cfbb5abf4a"
      },
      "source": [
        "df_test.head()"
      ],
      "execution_count": null,
      "outputs": [
        {
          "output_type": "execute_result",
          "data": {
            "text/html": [
              "<div>\n",
              "<style scoped>\n",
              "    .dataframe tbody tr th:only-of-type {\n",
              "        vertical-align: middle;\n",
              "    }\n",
              "\n",
              "    .dataframe tbody tr th {\n",
              "        vertical-align: top;\n",
              "    }\n",
              "\n",
              "    .dataframe thead th {\n",
              "        text-align: right;\n",
              "    }\n",
              "</style>\n",
              "<table border=\"1\" class=\"dataframe\">\n",
              "  <thead>\n",
              "    <tr style=\"text-align: right;\">\n",
              "      <th></th>\n",
              "      <th>Unnamed: 0</th>\n",
              "      <th>amount_tsh</th>\n",
              "      <th>days_since_recorded</th>\n",
              "      <th>funder</th>\n",
              "      <th>gps_height</th>\n",
              "      <th>installer</th>\n",
              "      <th>basin</th>\n",
              "      <th>subvillage</th>\n",
              "      <th>population</th>\n",
              "      <th>public_meeting</th>\n",
              "      <th>scheme_management</th>\n",
              "      <th>scheme_name</th>\n",
              "      <th>permit</th>\n",
              "      <th>construction_year</th>\n",
              "      <th>extraction_type</th>\n",
              "      <th>payment_type</th>\n",
              "      <th>water_quality</th>\n",
              "      <th>quantity_group</th>\n",
              "      <th>source_type</th>\n",
              "      <th>source_class</th>\n",
              "      <th>waterpoint_type</th>\n",
              "      <th>waterpoint_type_group</th>\n",
              "    </tr>\n",
              "  </thead>\n",
              "  <tbody>\n",
              "    <tr>\n",
              "      <th>0</th>\n",
              "      <td>0</td>\n",
              "      <td>0.0</td>\n",
              "      <td>1012</td>\n",
              "      <td>other</td>\n",
              "      <td>1676</td>\n",
              "      <td>other</td>\n",
              "      <td>Rufiji</td>\n",
              "      <td>Mahanzi</td>\n",
              "      <td>769</td>\n",
              "      <td>True</td>\n",
              "      <td>vwc</td>\n",
              "      <td>Wasa</td>\n",
              "      <td>True</td>\n",
              "      <td>00s</td>\n",
              "      <td>gravity</td>\n",
              "      <td>never pay</td>\n",
              "      <td>soft</td>\n",
              "      <td>dry</td>\n",
              "      <td>spring</td>\n",
              "      <td>groundwater</td>\n",
              "      <td>communal standpipe</td>\n",
              "      <td>communal standpipe</td>\n",
              "    </tr>\n",
              "    <tr>\n",
              "      <th>1</th>\n",
              "      <td>1</td>\n",
              "      <td>0.0</td>\n",
              "      <td>961</td>\n",
              "      <td>other</td>\n",
              "      <td>0</td>\n",
              "      <td>dwe</td>\n",
              "      <td>Wami / Ruvu</td>\n",
              "      <td>Uzunguni</td>\n",
              "      <td>0</td>\n",
              "      <td>True</td>\n",
              "      <td>vwc</td>\n",
              "      <td>Soya</td>\n",
              "      <td>False</td>\n",
              "      <td>unknown</td>\n",
              "      <td>mono</td>\n",
              "      <td>never pay</td>\n",
              "      <td>soft</td>\n",
              "      <td>enough</td>\n",
              "      <td>borehole</td>\n",
              "      <td>groundwater</td>\n",
              "      <td>communal standpipe</td>\n",
              "      <td>communal standpipe</td>\n",
              "    </tr>\n",
              "    <tr>\n",
              "      <th>2</th>\n",
              "      <td>2</td>\n",
              "      <td>0.0</td>\n",
              "      <td>982</td>\n",
              "      <td>other</td>\n",
              "      <td>0</td>\n",
              "      <td>other</td>\n",
              "      <td>Rufiji</td>\n",
              "      <td>Uganda</td>\n",
              "      <td>0</td>\n",
              "      <td>True</td>\n",
              "      <td>vwc</td>\n",
              "      <td>NaN</td>\n",
              "      <td>True</td>\n",
              "      <td>unknown</td>\n",
              "      <td>nira</td>\n",
              "      <td>never pay</td>\n",
              "      <td>soft</td>\n",
              "      <td>enough</td>\n",
              "      <td>shallow well</td>\n",
              "      <td>groundwater</td>\n",
              "      <td>hand pump</td>\n",
              "      <td>hand pump</td>\n",
              "    </tr>\n",
              "    <tr>\n",
              "      <th>3</th>\n",
              "      <td>3</td>\n",
              "      <td>0.0</td>\n",
              "      <td>873</td>\n",
              "      <td>other</td>\n",
              "      <td>0</td>\n",
              "      <td>other</td>\n",
              "      <td>Lake Victoria</td>\n",
              "      <td>Nyamilanda A</td>\n",
              "      <td>0</td>\n",
              "      <td>True</td>\n",
              "      <td>vwc</td>\n",
              "      <td>NaN</td>\n",
              "      <td>True</td>\n",
              "      <td>unknown</td>\n",
              "      <td>other</td>\n",
              "      <td>never pay</td>\n",
              "      <td>soft</td>\n",
              "      <td>enough</td>\n",
              "      <td>shallow well</td>\n",
              "      <td>groundwater</td>\n",
              "      <td>hand pump</td>\n",
              "      <td>hand pump</td>\n",
              "    </tr>\n",
              "    <tr>\n",
              "      <th>4</th>\n",
              "      <td>4</td>\n",
              "      <td>0.0</td>\n",
              "      <td>856</td>\n",
              "      <td>World Vision</td>\n",
              "      <td>0</td>\n",
              "      <td>other</td>\n",
              "      <td>Lake Victoria</td>\n",
              "      <td>Ibosa</td>\n",
              "      <td>0</td>\n",
              "      <td>True</td>\n",
              "      <td>vwc</td>\n",
              "      <td>NaN</td>\n",
              "      <td>True</td>\n",
              "      <td>unknown</td>\n",
              "      <td>gravity</td>\n",
              "      <td>never pay</td>\n",
              "      <td>soft</td>\n",
              "      <td>insufficient</td>\n",
              "      <td>rainwater harvesting</td>\n",
              "      <td>surface</td>\n",
              "      <td>communal standpipe</td>\n",
              "      <td>communal standpipe</td>\n",
              "    </tr>\n",
              "  </tbody>\n",
              "</table>\n",
              "</div>"
            ],
            "text/plain": [
              "   Unnamed: 0  amount_tsh  ...     waterpoint_type waterpoint_type_group\n",
              "0           0         0.0  ...  communal standpipe    communal standpipe\n",
              "1           1         0.0  ...  communal standpipe    communal standpipe\n",
              "2           2         0.0  ...           hand pump             hand pump\n",
              "3           3         0.0  ...           hand pump             hand pump\n",
              "4           4         0.0  ...  communal standpipe    communal standpipe\n",
              "\n",
              "[5 rows x 22 columns]"
            ]
          },
          "metadata": {
            "tags": []
          },
          "execution_count": 80
        }
      ]
    },
    {
      "cell_type": "code",
      "metadata": {
        "id": "JkwlGWGk2BvY"
      },
      "source": [
        "test = df_test"
      ],
      "execution_count": null,
      "outputs": []
    },
    {
      "cell_type": "code",
      "metadata": {
        "id": "1ya60NGI21rQ"
      },
      "source": [
        "integer_columns = ['days_since_recorded', 'population','gps_height'] \n",
        "columns_to_transform = [col for col in train.columns if col not in integer_columns]\n",
        "for column in columns_to_transform: \n",
        "  test = transform_feature(test, column)"
      ],
      "execution_count": null,
      "outputs": []
    },
    {
      "cell_type": "code",
      "metadata": {
        "id": "pAP7zG__2IBV"
      },
      "source": [
        "test = test.drop('Unnamed: 0', axis=1)"
      ],
      "execution_count": null,
      "outputs": []
    },
    {
      "cell_type": "code",
      "metadata": {
        "id": "y-FVCo0awNaP"
      },
      "source": [
        "X_new = test.to_numpy()\n",
        "y_new = rfc.predict(X_new)#using rfc to predict"
      ],
      "execution_count": null,
      "outputs": []
    },
    {
      "cell_type": "markdown",
      "metadata": {
        "id": "jVCwWk9u9C1q"
      },
      "source": [
        "#predicted labels"
      ]
    },
    {
      "cell_type": "code",
      "metadata": {
        "colab": {
          "base_uri": "https://localhost:8080/"
        },
        "id": "3CrDhl1Rwvoo",
        "outputId": "1766a506-b8c7-4d0b-b62d-0f10da43a846"
      },
      "source": [
        "y_new"
      ],
      "execution_count": null,
      "outputs": [
        {
          "output_type": "execute_result",
          "data": {
            "text/plain": [
              "array(['non functional', 'non functional', 'functional', ...,\n",
              "       'non functional', 'functional', 'functional'], dtype='<U23')"
            ]
          },
          "metadata": {
            "tags": []
          },
          "execution_count": 85
        }
      ]
    },
    {
      "cell_type": "code",
      "metadata": {
        "colab": {
          "base_uri": "https://localhost:8080/"
        },
        "id": "u7k4fUTayuIt",
        "outputId": "17261375-62dd-4cdb-809d-64e411478a7b"
      },
      "source": [
        "y_new1 = pd.DataFrame(y_new)\n",
        "y_new1.value_counts()/len(y_new1)"
      ],
      "execution_count": null,
      "outputs": [
        {
          "output_type": "execute_result",
          "data": {
            "text/plain": [
              "functional                 0.630707\n",
              "non functional             0.341010\n",
              "functional needs repair    0.028283\n",
              "dtype: float64"
            ]
          },
          "metadata": {
            "tags": []
          },
          "execution_count": 86
        }
      ]
    },
    {
      "cell_type": "markdown",
      "metadata": {
        "id": "5L1V38QK7_6T"
      },
      "source": [
        "The predicted values are in range of 10% of our hypothesis. "
      ]
    },
    {
      "cell_type": "markdown",
      "metadata": {
        "id": "_lrqNcHc8NTy"
      },
      "source": [
        "Uploading the final label value."
      ]
    },
    {
      "cell_type": "code",
      "metadata": {
        "id": "0cLGxjSY0hKp"
      },
      "source": [
        "y_new1.to_csv('Final_label.csv')"
      ],
      "execution_count": null,
      "outputs": []
    },
    {
      "cell_type": "markdown",
      "metadata": {
        "id": "xcrtqxGdpkd8"
      },
      "source": [
        "REFERENCES\n",
        "\n",
        "\n",
        "1.https://machinelearningmastery.com/develop-first-xgboost-model-python-scikit-learn/\n",
        "\n",
        "\n",
        "2.https://machinelearningmastery.com/framework-for-data-preparation-for-machine-learning/\n",
        "\n",
        "3.https://stackabuse.com/overview-of-classification-methods-in-python-with-scikit-learn/\n",
        "\n",
        "4.https://youtu.be/Ato-hcv0NK0 (ml for smart monkeys)"
      ]
    }
  ]
}