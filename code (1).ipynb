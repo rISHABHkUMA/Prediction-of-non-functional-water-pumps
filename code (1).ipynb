{
  "nbformat": 4,
  "nbformat_minor": 0,
  "metadata": {
    "colab": {
      "name": "code.ipynb",
      "provenance": [],
      "collapsed_sections": []
    },
    "kernelspec": {
      "name": "python3",
      "display_name": "Python 3"
    },
    "language_info": {
      "name": "python"
    }
  },
  "cells": [
    {
      "cell_type": "markdown",
      "metadata": {
        "id": "jAVclxkceh0R"
      },
      "source": [
        "##***Comparison of classifiers***"
      ]
    },
    {
      "cell_type": "code",
      "metadata": {
        "id": "Cw3l16a8ebL_"
      },
      "source": [
        "import matplotlib.pyplot as plt\n",
        "import numpy as np \n",
        "import pandas as pd\n",
        "from datetime import datetime\n",
        "import seaborn as sns"
      ],
      "execution_count": null,
      "outputs": []
    },
    {
      "cell_type": "code",
      "metadata": {
        "id": "CCqa5hRZezVO"
      },
      "source": [
        "train_df = pd.read_csv('Train.csv')\n",
        "test_df = pd.read_csv('test.csv')"
      ],
      "execution_count": null,
      "outputs": []
    },
    {
      "cell_type": "markdown",
      "metadata": {
        "id": "R6H-WDgkzUTB"
      },
      "source": [
        "##PART 1\n",
        "\n",
        "Data exploration and visualization"
      ]
    },
    {
      "cell_type": "code",
      "metadata": {
        "colab": {
          "base_uri": "https://localhost:8080/",
          "height": 776
        },
        "id": "kJMmhtNie0Yk",
        "outputId": "4055ef82-5b29-4742-eeba-3172a483c345"
      },
      "source": [
        "display(train_df)"
      ],
      "execution_count": null,
      "outputs": [
        {
          "output_type": "display_data",
          "data": {
            "text/html": [
              "<div>\n",
              "<style scoped>\n",
              "    .dataframe tbody tr th:only-of-type {\n",
              "        vertical-align: middle;\n",
              "    }\n",
              "\n",
              "    .dataframe tbody tr th {\n",
              "        vertical-align: top;\n",
              "    }\n",
              "\n",
              "    .dataframe thead th {\n",
              "        text-align: right;\n",
              "    }\n",
              "</style>\n",
              "<table border=\"1\" class=\"dataframe\">\n",
              "  <thead>\n",
              "    <tr style=\"text-align: right;\">\n",
              "      <th></th>\n",
              "      <th>id</th>\n",
              "      <th>amount_tsh</th>\n",
              "      <th>date_recorded</th>\n",
              "      <th>funder</th>\n",
              "      <th>gps_height</th>\n",
              "      <th>installer</th>\n",
              "      <th>longitude</th>\n",
              "      <th>latitude</th>\n",
              "      <th>wpt_name</th>\n",
              "      <th>num_private</th>\n",
              "      <th>basin</th>\n",
              "      <th>subvillage</th>\n",
              "      <th>region</th>\n",
              "      <th>region_code</th>\n",
              "      <th>district_code</th>\n",
              "      <th>lga</th>\n",
              "      <th>ward</th>\n",
              "      <th>population</th>\n",
              "      <th>public_meeting</th>\n",
              "      <th>recorded_by</th>\n",
              "      <th>scheme_management</th>\n",
              "      <th>scheme_name</th>\n",
              "      <th>permit</th>\n",
              "      <th>construction_year</th>\n",
              "      <th>extraction_type</th>\n",
              "      <th>extraction_type_group</th>\n",
              "      <th>extraction_type_class</th>\n",
              "      <th>management</th>\n",
              "      <th>management_group</th>\n",
              "      <th>payment</th>\n",
              "      <th>payment_type</th>\n",
              "      <th>water_quality</th>\n",
              "      <th>quality_group</th>\n",
              "      <th>quantity</th>\n",
              "      <th>quantity_group</th>\n",
              "      <th>source</th>\n",
              "      <th>source_type</th>\n",
              "      <th>source_class</th>\n",
              "      <th>waterpoint_type</th>\n",
              "      <th>waterpoint_type_group</th>\n",
              "      <th>status_group</th>\n",
              "    </tr>\n",
              "  </thead>\n",
              "  <tbody>\n",
              "    <tr>\n",
              "      <th>0</th>\n",
              "      <td>7411</td>\n",
              "      <td>7.0</td>\n",
              "      <td>2013-03-20</td>\n",
              "      <td>Germany Republi</td>\n",
              "      <td>1203</td>\n",
              "      <td>CES</td>\n",
              "      <td>37.228664</td>\n",
              "      <td>-3.256505</td>\n",
              "      <td>Kwa Abdalla</td>\n",
              "      <td>0</td>\n",
              "      <td>Pangani</td>\n",
              "      <td>Mafurini</td>\n",
              "      <td>Kilimanjaro</td>\n",
              "      <td>3</td>\n",
              "      <td>5</td>\n",
              "      <td>Hai</td>\n",
              "      <td>Machame Kaskazini</td>\n",
              "      <td>90</td>\n",
              "      <td>True</td>\n",
              "      <td>GeoData Consultants Ltd</td>\n",
              "      <td>Water Board</td>\n",
              "      <td>Machame water supply</td>\n",
              "      <td>True</td>\n",
              "      <td>2008</td>\n",
              "      <td>gravity</td>\n",
              "      <td>gravity</td>\n",
              "      <td>gravity</td>\n",
              "      <td>water board</td>\n",
              "      <td>user-group</td>\n",
              "      <td>pay per bucket</td>\n",
              "      <td>per bucket</td>\n",
              "      <td>soft</td>\n",
              "      <td>good</td>\n",
              "      <td>enough</td>\n",
              "      <td>enough</td>\n",
              "      <td>spring</td>\n",
              "      <td>spring</td>\n",
              "      <td>groundwater</td>\n",
              "      <td>communal standpipe</td>\n",
              "      <td>communal standpipe</td>\n",
              "      <td>functional</td>\n",
              "    </tr>\n",
              "    <tr>\n",
              "      <th>1</th>\n",
              "      <td>18014</td>\n",
              "      <td>0.0</td>\n",
              "      <td>2011-02-21</td>\n",
              "      <td>Cdtf</td>\n",
              "      <td>1409</td>\n",
              "      <td>CDTF</td>\n",
              "      <td>34.615481</td>\n",
              "      <td>-9.972601</td>\n",
              "      <td>none</td>\n",
              "      <td>0</td>\n",
              "      <td>Lake Nyasa</td>\n",
              "      <td>Ituni</td>\n",
              "      <td>Iringa</td>\n",
              "      <td>11</td>\n",
              "      <td>5</td>\n",
              "      <td>Ludewa</td>\n",
              "      <td>Luana</td>\n",
              "      <td>70</td>\n",
              "      <td>False</td>\n",
              "      <td>GeoData Consultants Ltd</td>\n",
              "      <td>Private operator</td>\n",
              "      <td>Mgowel</td>\n",
              "      <td>False</td>\n",
              "      <td>1984</td>\n",
              "      <td>gravity</td>\n",
              "      <td>gravity</td>\n",
              "      <td>gravity</td>\n",
              "      <td>private operator</td>\n",
              "      <td>commercial</td>\n",
              "      <td>never pay</td>\n",
              "      <td>never pay</td>\n",
              "      <td>soft</td>\n",
              "      <td>good</td>\n",
              "      <td>enough</td>\n",
              "      <td>enough</td>\n",
              "      <td>spring</td>\n",
              "      <td>spring</td>\n",
              "      <td>groundwater</td>\n",
              "      <td>communal standpipe</td>\n",
              "      <td>communal standpipe</td>\n",
              "      <td>functional</td>\n",
              "    </tr>\n",
              "    <tr>\n",
              "      <th>2</th>\n",
              "      <td>26103</td>\n",
              "      <td>0.0</td>\n",
              "      <td>2013-01-04</td>\n",
              "      <td>Government Of Tanzania</td>\n",
              "      <td>1572</td>\n",
              "      <td>DWE</td>\n",
              "      <td>36.658778</td>\n",
              "      <td>-3.321529</td>\n",
              "      <td>Kwa Loishiye</td>\n",
              "      <td>0</td>\n",
              "      <td>Pangani</td>\n",
              "      <td>Melebuki</td>\n",
              "      <td>Arusha</td>\n",
              "      <td>2</td>\n",
              "      <td>2</td>\n",
              "      <td>Arusha Rural</td>\n",
              "      <td>Kimnyaki</td>\n",
              "      <td>150</td>\n",
              "      <td>True</td>\n",
              "      <td>GeoData Consultants Ltd</td>\n",
              "      <td>VWC</td>\n",
              "      <td>Saitero olosaita pipe line</td>\n",
              "      <td>True</td>\n",
              "      <td>2002</td>\n",
              "      <td>gravity</td>\n",
              "      <td>gravity</td>\n",
              "      <td>gravity</td>\n",
              "      <td>vwc</td>\n",
              "      <td>user-group</td>\n",
              "      <td>never pay</td>\n",
              "      <td>never pay</td>\n",
              "      <td>soft</td>\n",
              "      <td>good</td>\n",
              "      <td>insufficient</td>\n",
              "      <td>insufficient</td>\n",
              "      <td>spring</td>\n",
              "      <td>spring</td>\n",
              "      <td>groundwater</td>\n",
              "      <td>communal standpipe</td>\n",
              "      <td>communal standpipe</td>\n",
              "      <td>non functional</td>\n",
              "    </tr>\n",
              "    <tr>\n",
              "      <th>3</th>\n",
              "      <td>31140</td>\n",
              "      <td>0.0</td>\n",
              "      <td>2011-04-03</td>\n",
              "      <td>District Council</td>\n",
              "      <td>0</td>\n",
              "      <td>District Council</td>\n",
              "      <td>33.628025</td>\n",
              "      <td>-8.860795</td>\n",
              "      <td>Mwanzechele</td>\n",
              "      <td>0</td>\n",
              "      <td>Rufiji</td>\n",
              "      <td>Darajani</td>\n",
              "      <td>Mbeya</td>\n",
              "      <td>12</td>\n",
              "      <td>2</td>\n",
              "      <td>Mbeya Rural</td>\n",
              "      <td>Inyala</td>\n",
              "      <td>0</td>\n",
              "      <td>True</td>\n",
              "      <td>GeoData Consultants Ltd</td>\n",
              "      <td>VWC</td>\n",
              "      <td>NaN</td>\n",
              "      <td>True</td>\n",
              "      <td>0</td>\n",
              "      <td>gravity</td>\n",
              "      <td>gravity</td>\n",
              "      <td>gravity</td>\n",
              "      <td>wug</td>\n",
              "      <td>user-group</td>\n",
              "      <td>pay annually</td>\n",
              "      <td>annually</td>\n",
              "      <td>soft</td>\n",
              "      <td>good</td>\n",
              "      <td>insufficient</td>\n",
              "      <td>insufficient</td>\n",
              "      <td>river</td>\n",
              "      <td>river/lake</td>\n",
              "      <td>surface</td>\n",
              "      <td>communal standpipe</td>\n",
              "      <td>communal standpipe</td>\n",
              "      <td>functional</td>\n",
              "    </tr>\n",
              "    <tr>\n",
              "      <th>4</th>\n",
              "      <td>12286</td>\n",
              "      <td>300.0</td>\n",
              "      <td>2013-03-08</td>\n",
              "      <td>District Council</td>\n",
              "      <td>1283</td>\n",
              "      <td>District Council</td>\n",
              "      <td>37.655509</td>\n",
              "      <td>-3.669777</td>\n",
              "      <td>Kwa Kidaya</td>\n",
              "      <td>0</td>\n",
              "      <td>Pangani</td>\n",
              "      <td>Mwira A</td>\n",
              "      <td>Kilimanjaro</td>\n",
              "      <td>3</td>\n",
              "      <td>2</td>\n",
              "      <td>Mwanga</td>\n",
              "      <td>Shinghatini</td>\n",
              "      <td>34</td>\n",
              "      <td>True</td>\n",
              "      <td>GeoData Consultants Ltd</td>\n",
              "      <td>VWC</td>\n",
              "      <td>Churu water supply</td>\n",
              "      <td>False</td>\n",
              "      <td>2007</td>\n",
              "      <td>gravity</td>\n",
              "      <td>gravity</td>\n",
              "      <td>gravity</td>\n",
              "      <td>vwc</td>\n",
              "      <td>user-group</td>\n",
              "      <td>pay monthly</td>\n",
              "      <td>monthly</td>\n",
              "      <td>soft</td>\n",
              "      <td>good</td>\n",
              "      <td>insufficient</td>\n",
              "      <td>insufficient</td>\n",
              "      <td>spring</td>\n",
              "      <td>spring</td>\n",
              "      <td>groundwater</td>\n",
              "      <td>communal standpipe</td>\n",
              "      <td>communal standpipe</td>\n",
              "      <td>functional</td>\n",
              "    </tr>\n",
              "    <tr>\n",
              "      <th>...</th>\n",
              "      <td>...</td>\n",
              "      <td>...</td>\n",
              "      <td>...</td>\n",
              "      <td>...</td>\n",
              "      <td>...</td>\n",
              "      <td>...</td>\n",
              "      <td>...</td>\n",
              "      <td>...</td>\n",
              "      <td>...</td>\n",
              "      <td>...</td>\n",
              "      <td>...</td>\n",
              "      <td>...</td>\n",
              "      <td>...</td>\n",
              "      <td>...</td>\n",
              "      <td>...</td>\n",
              "      <td>...</td>\n",
              "      <td>...</td>\n",
              "      <td>...</td>\n",
              "      <td>...</td>\n",
              "      <td>...</td>\n",
              "      <td>...</td>\n",
              "      <td>...</td>\n",
              "      <td>...</td>\n",
              "      <td>...</td>\n",
              "      <td>...</td>\n",
              "      <td>...</td>\n",
              "      <td>...</td>\n",
              "      <td>...</td>\n",
              "      <td>...</td>\n",
              "      <td>...</td>\n",
              "      <td>...</td>\n",
              "      <td>...</td>\n",
              "      <td>...</td>\n",
              "      <td>...</td>\n",
              "      <td>...</td>\n",
              "      <td>...</td>\n",
              "      <td>...</td>\n",
              "      <td>...</td>\n",
              "      <td>...</td>\n",
              "      <td>...</td>\n",
              "      <td>...</td>\n",
              "    </tr>\n",
              "    <tr>\n",
              "      <th>44545</th>\n",
              "      <td>43878</td>\n",
              "      <td>0.0</td>\n",
              "      <td>2013-01-23</td>\n",
              "      <td>World Vision</td>\n",
              "      <td>0</td>\n",
              "      <td>TAWASA</td>\n",
              "      <td>32.383715</td>\n",
              "      <td>-3.457624</td>\n",
              "      <td>Imalabuluhi</td>\n",
              "      <td>0</td>\n",
              "      <td>Lake Tanganyika</td>\n",
              "      <td>Bukenge</td>\n",
              "      <td>Shinyanga</td>\n",
              "      <td>17</td>\n",
              "      <td>3</td>\n",
              "      <td>Kahama</td>\n",
              "      <td>Segese</td>\n",
              "      <td>0</td>\n",
              "      <td>True</td>\n",
              "      <td>GeoData Consultants Ltd</td>\n",
              "      <td>NaN</td>\n",
              "      <td>NaN</td>\n",
              "      <td>True</td>\n",
              "      <td>0</td>\n",
              "      <td>nira/tanira</td>\n",
              "      <td>nira/tanira</td>\n",
              "      <td>handpump</td>\n",
              "      <td>wug</td>\n",
              "      <td>user-group</td>\n",
              "      <td>unknown</td>\n",
              "      <td>unknown</td>\n",
              "      <td>milky</td>\n",
              "      <td>milky</td>\n",
              "      <td>enough</td>\n",
              "      <td>enough</td>\n",
              "      <td>shallow well</td>\n",
              "      <td>shallow well</td>\n",
              "      <td>groundwater</td>\n",
              "      <td>hand pump</td>\n",
              "      <td>hand pump</td>\n",
              "      <td>functional</td>\n",
              "    </tr>\n",
              "    <tr>\n",
              "      <th>44546</th>\n",
              "      <td>50718</td>\n",
              "      <td>0.0</td>\n",
              "      <td>2011-07-25</td>\n",
              "      <td>Ded</td>\n",
              "      <td>0</td>\n",
              "      <td>DED</td>\n",
              "      <td>31.615509</td>\n",
              "      <td>-2.738682</td>\n",
              "      <td>Ilyamchele Center</td>\n",
              "      <td>0</td>\n",
              "      <td>Lake Victoria</td>\n",
              "      <td>Ilyamchele Center</td>\n",
              "      <td>Kagera</td>\n",
              "      <td>18</td>\n",
              "      <td>8</td>\n",
              "      <td>Chato</td>\n",
              "      <td>Katende</td>\n",
              "      <td>0</td>\n",
              "      <td>True</td>\n",
              "      <td>GeoData Consultants Ltd</td>\n",
              "      <td>WUA</td>\n",
              "      <td>NaN</td>\n",
              "      <td>True</td>\n",
              "      <td>0</td>\n",
              "      <td>afridev</td>\n",
              "      <td>afridev</td>\n",
              "      <td>handpump</td>\n",
              "      <td>wua</td>\n",
              "      <td>user-group</td>\n",
              "      <td>pay monthly</td>\n",
              "      <td>monthly</td>\n",
              "      <td>soft</td>\n",
              "      <td>good</td>\n",
              "      <td>enough</td>\n",
              "      <td>enough</td>\n",
              "      <td>hand dtw</td>\n",
              "      <td>borehole</td>\n",
              "      <td>groundwater</td>\n",
              "      <td>hand pump</td>\n",
              "      <td>hand pump</td>\n",
              "      <td>non functional</td>\n",
              "    </tr>\n",
              "    <tr>\n",
              "      <th>44547</th>\n",
              "      <td>67177</td>\n",
              "      <td>0.0</td>\n",
              "      <td>2013-02-23</td>\n",
              "      <td>Government Of Tanzania</td>\n",
              "      <td>969</td>\n",
              "      <td>Government</td>\n",
              "      <td>35.134412</td>\n",
              "      <td>-10.676062</td>\n",
              "      <td>Kwa Mzee Maondo</td>\n",
              "      <td>0</td>\n",
              "      <td>Ruvuma / Southern Coast</td>\n",
              "      <td>Masango</td>\n",
              "      <td>Ruvuma</td>\n",
              "      <td>10</td>\n",
              "      <td>3</td>\n",
              "      <td>Mbinga</td>\n",
              "      <td>Kigonsera</td>\n",
              "      <td>60</td>\n",
              "      <td>NaN</td>\n",
              "      <td>GeoData Consultants Ltd</td>\n",
              "      <td>VWC</td>\n",
              "      <td>Government</td>\n",
              "      <td>NaN</td>\n",
              "      <td>1977</td>\n",
              "      <td>gravity</td>\n",
              "      <td>gravity</td>\n",
              "      <td>gravity</td>\n",
              "      <td>vwc</td>\n",
              "      <td>user-group</td>\n",
              "      <td>unknown</td>\n",
              "      <td>unknown</td>\n",
              "      <td>soft</td>\n",
              "      <td>good</td>\n",
              "      <td>seasonal</td>\n",
              "      <td>seasonal</td>\n",
              "      <td>spring</td>\n",
              "      <td>spring</td>\n",
              "      <td>groundwater</td>\n",
              "      <td>communal standpipe</td>\n",
              "      <td>communal standpipe</td>\n",
              "      <td>functional</td>\n",
              "    </tr>\n",
              "    <tr>\n",
              "      <th>44548</th>\n",
              "      <td>2744</td>\n",
              "      <td>200.0</td>\n",
              "      <td>2013-03-26</td>\n",
              "      <td>Adra</td>\n",
              "      <td>1269</td>\n",
              "      <td>ADRA/Government</td>\n",
              "      <td>37.886287</td>\n",
              "      <td>-4.390882</td>\n",
              "      <td>Miembeni</td>\n",
              "      <td>0</td>\n",
              "      <td>Pangani</td>\n",
              "      <td>Mng'Ende</td>\n",
              "      <td>Kilimanjaro</td>\n",
              "      <td>3</td>\n",
              "      <td>3</td>\n",
              "      <td>Same</td>\n",
              "      <td>Suji</td>\n",
              "      <td>80</td>\n",
              "      <td>True</td>\n",
              "      <td>GeoData Consultants Ltd</td>\n",
              "      <td>Water authority</td>\n",
              "      <td>Kiumba water supply</td>\n",
              "      <td>True</td>\n",
              "      <td>2011</td>\n",
              "      <td>gravity</td>\n",
              "      <td>gravity</td>\n",
              "      <td>gravity</td>\n",
              "      <td>vwc</td>\n",
              "      <td>user-group</td>\n",
              "      <td>pay monthly</td>\n",
              "      <td>monthly</td>\n",
              "      <td>soft</td>\n",
              "      <td>good</td>\n",
              "      <td>insufficient</td>\n",
              "      <td>insufficient</td>\n",
              "      <td>spring</td>\n",
              "      <td>spring</td>\n",
              "      <td>groundwater</td>\n",
              "      <td>communal standpipe</td>\n",
              "      <td>communal standpipe</td>\n",
              "      <td>functional</td>\n",
              "    </tr>\n",
              "    <tr>\n",
              "      <th>44549</th>\n",
              "      <td>10262</td>\n",
              "      <td>0.0</td>\n",
              "      <td>2013-01-26</td>\n",
              "      <td>World Vision</td>\n",
              "      <td>0</td>\n",
              "      <td>Consulting Engineer</td>\n",
              "      <td>32.976560</td>\n",
              "      <td>-4.262149</td>\n",
              "      <td>Itunda A Mkwajuni</td>\n",
              "      <td>0</td>\n",
              "      <td>Lake Tanganyika</td>\n",
              "      <td>Itunda A</td>\n",
              "      <td>Tabora</td>\n",
              "      <td>14</td>\n",
              "      <td>1</td>\n",
              "      <td>Nzega</td>\n",
              "      <td>Karitu</td>\n",
              "      <td>0</td>\n",
              "      <td>True</td>\n",
              "      <td>GeoData Consultants Ltd</td>\n",
              "      <td>VWC</td>\n",
              "      <td>NaN</td>\n",
              "      <td>False</td>\n",
              "      <td>0</td>\n",
              "      <td>nira/tanira</td>\n",
              "      <td>nira/tanira</td>\n",
              "      <td>handpump</td>\n",
              "      <td>vwc</td>\n",
              "      <td>user-group</td>\n",
              "      <td>pay when scheme fails</td>\n",
              "      <td>on failure</td>\n",
              "      <td>soft</td>\n",
              "      <td>good</td>\n",
              "      <td>enough</td>\n",
              "      <td>enough</td>\n",
              "      <td>shallow well</td>\n",
              "      <td>shallow well</td>\n",
              "      <td>groundwater</td>\n",
              "      <td>hand pump</td>\n",
              "      <td>hand pump</td>\n",
              "      <td>functional</td>\n",
              "    </tr>\n",
              "  </tbody>\n",
              "</table>\n",
              "<p>44550 rows × 41 columns</p>\n",
              "</div>"
            ],
            "text/plain": [
              "          id  amount_tsh  ... waterpoint_type_group    status_group\n",
              "0       7411         7.0  ...    communal standpipe      functional\n",
              "1      18014         0.0  ...    communal standpipe      functional\n",
              "2      26103         0.0  ...    communal standpipe  non functional\n",
              "3      31140         0.0  ...    communal standpipe      functional\n",
              "4      12286       300.0  ...    communal standpipe      functional\n",
              "...      ...         ...  ...                   ...             ...\n",
              "44545  43878         0.0  ...             hand pump      functional\n",
              "44546  50718         0.0  ...             hand pump  non functional\n",
              "44547  67177         0.0  ...    communal standpipe      functional\n",
              "44548   2744       200.0  ...    communal standpipe      functional\n",
              "44549  10262         0.0  ...             hand pump      functional\n",
              "\n",
              "[44550 rows x 41 columns]"
            ]
          },
          "metadata": {
            "tags": []
          }
        }
      ]
    },
    {
      "cell_type": "code",
      "metadata": {
        "colab": {
          "base_uri": "https://localhost:8080/"
        },
        "id": "P5Egpee1e2_K",
        "outputId": "2520c174-d081-4ce4-fd1f-36b07563dfac"
      },
      "source": [
        "train_df.dtypes"
      ],
      "execution_count": null,
      "outputs": [
        {
          "output_type": "execute_result",
          "data": {
            "text/plain": [
              "id                         int64\n",
              "amount_tsh               float64\n",
              "date_recorded             object\n",
              "funder                    object\n",
              "gps_height                 int64\n",
              "installer                 object\n",
              "longitude                float64\n",
              "latitude                 float64\n",
              "wpt_name                  object\n",
              "num_private                int64\n",
              "basin                     object\n",
              "subvillage                object\n",
              "region                    object\n",
              "region_code                int64\n",
              "district_code              int64\n",
              "lga                       object\n",
              "ward                      object\n",
              "population                 int64\n",
              "public_meeting            object\n",
              "recorded_by               object\n",
              "scheme_management         object\n",
              "scheme_name               object\n",
              "permit                    object\n",
              "construction_year          int64\n",
              "extraction_type           object\n",
              "extraction_type_group     object\n",
              "extraction_type_class     object\n",
              "management                object\n",
              "management_group          object\n",
              "payment                   object\n",
              "payment_type              object\n",
              "water_quality             object\n",
              "quality_group             object\n",
              "quantity                  object\n",
              "quantity_group            object\n",
              "source                    object\n",
              "source_type               object\n",
              "source_class              object\n",
              "waterpoint_type           object\n",
              "waterpoint_type_group     object\n",
              "status_group              object\n",
              "dtype: object"
            ]
          },
          "metadata": {
            "tags": []
          },
          "execution_count": 56
        }
      ]
    },
    {
      "cell_type": "markdown",
      "metadata": {
        "id": "HevONMKRhv-S"
      },
      "source": [
        "Observation:\n",
        "\n",
        "All datatypes are not int or float, most of the data is categorical"
      ]
    },
    {
      "cell_type": "markdown",
      "metadata": {
        "id": "Nm6MtXPNqLbO"
      },
      "source": [
        "**Data Inspection**"
      ]
    },
    {
      "cell_type": "code",
      "metadata": {
        "colab": {
          "base_uri": "https://localhost:8080/"
        },
        "id": "lMBB4K_KhrsH",
        "outputId": "135678c2-fc7c-4ed6-ddfb-3aba21e75bd8"
      },
      "source": [
        "for col in train_df.columns.values: #for each column\n",
        "  list_vals = pd.unique(train_df[col])   # create a list of unique values\n",
        "  print(col + ' is of type ' + str(train_df[col].dtypes) +', has ' + str(len(list_vals)) + 'unique values' )\n",
        "  if len(list_vals) < 10: # If list has less than 10 unique values then print them\n",
        "    list_str = ''\n",
        "    for n_value in range(0,len(list_vals)):\n",
        "      list_str = list_str + str(list_vals[n_value]) + ','\n",
        "    print(' These are:' + list_str[0:len(list_str)-2])"
      ],
      "execution_count": null,
      "outputs": [
        {
          "output_type": "stream",
          "text": [
            "id is of type int64, has 44550unique values\n",
            "amount_tsh is of type float64, has 85unique values\n",
            "date_recorded is of type object, has 346unique values\n",
            "funder is of type object, has 1652unique values\n",
            "gps_height is of type int64, has 2396unique values\n",
            "installer is of type object, has 1855unique values\n",
            "longitude is of type float64, has 43155unique values\n",
            "latitude is of type float64, has 43155unique values\n",
            "wpt_name is of type object, has 28991unique values\n",
            "num_private is of type int64, has 59unique values\n",
            "basin is of type object, has 9unique values\n",
            " These are:Pangani,Lake Nyasa,Rufiji,Lake Tanganyika,Lake Victoria,Wami / Ruvu,Internal,Ruvuma / Southern Coast,Lake Rukw\n",
            "subvillage is of type object, has 16618unique values\n",
            "region is of type object, has 21unique values\n",
            "region_code is of type int64, has 27unique values\n",
            "district_code is of type int64, has 20unique values\n",
            "lga is of type object, has 125unique values\n",
            "ward is of type object, has 2080unique values\n",
            "population is of type int64, has 956unique values\n",
            "public_meeting is of type object, has 3unique values\n",
            " These are:True,False,na\n",
            "recorded_by is of type object, has 1unique values\n",
            " These are:GeoData Consultants Lt\n",
            "scheme_management is of type object, has 13unique values\n",
            "scheme_name is of type object, has 2507unique values\n",
            "permit is of type object, has 3unique values\n",
            " These are:True,False,na\n",
            "construction_year is of type int64, has 55unique values\n",
            "extraction_type is of type object, has 18unique values\n",
            "extraction_type_group is of type object, has 13unique values\n",
            "extraction_type_class is of type object, has 7unique values\n",
            " These are:gravity,handpump,motorpump,submersible,other,rope pump,wind-powere\n",
            "management is of type object, has 12unique values\n",
            "management_group is of type object, has 5unique values\n",
            " These are:user-group,commercial,parastatal,unknown,othe\n",
            "payment is of type object, has 7unique values\n",
            " These are:pay per bucket,never pay,pay annually,pay monthly,unknown,pay when scheme fails,othe\n",
            "payment_type is of type object, has 7unique values\n",
            " These are:per bucket,never pay,annually,monthly,unknown,on failure,othe\n",
            "water_quality is of type object, has 8unique values\n",
            " These are:soft,salty abandoned,unknown,salty,fluoride,milky,coloured,fluoride abandone\n",
            "quality_group is of type object, has 6unique values\n",
            " These are:good,salty,unknown,fluoride,milky,colore\n",
            "quantity is of type object, has 5unique values\n",
            " These are:enough,insufficient,dry,unknown,seasona\n",
            "quantity_group is of type object, has 5unique values\n",
            " These are:enough,insufficient,dry,unknown,seasona\n",
            "source is of type object, has 10unique values\n",
            "source_type is of type object, has 7unique values\n",
            " These are:spring,river/lake,shallow well,borehole,rainwater harvesting,dam,othe\n",
            "source_class is of type object, has 3unique values\n",
            " These are:groundwater,surface,unknow\n",
            "waterpoint_type is of type object, has 7unique values\n",
            " These are:communal standpipe,hand pump,other,communal standpipe multiple,cattle trough,improved spring,da\n",
            "waterpoint_type_group is of type object, has 6unique values\n",
            " These are:communal standpipe,hand pump,other,cattle trough,improved spring,da\n",
            "status_group is of type object, has 3unique values\n",
            " These are:functional,non functional,functional needs repai\n"
          ],
          "name": "stdout"
        }
      ]
    },
    {
      "cell_type": "code",
      "metadata": {
        "colab": {
          "base_uri": "https://localhost:8080/"
        },
        "id": "saxNZcxOh6Ve",
        "outputId": "00f4ee7b-698d-4305-cd83-cc16841407bc"
      },
      "source": [
        "train_df.isnull().sum()"
      ],
      "execution_count": null,
      "outputs": [
        {
          "output_type": "execute_result",
          "data": {
            "text/plain": [
              "id                           0\n",
              "amount_tsh                   0\n",
              "date_recorded                0\n",
              "funder                    2793\n",
              "gps_height                   0\n",
              "installer                 2807\n",
              "longitude                    0\n",
              "latitude                     0\n",
              "wpt_name                     0\n",
              "num_private                  0\n",
              "basin                        0\n",
              "subvillage                 287\n",
              "region                       0\n",
              "region_code                  0\n",
              "district_code                0\n",
              "lga                          0\n",
              "ward                         0\n",
              "population                   0\n",
              "public_meeting            2491\n",
              "recorded_by                  0\n",
              "scheme_management         2832\n",
              "scheme_name              21110\n",
              "permit                    2336\n",
              "construction_year            0\n",
              "extraction_type              0\n",
              "extraction_type_group        0\n",
              "extraction_type_class        0\n",
              "management                   0\n",
              "management_group             0\n",
              "payment                      0\n",
              "payment_type                 0\n",
              "water_quality                0\n",
              "quality_group                0\n",
              "quantity                     0\n",
              "quantity_group               0\n",
              "source                       0\n",
              "source_type                  0\n",
              "source_class                 0\n",
              "waterpoint_type              0\n",
              "waterpoint_type_group        0\n",
              "status_group                 0\n",
              "dtype: int64"
            ]
          },
          "metadata": {
            "tags": []
          },
          "execution_count": 59
        }
      ]
    },
    {
      "cell_type": "markdown",
      "metadata": {
        "id": "pcKDGKa-qVTm"
      },
      "source": [
        "These missing values need to be handled."
      ]
    },
    {
      "cell_type": "code",
      "metadata": {
        "colab": {
          "base_uri": "https://localhost:8080/"
        },
        "id": "V8Y1AVVfiMlB",
        "outputId": "8ee9a16f-c337-4c5c-efe3-18cac87597b8"
      },
      "source": [
        "train_df.columns.values"
      ],
      "execution_count": null,
      "outputs": [
        {
          "output_type": "execute_result",
          "data": {
            "text/plain": [
              "array(['id', 'amount_tsh', 'date_recorded', 'funder', 'gps_height',\n",
              "       'installer', 'longitude', 'latitude', 'wpt_name', 'num_private',\n",
              "       'basin', 'subvillage', 'region', 'region_code', 'district_code',\n",
              "       'lga', 'ward', 'population', 'public_meeting', 'recorded_by',\n",
              "       'scheme_management', 'scheme_name', 'permit', 'construction_year',\n",
              "       'extraction_type', 'extraction_type_group',\n",
              "       'extraction_type_class', 'management', 'management_group',\n",
              "       'payment', 'payment_type', 'water_quality', 'quality_group',\n",
              "       'quantity', 'quantity_group', 'source', 'source_type',\n",
              "       'source_class', 'waterpoint_type', 'waterpoint_type_group',\n",
              "       'status_group'], dtype=object)"
            ]
          },
          "metadata": {
            "tags": []
          },
          "execution_count": 60
        }
      ]
    },
    {
      "cell_type": "code",
      "metadata": {
        "colab": {
          "base_uri": "https://localhost:8080/",
          "height": 287
        },
        "id": "oj5J5RJciQip",
        "outputId": "a78a09d7-593f-40b8-8b5f-025f5862545b"
      },
      "source": [
        "train_df.describe()"
      ],
      "execution_count": null,
      "outputs": [
        {
          "output_type": "execute_result",
          "data": {
            "text/html": [
              "<div>\n",
              "<style scoped>\n",
              "    .dataframe tbody tr th:only-of-type {\n",
              "        vertical-align: middle;\n",
              "    }\n",
              "\n",
              "    .dataframe tbody tr th {\n",
              "        vertical-align: top;\n",
              "    }\n",
              "\n",
              "    .dataframe thead th {\n",
              "        text-align: right;\n",
              "    }\n",
              "</style>\n",
              "<table border=\"1\" class=\"dataframe\">\n",
              "  <thead>\n",
              "    <tr style=\"text-align: right;\">\n",
              "      <th></th>\n",
              "      <th>id</th>\n",
              "      <th>amount_tsh</th>\n",
              "      <th>gps_height</th>\n",
              "      <th>longitude</th>\n",
              "      <th>latitude</th>\n",
              "      <th>num_private</th>\n",
              "      <th>region_code</th>\n",
              "      <th>district_code</th>\n",
              "      <th>population</th>\n",
              "      <th>construction_year</th>\n",
              "    </tr>\n",
              "  </thead>\n",
              "  <tbody>\n",
              "    <tr>\n",
              "      <th>count</th>\n",
              "      <td>44550.000000</td>\n",
              "      <td>44550.000000</td>\n",
              "      <td>44550.000000</td>\n",
              "      <td>44550.000000</td>\n",
              "      <td>4.455000e+04</td>\n",
              "      <td>44550.000000</td>\n",
              "      <td>44550.000000</td>\n",
              "      <td>44550.000000</td>\n",
              "      <td>44550.000000</td>\n",
              "      <td>44550.000000</td>\n",
              "    </tr>\n",
              "    <tr>\n",
              "      <th>mean</th>\n",
              "      <td>37192.623681</td>\n",
              "      <td>307.623224</td>\n",
              "      <td>665.490774</td>\n",
              "      <td>34.084084</td>\n",
              "      <td>-5.721980e+00</td>\n",
              "      <td>0.521549</td>\n",
              "      <td>15.338563</td>\n",
              "      <td>5.678967</td>\n",
              "      <td>179.112750</td>\n",
              "      <td>1295.782155</td>\n",
              "    </tr>\n",
              "    <tr>\n",
              "      <th>std</th>\n",
              "      <td>21399.827198</td>\n",
              "      <td>2402.742799</td>\n",
              "      <td>693.653179</td>\n",
              "      <td>6.555924</td>\n",
              "      <td>2.948828e+00</td>\n",
              "      <td>13.835868</td>\n",
              "      <td>17.672144</td>\n",
              "      <td>9.724205</td>\n",
              "      <td>478.995645</td>\n",
              "      <td>953.183961</td>\n",
              "    </tr>\n",
              "    <tr>\n",
              "      <th>min</th>\n",
              "      <td>1.000000</td>\n",
              "      <td>0.000000</td>\n",
              "      <td>-90.000000</td>\n",
              "      <td>0.000000</td>\n",
              "      <td>-1.164838e+01</td>\n",
              "      <td>0.000000</td>\n",
              "      <td>1.000000</td>\n",
              "      <td>0.000000</td>\n",
              "      <td>0.000000</td>\n",
              "      <td>0.000000</td>\n",
              "    </tr>\n",
              "    <tr>\n",
              "      <th>25%</th>\n",
              "      <td>18723.250000</td>\n",
              "      <td>0.000000</td>\n",
              "      <td>0.000000</td>\n",
              "      <td>33.105585</td>\n",
              "      <td>-8.574241e+00</td>\n",
              "      <td>0.000000</td>\n",
              "      <td>5.000000</td>\n",
              "      <td>2.000000</td>\n",
              "      <td>0.000000</td>\n",
              "      <td>0.000000</td>\n",
              "    </tr>\n",
              "    <tr>\n",
              "      <th>50%</th>\n",
              "      <td>37183.500000</td>\n",
              "      <td>0.000000</td>\n",
              "      <td>363.000000</td>\n",
              "      <td>34.905600</td>\n",
              "      <td>-5.045611e+00</td>\n",
              "      <td>0.000000</td>\n",
              "      <td>12.000000</td>\n",
              "      <td>3.000000</td>\n",
              "      <td>25.000000</td>\n",
              "      <td>1985.000000</td>\n",
              "    </tr>\n",
              "    <tr>\n",
              "      <th>75%</th>\n",
              "      <td>55647.500000</td>\n",
              "      <td>20.000000</td>\n",
              "      <td>1318.000000</td>\n",
              "      <td>37.176859</td>\n",
              "      <td>-3.327795e+00</td>\n",
              "      <td>0.000000</td>\n",
              "      <td>17.000000</td>\n",
              "      <td>5.000000</td>\n",
              "      <td>210.000000</td>\n",
              "      <td>2004.000000</td>\n",
              "    </tr>\n",
              "    <tr>\n",
              "      <th>max</th>\n",
              "      <td>74247.000000</td>\n",
              "      <td>170000.000000</td>\n",
              "      <td>2770.000000</td>\n",
              "      <td>40.345193</td>\n",
              "      <td>-2.000000e-08</td>\n",
              "      <td>1776.000000</td>\n",
              "      <td>99.000000</td>\n",
              "      <td>80.000000</td>\n",
              "      <td>30500.000000</td>\n",
              "      <td>2013.000000</td>\n",
              "    </tr>\n",
              "  </tbody>\n",
              "</table>\n",
              "</div>"
            ],
            "text/plain": [
              "                 id     amount_tsh  ...    population  construction_year\n",
              "count  44550.000000   44550.000000  ...  44550.000000       44550.000000\n",
              "mean   37192.623681     307.623224  ...    179.112750        1295.782155\n",
              "std    21399.827198    2402.742799  ...    478.995645         953.183961\n",
              "min        1.000000       0.000000  ...      0.000000           0.000000\n",
              "25%    18723.250000       0.000000  ...      0.000000           0.000000\n",
              "50%    37183.500000       0.000000  ...     25.000000        1985.000000\n",
              "75%    55647.500000      20.000000  ...    210.000000        2004.000000\n",
              "max    74247.000000  170000.000000  ...  30500.000000        2013.000000\n",
              "\n",
              "[8 rows x 10 columns]"
            ]
          },
          "metadata": {
            "tags": []
          },
          "execution_count": 61
        }
      ]
    },
    {
      "cell_type": "markdown",
      "metadata": {
        "id": "_RAzaz69ido-"
      },
      "source": [
        "There are a lot of features with similar representation of data such as \n",
        "\n",
        "extraction_type, extraction_type_group, extraction_type_class, \n",
        "\n",
        "payment, payment_type,\n",
        "\n",
        "waterpoint_type, waterpoint_type_group etc.\n",
        "\n",
        "so dropping these type of redundant data as they are not adding any additional value to the data.\n",
        "\n",
        "Those features which are highly correlated are dropped and those having less no. of unique values.\n",
        "\n",
        "Id, wpt_name can be dropped as they are unique and it won't effect the classification, num_private has almost all the values as zero so it can also be dropped.\n",
        "\n"
      ]
    },
    {
      "cell_type": "markdown",
      "metadata": {
        "id": "CM-neCN-zno0"
      },
      "source": [
        "#Part 2\n",
        "\n",
        "Variable transformation, feature engineering, feature selection or elimination"
      ]
    },
    {
      "cell_type": "code",
      "metadata": {
        "id": "2z6Z4wmUiUhs"
      },
      "source": [
        "## Dropping the correlated data\n",
        "train_df = train_df.drop(['id','wpt_name','num_private','region','region_code','recorded_by','district_code','lga','ward','quantity_group','quality_group','source', 'extraction_type_group', 'management', 'payment', 'installer', 'scheme_management', 'scheme_name', 'subvillage'], axis=1)"
      ],
      "execution_count": null,
      "outputs": []
    },
    {
      "cell_type": "markdown",
      "metadata": {
        "id": "_tGGP7fytWn0"
      },
      "source": [
        "Checking the null values."
      ]
    },
    {
      "cell_type": "code",
      "metadata": {
        "colab": {
          "base_uri": "https://localhost:8080/"
        },
        "id": "bNzWMwBEi-5h",
        "outputId": "3ab00cc2-0f07-4b11-c53a-76941f39e4d8"
      },
      "source": [
        "train_df.isnull().sum()"
      ],
      "execution_count": null,
      "outputs": [
        {
          "output_type": "execute_result",
          "data": {
            "text/plain": [
              "amount_tsh                  0\n",
              "date_recorded               0\n",
              "funder                   2793\n",
              "gps_height                  0\n",
              "longitude                   0\n",
              "latitude                    0\n",
              "basin                       0\n",
              "population                  0\n",
              "public_meeting           2491\n",
              "permit                   2336\n",
              "construction_year           0\n",
              "extraction_type             0\n",
              "extraction_type_class       0\n",
              "management_group            0\n",
              "payment_type                0\n",
              "water_quality               0\n",
              "quantity                    0\n",
              "source_type                 0\n",
              "source_class                0\n",
              "waterpoint_type             0\n",
              "waterpoint_type_group       0\n",
              "status_group                0\n",
              "dtype: int64"
            ]
          },
          "metadata": {
            "tags": []
          },
          "execution_count": 63
        }
      ]
    },
    {
      "cell_type": "markdown",
      "metadata": {
        "id": "dMOdPnrR3Bx_"
      },
      "source": [
        "The null data entries are to be replaced by a suitable quantity or value."
      ]
    },
    {
      "cell_type": "markdown",
      "metadata": {
        "id": "Sj1hdjc7thV6"
      },
      "source": [
        "These are the target variables.\n",
        "\n",
        "functional          \n",
        "\n",
        "non functional     \n",
        "        \n",
        "functional needs repair"
      ]
    },
    {
      "cell_type": "code",
      "metadata": {
        "colab": {
          "base_uri": "https://localhost:8080/"
        },
        "id": "604-EUqAjA8-",
        "outputId": "b3dbaf86-68d1-4bfa-c775-9ae8bb08cb1d"
      },
      "source": [
        "train_df.status_group.value_counts()"
      ],
      "execution_count": null,
      "outputs": [
        {
          "output_type": "execute_result",
          "data": {
            "text/plain": [
              "functional                 24194\n",
              "non functional             17118\n",
              "functional needs repair     3238\n",
              "Name: status_group, dtype: int64"
            ]
          },
          "metadata": {
            "tags": []
          },
          "execution_count": 64
        }
      ]
    },
    {
      "cell_type": "code",
      "metadata": {
        "id": "Bv88RhFJjetc"
      },
      "source": [
        "# To convert string to numeric value\n",
        "new_values = {'functional':2, 'functional needs repair':1, 'non functional':0}\n",
        "train_df['status_values']  = train_df.status_group.replace(new_values)"
      ],
      "execution_count": null,
      "outputs": []
    },
    {
      "cell_type": "code",
      "metadata": {
        "colab": {
          "base_uri": "https://localhost:8080/"
        },
        "id": "M48inzKZjh43",
        "outputId": "715003e3-92c2-4321-a00e-0f0753a07ab4"
      },
      "source": [
        "train_df['funder'].head(10)"
      ],
      "execution_count": null,
      "outputs": [
        {
          "output_type": "execute_result",
          "data": {
            "text/plain": [
              "0                   Germany Republi\n",
              "1                              Cdtf\n",
              "2            Government Of Tanzania\n",
              "3                  District Council\n",
              "4                  District Council\n",
              "5    Rural Water Supply And Sanitat\n",
              "6            Government Of Tanzania\n",
              "7                  District Council\n",
              "8                               Dwe\n",
              "9                              Dwsp\n",
              "Name: funder, dtype: object"
            ]
          },
          "metadata": {
            "tags": []
          },
          "execution_count": 66
        }
      ]
    },
    {
      "cell_type": "code",
      "metadata": {
        "id": "g99cXHZqjk47"
      },
      "source": [
        "# Create a function to reduce the amount of dummy columns needed whilst maintaining the \n",
        "# information contained in the column.\n",
        "\n",
        "def funder_new(row):  \n",
        "    '''Keep top 5 values and set the rest to 'other'''\n",
        "\n",
        "    if row['funder']=='Government Of Tanzania':\n",
        "        return 'gov'\n",
        "    elif row['funder']=='Danida':\n",
        "        return 'danida'\n",
        "    elif row['funder']=='Hesawa':\n",
        "        return 'hesawa'\n",
        "    elif row['funder']=='Rwssp':\n",
        "        return 'rwssp'\n",
        "    elif row['funder']=='World Bank':\n",
        "        return 'world_bank'    \n",
        "    else:\n",
        "        return 'other'\n",
        "    \n",
        "train_df['funder'] = train_df.apply(lambda row: funder_new(row), axis=1)"
      ],
      "execution_count": null,
      "outputs": []
    },
    {
      "cell_type": "code",
      "metadata": {
        "colab": {
          "base_uri": "https://localhost:8080/",
          "height": 617
        },
        "id": "IjeVXFJyjntu",
        "outputId": "ffb580a3-2ab9-4c0e-df9a-f7f9b682ca0a"
      },
      "source": [
        "piv_table = pd.pivot_table(train_df,index=['funder','status_group'],values='status_values', aggfunc='count')\n",
        "piv_table"
      ],
      "execution_count": null,
      "outputs": [
        {
          "output_type": "execute_result",
          "data": {
            "text/html": [
              "<div>\n",
              "<style scoped>\n",
              "    .dataframe tbody tr th:only-of-type {\n",
              "        vertical-align: middle;\n",
              "    }\n",
              "\n",
              "    .dataframe tbody tr th {\n",
              "        vertical-align: top;\n",
              "    }\n",
              "\n",
              "    .dataframe thead th {\n",
              "        text-align: right;\n",
              "    }\n",
              "</style>\n",
              "<table border=\"1\" class=\"dataframe\">\n",
              "  <thead>\n",
              "    <tr style=\"text-align: right;\">\n",
              "      <th></th>\n",
              "      <th></th>\n",
              "      <th>status_values</th>\n",
              "    </tr>\n",
              "    <tr>\n",
              "      <th>funder</th>\n",
              "      <th>status_group</th>\n",
              "      <th></th>\n",
              "    </tr>\n",
              "  </thead>\n",
              "  <tbody>\n",
              "    <tr>\n",
              "      <th rowspan=\"3\" valign=\"top\">danida</th>\n",
              "      <th>functional</th>\n",
              "      <td>1282</td>\n",
              "    </tr>\n",
              "    <tr>\n",
              "      <th>functional needs repair</th>\n",
              "      <td>119</td>\n",
              "    </tr>\n",
              "    <tr>\n",
              "      <th>non functional</th>\n",
              "      <td>961</td>\n",
              "    </tr>\n",
              "    <tr>\n",
              "      <th rowspan=\"3\" valign=\"top\">gov</th>\n",
              "      <th>functional</th>\n",
              "      <td>2781</td>\n",
              "    </tr>\n",
              "    <tr>\n",
              "      <th>functional needs repair</th>\n",
              "      <td>519</td>\n",
              "    </tr>\n",
              "    <tr>\n",
              "      <th>non functional</th>\n",
              "      <td>3480</td>\n",
              "    </tr>\n",
              "    <tr>\n",
              "      <th rowspan=\"3\" valign=\"top\">hesawa</th>\n",
              "      <th>functional</th>\n",
              "      <td>692</td>\n",
              "    </tr>\n",
              "    <tr>\n",
              "      <th>functional needs repair</th>\n",
              "      <td>180</td>\n",
              "    </tr>\n",
              "    <tr>\n",
              "      <th>non functional</th>\n",
              "      <td>767</td>\n",
              "    </tr>\n",
              "    <tr>\n",
              "      <th rowspan=\"3\" valign=\"top\">other</th>\n",
              "      <th>functional</th>\n",
              "      <td>18431</td>\n",
              "    </tr>\n",
              "    <tr>\n",
              "      <th>functional needs repair</th>\n",
              "      <td>2267</td>\n",
              "    </tr>\n",
              "    <tr>\n",
              "      <th>non functional</th>\n",
              "      <td>11077</td>\n",
              "    </tr>\n",
              "    <tr>\n",
              "      <th rowspan=\"3\" valign=\"top\">rwssp</th>\n",
              "      <th>functional</th>\n",
              "      <td>609</td>\n",
              "    </tr>\n",
              "    <tr>\n",
              "      <th>functional needs repair</th>\n",
              "      <td>80</td>\n",
              "    </tr>\n",
              "    <tr>\n",
              "      <th>non functional</th>\n",
              "      <td>343</td>\n",
              "    </tr>\n",
              "    <tr>\n",
              "      <th rowspan=\"3\" valign=\"top\">world_bank</th>\n",
              "      <th>functional</th>\n",
              "      <td>399</td>\n",
              "    </tr>\n",
              "    <tr>\n",
              "      <th>functional needs repair</th>\n",
              "      <td>73</td>\n",
              "    </tr>\n",
              "    <tr>\n",
              "      <th>non functional</th>\n",
              "      <td>490</td>\n",
              "    </tr>\n",
              "  </tbody>\n",
              "</table>\n",
              "</div>"
            ],
            "text/plain": [
              "                                    status_values\n",
              "funder     status_group                          \n",
              "danida     functional                        1282\n",
              "           functional needs repair            119\n",
              "           non functional                     961\n",
              "gov        functional                        2781\n",
              "           functional needs repair            519\n",
              "           non functional                    3480\n",
              "hesawa     functional                         692\n",
              "           functional needs repair            180\n",
              "           non functional                     767\n",
              "other      functional                       18431\n",
              "           functional needs repair           2267\n",
              "           non functional                   11077\n",
              "rwssp      functional                         609\n",
              "           functional needs repair             80\n",
              "           non functional                     343\n",
              "world_bank functional                         399\n",
              "           functional needs repair             73\n",
              "           non functional                     490"
            ]
          },
          "metadata": {
            "tags": []
          },
          "execution_count": 68
        }
      ]
    },
    {
      "cell_type": "code",
      "metadata": {
        "colab": {
          "base_uri": "https://localhost:8080/"
        },
        "id": "irTFQzpLjrL4",
        "outputId": "7f3efd64-8c9c-4dda-8ca1-4001037597a3"
      },
      "source": [
        "train_df.public_meeting.value_counts()"
      ],
      "execution_count": null,
      "outputs": [
        {
          "output_type": "execute_result",
          "data": {
            "text/plain": [
              "True     38212\n",
              "False     3847\n",
              "Name: public_meeting, dtype: int64"
            ]
          },
          "metadata": {
            "tags": []
          },
          "execution_count": 69
        }
      ]
    },
    {
      "cell_type": "code",
      "metadata": {
        "id": "m8COhUwhjufd"
      },
      "source": [
        "##There are only two values in this column so, we can keep it and fill the null values to UNKNOWN\n",
        "train_df.public_meeting = train_df.public_meeting.fillna('Unknown')\n",
        "\n"
      ],
      "execution_count": null,
      "outputs": []
    },
    {
      "cell_type": "code",
      "metadata": {
        "colab": {
          "base_uri": "https://localhost:8080/"
        },
        "id": "Ymm5GgcIjyZy",
        "outputId": "dc8a57ce-ae07-46d6-9980-e9ec09c1d754"
      },
      "source": [
        "train_df.permit.value_counts()"
      ],
      "execution_count": null,
      "outputs": [
        {
          "output_type": "execute_result",
          "data": {
            "text/plain": [
              "True     29057\n",
              "False    13157\n",
              "Name: permit, dtype: int64"
            ]
          },
          "metadata": {
            "tags": []
          },
          "execution_count": 71
        }
      ]
    },
    {
      "cell_type": "code",
      "metadata": {
        "id": "hPPTmWgqj3Bc"
      },
      "source": [
        "##There are only two values in this column so, we can keep it and fill the null values to UNKNOWN\n",
        "train_df.permit = train_df.permit.fillna('Unknown')"
      ],
      "execution_count": null,
      "outputs": []
    },
    {
      "cell_type": "code",
      "metadata": {
        "colab": {
          "base_uri": "https://localhost:8080/"
        },
        "id": "No8Xa8TIj6sr",
        "outputId": "4f457aac-2e22-4a85-9431-0e677b744595"
      },
      "source": [
        "train_df.isnull().sum()"
      ],
      "execution_count": null,
      "outputs": [
        {
          "output_type": "execute_result",
          "data": {
            "text/plain": [
              "amount_tsh               0\n",
              "date_recorded            0\n",
              "funder                   0\n",
              "gps_height               0\n",
              "longitude                0\n",
              "latitude                 0\n",
              "basin                    0\n",
              "population               0\n",
              "public_meeting           0\n",
              "permit                   0\n",
              "construction_year        0\n",
              "extraction_type          0\n",
              "extraction_type_class    0\n",
              "management_group         0\n",
              "payment_type             0\n",
              "water_quality            0\n",
              "quantity                 0\n",
              "source_type              0\n",
              "source_class             0\n",
              "waterpoint_type          0\n",
              "waterpoint_type_group    0\n",
              "status_group             0\n",
              "status_values            0\n",
              "dtype: int64"
            ]
          },
          "metadata": {
            "tags": []
          },
          "execution_count": 73
        }
      ]
    },
    {
      "cell_type": "code",
      "metadata": {
        "colab": {
          "base_uri": "https://localhost:8080/"
        },
        "id": "mW9OKlqLj-PG",
        "outputId": "82062ecd-0a7b-471f-add8-d599049bf823"
      },
      "source": [
        "##lets check the data types again.\n",
        "cols = train_df.select_dtypes(include = ['object'])\n",
        "cols.apply(lambda x: len(x.unique()))"
      ],
      "execution_count": null,
      "outputs": [
        {
          "output_type": "execute_result",
          "data": {
            "text/plain": [
              "date_recorded            346\n",
              "funder                     6\n",
              "basin                      9\n",
              "public_meeting             3\n",
              "permit                     3\n",
              "extraction_type           18\n",
              "extraction_type_class      7\n",
              "management_group           5\n",
              "payment_type               7\n",
              "water_quality              8\n",
              "quantity                   5\n",
              "source_type                7\n",
              "source_class               3\n",
              "waterpoint_type            7\n",
              "waterpoint_type_group      6\n",
              "status_group               3\n",
              "dtype: int64"
            ]
          },
          "metadata": {
            "tags": []
          },
          "execution_count": 74
        }
      ]
    },
    {
      "cell_type": "markdown",
      "metadata": {
        "id": "6cEClHU0kJXR"
      },
      "source": [
        "Converting all the Date and time related columns to Date_time objects"
      ]
    },
    {
      "cell_type": "code",
      "metadata": {
        "colab": {
          "base_uri": "https://localhost:8080/"
        },
        "id": "nO5hRV8KkFxS",
        "outputId": "67d5d731-7127-47ff-89e9-1bf0e728204d"
      },
      "source": [
        "## changing the construction year to numeric value\n",
        "\n",
        "train_df.construction_year = pd.to_numeric(train_df.construction_year)\n",
        "train_df.construction_year.value_counts()\n",
        "## There are 20709 instances with out a year so let us fill the values with median of the column\n",
        "\n",
        "train_df['construction_year'].median()"
      ],
      "execution_count": null,
      "outputs": [
        {
          "output_type": "execute_result",
          "data": {
            "text/plain": [
              "1985.0"
            ]
          },
          "metadata": {
            "tags": []
          },
          "execution_count": 75
        }
      ]
    },
    {
      "cell_type": "code",
      "metadata": {
        "id": "cg81ZqqKkMzm"
      },
      "source": [
        "train_df.loc[train_df.construction_year <= 0, train_df.columns=='construction_year'] = 1986"
      ],
      "execution_count": null,
      "outputs": []
    },
    {
      "cell_type": "code",
      "metadata": {
        "colab": {
          "base_uri": "https://localhost:8080/"
        },
        "id": "TQlqbBc7kP0R",
        "outputId": "9730d5f1-2dc1-4e18-99e6-d59fb043e5e2"
      },
      "source": [
        "# Let's first convert the column to type datetime. Then change the column to represent the \n",
        "# number of days since the most recently recorded datum we have. The idea being that more \n",
        "# recently recorded pumps might be more likely to be functional than non-functional. \n",
        "\n",
        "train_df.date_recorded = pd.to_datetime(train_df.date_recorded)\n",
        "train_df.date_recorded.describe()"
      ],
      "execution_count": null,
      "outputs": [
        {
          "output_type": "stream",
          "text": [
            "/usr/local/lib/python3.7/dist-packages/ipykernel_launcher.py:6: FutureWarning: Treating datetime data as categorical rather than numeric in `.describe` is deprecated and will be removed in a future version of pandas. Specify `datetime_is_numeric=True` to silence this warning and adopt the future behavior now.\n",
            "  \n"
          ],
          "name": "stderr"
        },
        {
          "output_type": "execute_result",
          "data": {
            "text/plain": [
              "count                   44550\n",
              "unique                    346\n",
              "top       2011-03-15 00:00:00\n",
              "freq                      423\n",
              "first     2002-10-14 00:00:00\n",
              "last      2013-12-03 00:00:00\n",
              "Name: date_recorded, dtype: object"
            ]
          },
          "metadata": {
            "tags": []
          },
          "execution_count": 77
        }
      ]
    },
    {
      "cell_type": "code",
      "metadata": {
        "colab": {
          "base_uri": "https://localhost:8080/"
        },
        "id": "4CpcRD7okWaq",
        "outputId": "f822d950-cd18-4f94-bcaa-b9dcd5165bfb"
      },
      "source": [
        "# The most recent data is 2013-12-03. Subtract each date from this point to obtain a \n",
        "# 'days_since_recorded' column.\n",
        "\n",
        "train_df.date_recorded = pd.datetime(2013, 12, 3) - pd.to_datetime(train_df.date_recorded)\n",
        "train_df.columns = ['days_since_recorded' if x=='date_recorded' else x for x in train_df.columns]\n",
        "train_df.days_since_recorded = train_df.days_since_recorded.astype('timedelta64[D]').astype(int)\n",
        "train_df.days_since_recorded.describe()"
      ],
      "execution_count": null,
      "outputs": [
        {
          "output_type": "stream",
          "text": [
            "/usr/local/lib/python3.7/dist-packages/ipykernel_launcher.py:4: FutureWarning: The pandas.datetime class is deprecated and will be removed from pandas in a future version. Import from datetime module instead.\n",
            "  after removing the cwd from sys.path.\n"
          ],
          "name": "stderr"
        },
        {
          "output_type": "execute_result",
          "data": {
            "text/plain": [
              "count    44550.000000\n",
              "mean       615.289809\n",
              "std        333.898570\n",
              "min          0.000000\n",
              "25%        297.000000\n",
              "50%        420.000000\n",
              "75%        977.000000\n",
              "max       4068.000000\n",
              "Name: days_since_recorded, dtype: float64"
            ]
          },
          "metadata": {
            "tags": []
          },
          "execution_count": 78
        }
      ]
    },
    {
      "cell_type": "code",
      "metadata": {
        "id": "O_Gzzr2MkZS-"
      },
      "source": [
        "\n",
        "#converting the datatimeinto categorical as in :  '60s', '70s', '80s', '90s, '00s', '10s', 'unknown'.\n",
        "\n",
        "def construction_new(row):\n",
        "    if row['construction_year'] >= 1960 and row['construction_year'] < 1970:\n",
        "        return '60s'\n",
        "    elif row['construction_year'] >= 1970 and row['construction_year'] < 1980:\n",
        "        return '70s'\n",
        "    elif row['construction_year'] >= 1980 and row['construction_year'] < 1990:\n",
        "        return '80s'\n",
        "    elif row['construction_year'] >= 1990 and row['construction_year'] < 2000:\n",
        "        return '90s'\n",
        "    elif row['construction_year'] >= 2000 and row['construction_year'] < 2010:\n",
        "        return '00s'\n",
        "    elif row['construction_year'] >= 2010:\n",
        "        return '10s'\n",
        "    else:\n",
        "        return 'unknown'\n",
        "    \n",
        "train_df['construction_year'] = train_df.apply(lambda row: construction_new(row), axis=1)"
      ],
      "execution_count": null,
      "outputs": []
    },
    {
      "cell_type": "code",
      "metadata": {
        "colab": {
          "base_uri": "https://localhost:8080/",
          "height": 1000
        },
        "id": "il4nqhvjkdHJ",
        "outputId": "10d29eba-0db1-46e7-f8f0-e50e8f049e05"
      },
      "source": [
        "#plot histogram for continuous variables\n",
        "\n",
        "for col in train_df.columns.values:\n",
        "  if (train_df[col].dtypes == 'int64') | (train_df[col].dtypes == 'float64'):\n",
        "    plt.hist(train_df[col])\n",
        "    plt.xlabel(col)\n",
        "    plt.show()\n"
      ],
      "execution_count": null,
      "outputs": [
        {
          "output_type": "display_data",
          "data": {
            "image/png": "[encoded data removed]",
            "text/plain": [
              "<Figure size 432x288 with 1 Axes>"
            ]
          },
          "metadata": {
            "tags": [],
            "needs_background": "light"
          }
        },
        {
          "output_type": "display_data",
          "data": {
            "image/png": "[encoded data removed]",
            "text/plain": [
              "<Figure size 432x288 with 1 Axes>"
            ]
          },
          "metadata": {
            "tags": [],
            "needs_background": "light"
          }
        },
        {
          "output_type": "display_data",
          "data": {
            "image/png": "[encoded data removed]",
            "text/plain": [
              "<Figure size 432x288 with 1 Axes>"
            ]
          },
          "metadata": {
            "tags": [],
            "needs_background": "light"
          }
        },
        {
          "output_type": "display_data",
          "data": {
            "image/png": "[encoded data removed]",
            "text/plain": [
              "<Figure size 432x288 with 1 Axes>"
            ]
          },
          "metadata": {
            "tags": [],
            "needs_background": "light"
          }
        },
        {
          "output_type": "display_data",
          "data": {
            "image/png": "[encoded data removed]",
            "text/plain": [
              "<Figure size 432x288 with 1 Axes>"
            ]
          },
          "metadata": {
            "tags": [],
            "needs_background": "light"
          }
        },
        {
          "output_type": "display_data",
          "data": {
            "image/png": "[encoded data removed]",
            "text/plain": [
              "<Figure size 432x288 with 1 Axes>"
            ]
          },
          "metadata": {
            "tags": [],
            "needs_background": "light"
          }
        },
        {
          "output_type": "display_data",
          "data": {
            "image/png": "[encoded data removed]",
            "text/plain": [
              "<Figure size 432x288 with 1 Axes>"
            ]
          },
          "metadata": {
            "tags": [],
            "needs_background": "light"
          }
        }
      ]
    },
    {
      "cell_type": "code",
      "metadata": {
        "colab": {
          "base_uri": "https://localhost:8080/",
          "height": 944
        },
        "id": "nk8r4PSTkicy",
        "outputId": "ade80ec5-0b7a-460f-c316-66046a631cfe"
      },
      "source": [
        "corMatrix = train_df.corr(method = 'spearman') # for non linear\n",
        "fig, ax = plt.subplots(figsize=(50,30))\n",
        "sns.heatmap(abs(corMatrix), annot = True)\n",
        "plt.show()"
      ],
      "execution_count": null,
      "outputs": [
        {
          "output_type": "display_data",
          "data": {
            "image/png": "[encoded data removed]",
            "text/plain": [
              "<Figure size 3600x2160 with 2 Axes>"
            ]
          },
          "metadata": {
            "tags": [],
            "needs_background": "light"
          }
        }
      ]
    },
    {
      "cell_type": "markdown",
      "metadata": {
        "id": "J8vYqV64y1dw"
      },
      "source": [
        "There is no significant correlation among the features as observed by the heatmap."
      ]
    },
    {
      "cell_type": "code",
      "metadata": {
        "colab": {
          "base_uri": "https://localhost:8080/"
        },
        "id": "9D0fhr0LkmlX",
        "outputId": "4ed89c28-d79d-4461-8ebb-aa80b1bb8863"
      },
      "source": [
        "train_df.status_group.value_counts()/len(train_df.status_group)"
      ],
      "execution_count": null,
      "outputs": [
        {
          "output_type": "execute_result",
          "data": {
            "text/plain": [
              "functional                 0.543075\n",
              "non functional             0.384242\n",
              "functional needs repair    0.072682\n",
              "Name: status_group, dtype: float64"
            ]
          },
          "metadata": {
            "tags": []
          },
          "execution_count": 82
        }
      ]
    },
    {
      "cell_type": "markdown",
      "metadata": {
        "id": "hvNkHJpC2DaI"
      },
      "source": [
        "It shows that there is $54.31 $ % chance of a pump to be functional if a pump is selected."
      ]
    },
    {
      "cell_type": "code",
      "metadata": {
        "id": "pdP8ZbvGk1pI"
      },
      "source": [
        "## Matching Training and testing data frames\n",
        "## Dropping the correlated data\n",
        "test_df = test_df.drop(['id','wpt_name','num_private','region','region_code','recorded_by','district_code','lga','ward','quantity_group','quality_group','source', 'extraction_type_group', 'management', 'payment', 'installer', 'scheme_management', 'scheme_name', 'subvillage'], axis=1)"
      ],
      "execution_count": null,
      "outputs": []
    },
    {
      "cell_type": "code",
      "metadata": {
        "colab": {
          "base_uri": "https://localhost:8080/",
          "height": 353
        },
        "id": "0xlGpDM4lJ-D",
        "outputId": "d8122d78-0d17-4d05-c3a5-743cbac2fd1f"
      },
      "source": [
        "sns.countplot(train_df['status_group'])"
      ],
      "execution_count": null,
      "outputs": [
        {
          "output_type": "stream",
          "text": [
            "/usr/local/lib/python3.7/dist-packages/seaborn/_decorators.py:43: FutureWarning: Pass the following variable as a keyword arg: x. From version 0.12, the only valid positional argument will be `data`, and passing other arguments without an explicit keyword will result in an error or misinterpretation.\n",
            "  FutureWarning\n"
          ],
          "name": "stderr"
        },
        {
          "output_type": "execute_result",
          "data": {
            "text/plain": [
              "<matplotlib.axes._subplots.AxesSubplot at 0x7f8e7d412fd0>"
            ]
          },
          "metadata": {
            "tags": []
          },
          "execution_count": 84
        },
        {
          "output_type": "display_data",
          "data": {
            "image/png": "[encoded data removed]",
            "text/plain": [
              "<Figure size 432x288 with 1 Axes>"
            ]
          },
          "metadata": {
            "tags": [],
            "needs_background": "light"
          }
        }
      ]
    },
    {
      "cell_type": "code",
      "metadata": {
        "colab": {
          "base_uri": "https://localhost:8080/"
        },
        "id": "K0j1-H0mlSwd",
        "outputId": "e76cc542-a8c3-4a1c-af17-fea028a45a3b"
      },
      "source": [
        "##cleaning the columns as the training data set\n",
        "test_df.date_recorded = pd.datetime(2013, 12, 3) - pd.to_datetime(test_df.date_recorded)\n",
        "test_df.columns = ['days_since_recorded' if x=='date_recorded' else x for x in test_df.columns]\n",
        "test_df.days_since_recorded = test_df.days_since_recorded.astype('timedelta64[D]').astype(int)\n",
        "\n",
        "test_df.permit = test_df.permit.fillna('Unknown')\n",
        "test_df.public_meeting = test_df.public_meeting.fillna('Unknown')\n",
        "\n",
        "test_df['construction_year'] = test_df.apply(lambda row: construction_new(row), axis=1)\n",
        "test_df['funder'] = test_df.apply(lambda row: funder_new(row), axis=1)"
      ],
      "execution_count": null,
      "outputs": [
        {
          "output_type": "stream",
          "text": [
            "/usr/local/lib/python3.7/dist-packages/ipykernel_launcher.py:2: FutureWarning: The pandas.datetime class is deprecated and will be removed from pandas in a future version. Import from datetime module instead.\n",
            "  \n"
          ],
          "name": "stderr"
        }
      ]
    },
    {
      "cell_type": "code",
      "metadata": {
        "id": "n98ZDR2B3Eh_"
      },
      "source": [
        "train_new = train_df.copy()\n",
        "train_df = train_df.drop(['status_values','status_group'], axis = 1)"
      ],
      "execution_count": null,
      "outputs": []
    },
    {
      "cell_type": "code",
      "metadata": {
        "id": "SxketliO4bMd"
      },
      "source": [
        "test_df = test_df.drop(['Unnamed: 0'], axis = 1)"
      ],
      "execution_count": null,
      "outputs": []
    },
    {
      "cell_type": "code",
      "metadata": {
        "colab": {
          "base_uri": "https://localhost:8080/",
          "height": 284
        },
        "id": "0X8w0_WBlYVf",
        "outputId": "a41fa2bb-1783-4392-fbed-7c1a350f6e49"
      },
      "source": [
        "test_df.head()"
      ],
      "execution_count": null,
      "outputs": [
        {
          "output_type": "execute_result",
          "data": {
            "text/html": [
              "<div>\n",
              "<style scoped>\n",
              "    .dataframe tbody tr th:only-of-type {\n",
              "        vertical-align: middle;\n",
              "    }\n",
              "\n",
              "    .dataframe tbody tr th {\n",
              "        vertical-align: top;\n",
              "    }\n",
              "\n",
              "    .dataframe thead th {\n",
              "        text-align: right;\n",
              "    }\n",
              "</style>\n",
              "<table border=\"1\" class=\"dataframe\">\n",
              "  <thead>\n",
              "    <tr style=\"text-align: right;\">\n",
              "      <th></th>\n",
              "      <th>amount_tsh</th>\n",
              "      <th>days_since_recorded</th>\n",
              "      <th>funder</th>\n",
              "      <th>gps_height</th>\n",
              "      <th>longitude</th>\n",
              "      <th>latitude</th>\n",
              "      <th>basin</th>\n",
              "      <th>population</th>\n",
              "      <th>public_meeting</th>\n",
              "      <th>permit</th>\n",
              "      <th>construction_year</th>\n",
              "      <th>extraction_type</th>\n",
              "      <th>extraction_type_class</th>\n",
              "      <th>management_group</th>\n",
              "      <th>payment_type</th>\n",
              "      <th>water_quality</th>\n",
              "      <th>quantity</th>\n",
              "      <th>source_type</th>\n",
              "      <th>source_class</th>\n",
              "      <th>waterpoint_type</th>\n",
              "      <th>waterpoint_type_group</th>\n",
              "    </tr>\n",
              "  </thead>\n",
              "  <tbody>\n",
              "    <tr>\n",
              "      <th>0</th>\n",
              "      <td>0.0</td>\n",
              "      <td>1012</td>\n",
              "      <td>other</td>\n",
              "      <td>1676</td>\n",
              "      <td>35.247289</td>\n",
              "      <td>-8.113243</td>\n",
              "      <td>Rufiji</td>\n",
              "      <td>769</td>\n",
              "      <td>True</td>\n",
              "      <td>True</td>\n",
              "      <td>00s</td>\n",
              "      <td>gravity</td>\n",
              "      <td>gravity</td>\n",
              "      <td>user-group</td>\n",
              "      <td>never pay</td>\n",
              "      <td>soft</td>\n",
              "      <td>dry</td>\n",
              "      <td>spring</td>\n",
              "      <td>groundwater</td>\n",
              "      <td>communal standpipe</td>\n",
              "      <td>communal standpipe</td>\n",
              "    </tr>\n",
              "    <tr>\n",
              "      <th>1</th>\n",
              "      <td>0.0</td>\n",
              "      <td>961</td>\n",
              "      <td>other</td>\n",
              "      <td>0</td>\n",
              "      <td>36.163435</td>\n",
              "      <td>-5.218454</td>\n",
              "      <td>Wami / Ruvu</td>\n",
              "      <td>0</td>\n",
              "      <td>True</td>\n",
              "      <td>False</td>\n",
              "      <td>unknown</td>\n",
              "      <td>mono</td>\n",
              "      <td>motorpump</td>\n",
              "      <td>user-group</td>\n",
              "      <td>never pay</td>\n",
              "      <td>soft</td>\n",
              "      <td>enough</td>\n",
              "      <td>borehole</td>\n",
              "      <td>groundwater</td>\n",
              "      <td>communal standpipe</td>\n",
              "      <td>communal standpipe</td>\n",
              "    </tr>\n",
              "    <tr>\n",
              "      <th>2</th>\n",
              "      <td>0.0</td>\n",
              "      <td>982</td>\n",
              "      <td>other</td>\n",
              "      <td>0</td>\n",
              "      <td>36.363337</td>\n",
              "      <td>-7.297600</td>\n",
              "      <td>Rufiji</td>\n",
              "      <td>0</td>\n",
              "      <td>True</td>\n",
              "      <td>True</td>\n",
              "      <td>unknown</td>\n",
              "      <td>nira/tanira</td>\n",
              "      <td>handpump</td>\n",
              "      <td>user-group</td>\n",
              "      <td>never pay</td>\n",
              "      <td>soft</td>\n",
              "      <td>enough</td>\n",
              "      <td>shallow well</td>\n",
              "      <td>groundwater</td>\n",
              "      <td>hand pump</td>\n",
              "      <td>hand pump</td>\n",
              "    </tr>\n",
              "    <tr>\n",
              "      <th>3</th>\n",
              "      <td>0.0</td>\n",
              "      <td>873</td>\n",
              "      <td>other</td>\n",
              "      <td>0</td>\n",
              "      <td>31.496315</td>\n",
              "      <td>-2.167140</td>\n",
              "      <td>Lake Victoria</td>\n",
              "      <td>0</td>\n",
              "      <td>True</td>\n",
              "      <td>True</td>\n",
              "      <td>unknown</td>\n",
              "      <td>other</td>\n",
              "      <td>other</td>\n",
              "      <td>user-group</td>\n",
              "      <td>never pay</td>\n",
              "      <td>soft</td>\n",
              "      <td>enough</td>\n",
              "      <td>shallow well</td>\n",
              "      <td>groundwater</td>\n",
              "      <td>hand pump</td>\n",
              "      <td>hand pump</td>\n",
              "    </tr>\n",
              "    <tr>\n",
              "      <th>4</th>\n",
              "      <td>0.0</td>\n",
              "      <td>856</td>\n",
              "      <td>other</td>\n",
              "      <td>0</td>\n",
              "      <td>31.843905</td>\n",
              "      <td>-1.244841</td>\n",
              "      <td>Lake Victoria</td>\n",
              "      <td>0</td>\n",
              "      <td>True</td>\n",
              "      <td>True</td>\n",
              "      <td>unknown</td>\n",
              "      <td>gravity</td>\n",
              "      <td>gravity</td>\n",
              "      <td>user-group</td>\n",
              "      <td>never pay</td>\n",
              "      <td>soft</td>\n",
              "      <td>insufficient</td>\n",
              "      <td>rainwater harvesting</td>\n",
              "      <td>surface</td>\n",
              "      <td>communal standpipe</td>\n",
              "      <td>communal standpipe</td>\n",
              "    </tr>\n",
              "  </tbody>\n",
              "</table>\n",
              "</div>"
            ],
            "text/plain": [
              "   amount_tsh  days_since_recorded  ...     waterpoint_type  waterpoint_type_group\n",
              "0         0.0                 1012  ...  communal standpipe     communal standpipe\n",
              "1         0.0                  961  ...  communal standpipe     communal standpipe\n",
              "2         0.0                  982  ...           hand pump              hand pump\n",
              "3         0.0                  873  ...           hand pump              hand pump\n",
              "4         0.0                  856  ...  communal standpipe     communal standpipe\n",
              "\n",
              "[5 rows x 21 columns]"
            ]
          },
          "metadata": {
            "tags": []
          },
          "execution_count": 88
        }
      ]
    },
    {
      "cell_type": "code",
      "metadata": {
        "colab": {
          "base_uri": "https://localhost:8080/",
          "height": 610
        },
        "id": "wqlqrz0ylckH",
        "outputId": "aa3ec0c2-ea5b-42de-ecda-07c9c7b85e9a"
      },
      "source": [
        "display(train_df)"
      ],
      "execution_count": null,
      "outputs": [
        {
          "output_type": "display_data",
          "data": {
            "text/html": [
              "<div>\n",
              "<style scoped>\n",
              "    .dataframe tbody tr th:only-of-type {\n",
              "        vertical-align: middle;\n",
              "    }\n",
              "\n",
              "    .dataframe tbody tr th {\n",
              "        vertical-align: top;\n",
              "    }\n",
              "\n",
              "    .dataframe thead th {\n",
              "        text-align: right;\n",
              "    }\n",
              "</style>\n",
              "<table border=\"1\" class=\"dataframe\">\n",
              "  <thead>\n",
              "    <tr style=\"text-align: right;\">\n",
              "      <th></th>\n",
              "      <th>amount_tsh</th>\n",
              "      <th>days_since_recorded</th>\n",
              "      <th>funder</th>\n",
              "      <th>gps_height</th>\n",
              "      <th>longitude</th>\n",
              "      <th>latitude</th>\n",
              "      <th>basin</th>\n",
              "      <th>population</th>\n",
              "      <th>public_meeting</th>\n",
              "      <th>permit</th>\n",
              "      <th>construction_year</th>\n",
              "      <th>extraction_type</th>\n",
              "      <th>extraction_type_class</th>\n",
              "      <th>management_group</th>\n",
              "      <th>payment_type</th>\n",
              "      <th>water_quality</th>\n",
              "      <th>quantity</th>\n",
              "      <th>source_type</th>\n",
              "      <th>source_class</th>\n",
              "      <th>waterpoint_type</th>\n",
              "      <th>waterpoint_type_group</th>\n",
              "    </tr>\n",
              "  </thead>\n",
              "  <tbody>\n",
              "    <tr>\n",
              "      <th>0</th>\n",
              "      <td>7.0</td>\n",
              "      <td>258</td>\n",
              "      <td>other</td>\n",
              "      <td>1203</td>\n",
              "      <td>37.228664</td>\n",
              "      <td>-3.256505</td>\n",
              "      <td>Pangani</td>\n",
              "      <td>90</td>\n",
              "      <td>True</td>\n",
              "      <td>True</td>\n",
              "      <td>00s</td>\n",
              "      <td>gravity</td>\n",
              "      <td>gravity</td>\n",
              "      <td>user-group</td>\n",
              "      <td>per bucket</td>\n",
              "      <td>soft</td>\n",
              "      <td>enough</td>\n",
              "      <td>spring</td>\n",
              "      <td>groundwater</td>\n",
              "      <td>communal standpipe</td>\n",
              "      <td>communal standpipe</td>\n",
              "    </tr>\n",
              "    <tr>\n",
              "      <th>1</th>\n",
              "      <td>0.0</td>\n",
              "      <td>1016</td>\n",
              "      <td>other</td>\n",
              "      <td>1409</td>\n",
              "      <td>34.615481</td>\n",
              "      <td>-9.972601</td>\n",
              "      <td>Lake Nyasa</td>\n",
              "      <td>70</td>\n",
              "      <td>False</td>\n",
              "      <td>False</td>\n",
              "      <td>80s</td>\n",
              "      <td>gravity</td>\n",
              "      <td>gravity</td>\n",
              "      <td>commercial</td>\n",
              "      <td>never pay</td>\n",
              "      <td>soft</td>\n",
              "      <td>enough</td>\n",
              "      <td>spring</td>\n",
              "      <td>groundwater</td>\n",
              "      <td>communal standpipe</td>\n",
              "      <td>communal standpipe</td>\n",
              "    </tr>\n",
              "    <tr>\n",
              "      <th>2</th>\n",
              "      <td>0.0</td>\n",
              "      <td>333</td>\n",
              "      <td>gov</td>\n",
              "      <td>1572</td>\n",
              "      <td>36.658778</td>\n",
              "      <td>-3.321529</td>\n",
              "      <td>Pangani</td>\n",
              "      <td>150</td>\n",
              "      <td>True</td>\n",
              "      <td>True</td>\n",
              "      <td>00s</td>\n",
              "      <td>gravity</td>\n",
              "      <td>gravity</td>\n",
              "      <td>user-group</td>\n",
              "      <td>never pay</td>\n",
              "      <td>soft</td>\n",
              "      <td>insufficient</td>\n",
              "      <td>spring</td>\n",
              "      <td>groundwater</td>\n",
              "      <td>communal standpipe</td>\n",
              "      <td>communal standpipe</td>\n",
              "    </tr>\n",
              "    <tr>\n",
              "      <th>3</th>\n",
              "      <td>0.0</td>\n",
              "      <td>975</td>\n",
              "      <td>other</td>\n",
              "      <td>0</td>\n",
              "      <td>33.628025</td>\n",
              "      <td>-8.860795</td>\n",
              "      <td>Rufiji</td>\n",
              "      <td>0</td>\n",
              "      <td>True</td>\n",
              "      <td>True</td>\n",
              "      <td>80s</td>\n",
              "      <td>gravity</td>\n",
              "      <td>gravity</td>\n",
              "      <td>user-group</td>\n",
              "      <td>annually</td>\n",
              "      <td>soft</td>\n",
              "      <td>insufficient</td>\n",
              "      <td>river/lake</td>\n",
              "      <td>surface</td>\n",
              "      <td>communal standpipe</td>\n",
              "      <td>communal standpipe</td>\n",
              "    </tr>\n",
              "    <tr>\n",
              "      <th>4</th>\n",
              "      <td>300.0</td>\n",
              "      <td>270</td>\n",
              "      <td>other</td>\n",
              "      <td>1283</td>\n",
              "      <td>37.655509</td>\n",
              "      <td>-3.669777</td>\n",
              "      <td>Pangani</td>\n",
              "      <td>34</td>\n",
              "      <td>True</td>\n",
              "      <td>False</td>\n",
              "      <td>00s</td>\n",
              "      <td>gravity</td>\n",
              "      <td>gravity</td>\n",
              "      <td>user-group</td>\n",
              "      <td>monthly</td>\n",
              "      <td>soft</td>\n",
              "      <td>insufficient</td>\n",
              "      <td>spring</td>\n",
              "      <td>groundwater</td>\n",
              "      <td>communal standpipe</td>\n",
              "      <td>communal standpipe</td>\n",
              "    </tr>\n",
              "    <tr>\n",
              "      <th>...</th>\n",
              "      <td>...</td>\n",
              "      <td>...</td>\n",
              "      <td>...</td>\n",
              "      <td>...</td>\n",
              "      <td>...</td>\n",
              "      <td>...</td>\n",
              "      <td>...</td>\n",
              "      <td>...</td>\n",
              "      <td>...</td>\n",
              "      <td>...</td>\n",
              "      <td>...</td>\n",
              "      <td>...</td>\n",
              "      <td>...</td>\n",
              "      <td>...</td>\n",
              "      <td>...</td>\n",
              "      <td>...</td>\n",
              "      <td>...</td>\n",
              "      <td>...</td>\n",
              "      <td>...</td>\n",
              "      <td>...</td>\n",
              "      <td>...</td>\n",
              "    </tr>\n",
              "    <tr>\n",
              "      <th>44545</th>\n",
              "      <td>0.0</td>\n",
              "      <td>314</td>\n",
              "      <td>other</td>\n",
              "      <td>0</td>\n",
              "      <td>32.383715</td>\n",
              "      <td>-3.457624</td>\n",
              "      <td>Lake Tanganyika</td>\n",
              "      <td>0</td>\n",
              "      <td>True</td>\n",
              "      <td>True</td>\n",
              "      <td>80s</td>\n",
              "      <td>nira/tanira</td>\n",
              "      <td>handpump</td>\n",
              "      <td>user-group</td>\n",
              "      <td>unknown</td>\n",
              "      <td>milky</td>\n",
              "      <td>enough</td>\n",
              "      <td>shallow well</td>\n",
              "      <td>groundwater</td>\n",
              "      <td>hand pump</td>\n",
              "      <td>hand pump</td>\n",
              "    </tr>\n",
              "    <tr>\n",
              "      <th>44546</th>\n",
              "      <td>0.0</td>\n",
              "      <td>862</td>\n",
              "      <td>other</td>\n",
              "      <td>0</td>\n",
              "      <td>31.615509</td>\n",
              "      <td>-2.738682</td>\n",
              "      <td>Lake Victoria</td>\n",
              "      <td>0</td>\n",
              "      <td>True</td>\n",
              "      <td>True</td>\n",
              "      <td>80s</td>\n",
              "      <td>afridev</td>\n",
              "      <td>handpump</td>\n",
              "      <td>user-group</td>\n",
              "      <td>monthly</td>\n",
              "      <td>soft</td>\n",
              "      <td>enough</td>\n",
              "      <td>borehole</td>\n",
              "      <td>groundwater</td>\n",
              "      <td>hand pump</td>\n",
              "      <td>hand pump</td>\n",
              "    </tr>\n",
              "    <tr>\n",
              "      <th>44547</th>\n",
              "      <td>0.0</td>\n",
              "      <td>283</td>\n",
              "      <td>gov</td>\n",
              "      <td>969</td>\n",
              "      <td>35.134412</td>\n",
              "      <td>-10.676062</td>\n",
              "      <td>Ruvuma / Southern Coast</td>\n",
              "      <td>60</td>\n",
              "      <td>Unknown</td>\n",
              "      <td>Unknown</td>\n",
              "      <td>70s</td>\n",
              "      <td>gravity</td>\n",
              "      <td>gravity</td>\n",
              "      <td>user-group</td>\n",
              "      <td>unknown</td>\n",
              "      <td>soft</td>\n",
              "      <td>seasonal</td>\n",
              "      <td>spring</td>\n",
              "      <td>groundwater</td>\n",
              "      <td>communal standpipe</td>\n",
              "      <td>communal standpipe</td>\n",
              "    </tr>\n",
              "    <tr>\n",
              "      <th>44548</th>\n",
              "      <td>200.0</td>\n",
              "      <td>252</td>\n",
              "      <td>other</td>\n",
              "      <td>1269</td>\n",
              "      <td>37.886287</td>\n",
              "      <td>-4.390882</td>\n",
              "      <td>Pangani</td>\n",
              "      <td>80</td>\n",
              "      <td>True</td>\n",
              "      <td>True</td>\n",
              "      <td>10s</td>\n",
              "      <td>gravity</td>\n",
              "      <td>gravity</td>\n",
              "      <td>user-group</td>\n",
              "      <td>monthly</td>\n",
              "      <td>soft</td>\n",
              "      <td>insufficient</td>\n",
              "      <td>spring</td>\n",
              "      <td>groundwater</td>\n",
              "      <td>communal standpipe</td>\n",
              "      <td>communal standpipe</td>\n",
              "    </tr>\n",
              "    <tr>\n",
              "      <th>44549</th>\n",
              "      <td>0.0</td>\n",
              "      <td>311</td>\n",
              "      <td>other</td>\n",
              "      <td>0</td>\n",
              "      <td>32.976560</td>\n",
              "      <td>-4.262149</td>\n",
              "      <td>Lake Tanganyika</td>\n",
              "      <td>0</td>\n",
              "      <td>True</td>\n",
              "      <td>False</td>\n",
              "      <td>80s</td>\n",
              "      <td>nira/tanira</td>\n",
              "      <td>handpump</td>\n",
              "      <td>user-group</td>\n",
              "      <td>on failure</td>\n",
              "      <td>soft</td>\n",
              "      <td>enough</td>\n",
              "      <td>shallow well</td>\n",
              "      <td>groundwater</td>\n",
              "      <td>hand pump</td>\n",
              "      <td>hand pump</td>\n",
              "    </tr>\n",
              "  </tbody>\n",
              "</table>\n",
              "<p>44550 rows × 21 columns</p>\n",
              "</div>"
            ],
            "text/plain": [
              "       amount_tsh  ...  waterpoint_type_group\n",
              "0             7.0  ...     communal standpipe\n",
              "1             0.0  ...     communal standpipe\n",
              "2             0.0  ...     communal standpipe\n",
              "3             0.0  ...     communal standpipe\n",
              "4           300.0  ...     communal standpipe\n",
              "...           ...  ...                    ...\n",
              "44545         0.0  ...              hand pump\n",
              "44546         0.0  ...              hand pump\n",
              "44547         0.0  ...     communal standpipe\n",
              "44548       200.0  ...     communal standpipe\n",
              "44549         0.0  ...              hand pump\n",
              "\n",
              "[44550 rows x 21 columns]"
            ]
          },
          "metadata": {
            "tags": []
          }
        }
      ]
    },
    {
      "cell_type": "code",
      "metadata": {
        "colab": {
          "base_uri": "https://localhost:8080/"
        },
        "id": "o8SKWbQolfnv",
        "outputId": "fefb0cc0-47be-4809-91ad-bb27070130d2"
      },
      "source": [
        "train_df.dtypes"
      ],
      "execution_count": null,
      "outputs": [
        {
          "output_type": "execute_result",
          "data": {
            "text/plain": [
              "amount_tsh               float64\n",
              "days_since_recorded        int64\n",
              "funder                    object\n",
              "gps_height                 int64\n",
              "longitude                float64\n",
              "latitude                 float64\n",
              "basin                     object\n",
              "population                 int64\n",
              "public_meeting            object\n",
              "permit                    object\n",
              "construction_year         object\n",
              "extraction_type           object\n",
              "extraction_type_class     object\n",
              "management_group          object\n",
              "payment_type              object\n",
              "water_quality             object\n",
              "quantity                  object\n",
              "source_type               object\n",
              "source_class              object\n",
              "waterpoint_type           object\n",
              "waterpoint_type_group     object\n",
              "dtype: object"
            ]
          },
          "metadata": {
            "tags": []
          },
          "execution_count": 90
        }
      ]
    },
    {
      "cell_type": "code",
      "metadata": {
        "colab": {
          "base_uri": "https://localhost:8080/",
          "height": 560
        },
        "id": "471WnXXwliDX",
        "outputId": "b79e524a-c5e2-4d1c-bb57-b42f37a3351d"
      },
      "source": [
        "display(test_df)"
      ],
      "execution_count": null,
      "outputs": [
        {
          "output_type": "display_data",
          "data": {
            "text/html": [
              "<div>\n",
              "<style scoped>\n",
              "    .dataframe tbody tr th:only-of-type {\n",
              "        vertical-align: middle;\n",
              "    }\n",
              "\n",
              "    .dataframe tbody tr th {\n",
              "        vertical-align: top;\n",
              "    }\n",
              "\n",
              "    .dataframe thead th {\n",
              "        text-align: right;\n",
              "    }\n",
              "</style>\n",
              "<table border=\"1\" class=\"dataframe\">\n",
              "  <thead>\n",
              "    <tr style=\"text-align: right;\">\n",
              "      <th></th>\n",
              "      <th>amount_tsh</th>\n",
              "      <th>days_since_recorded</th>\n",
              "      <th>funder</th>\n",
              "      <th>gps_height</th>\n",
              "      <th>longitude</th>\n",
              "      <th>latitude</th>\n",
              "      <th>basin</th>\n",
              "      <th>population</th>\n",
              "      <th>public_meeting</th>\n",
              "      <th>permit</th>\n",
              "      <th>construction_year</th>\n",
              "      <th>extraction_type</th>\n",
              "      <th>extraction_type_class</th>\n",
              "      <th>management_group</th>\n",
              "      <th>payment_type</th>\n",
              "      <th>water_quality</th>\n",
              "      <th>quantity</th>\n",
              "      <th>source_type</th>\n",
              "      <th>source_class</th>\n",
              "      <th>waterpoint_type</th>\n",
              "      <th>waterpoint_type_group</th>\n",
              "    </tr>\n",
              "  </thead>\n",
              "  <tbody>\n",
              "    <tr>\n",
              "      <th>0</th>\n",
              "      <td>0.0</td>\n",
              "      <td>1012</td>\n",
              "      <td>other</td>\n",
              "      <td>1676</td>\n",
              "      <td>35.247289</td>\n",
              "      <td>-8.113243</td>\n",
              "      <td>Rufiji</td>\n",
              "      <td>769</td>\n",
              "      <td>True</td>\n",
              "      <td>True</td>\n",
              "      <td>00s</td>\n",
              "      <td>gravity</td>\n",
              "      <td>gravity</td>\n",
              "      <td>user-group</td>\n",
              "      <td>never pay</td>\n",
              "      <td>soft</td>\n",
              "      <td>dry</td>\n",
              "      <td>spring</td>\n",
              "      <td>groundwater</td>\n",
              "      <td>communal standpipe</td>\n",
              "      <td>communal standpipe</td>\n",
              "    </tr>\n",
              "    <tr>\n",
              "      <th>1</th>\n",
              "      <td>0.0</td>\n",
              "      <td>961</td>\n",
              "      <td>other</td>\n",
              "      <td>0</td>\n",
              "      <td>36.163435</td>\n",
              "      <td>-5.218454</td>\n",
              "      <td>Wami / Ruvu</td>\n",
              "      <td>0</td>\n",
              "      <td>True</td>\n",
              "      <td>False</td>\n",
              "      <td>unknown</td>\n",
              "      <td>mono</td>\n",
              "      <td>motorpump</td>\n",
              "      <td>user-group</td>\n",
              "      <td>never pay</td>\n",
              "      <td>soft</td>\n",
              "      <td>enough</td>\n",
              "      <td>borehole</td>\n",
              "      <td>groundwater</td>\n",
              "      <td>communal standpipe</td>\n",
              "      <td>communal standpipe</td>\n",
              "    </tr>\n",
              "    <tr>\n",
              "      <th>2</th>\n",
              "      <td>0.0</td>\n",
              "      <td>982</td>\n",
              "      <td>other</td>\n",
              "      <td>0</td>\n",
              "      <td>36.363337</td>\n",
              "      <td>-7.297600</td>\n",
              "      <td>Rufiji</td>\n",
              "      <td>0</td>\n",
              "      <td>True</td>\n",
              "      <td>True</td>\n",
              "      <td>unknown</td>\n",
              "      <td>nira/tanira</td>\n",
              "      <td>handpump</td>\n",
              "      <td>user-group</td>\n",
              "      <td>never pay</td>\n",
              "      <td>soft</td>\n",
              "      <td>enough</td>\n",
              "      <td>shallow well</td>\n",
              "      <td>groundwater</td>\n",
              "      <td>hand pump</td>\n",
              "      <td>hand pump</td>\n",
              "    </tr>\n",
              "    <tr>\n",
              "      <th>3</th>\n",
              "      <td>0.0</td>\n",
              "      <td>873</td>\n",
              "      <td>other</td>\n",
              "      <td>0</td>\n",
              "      <td>31.496315</td>\n",
              "      <td>-2.167140</td>\n",
              "      <td>Lake Victoria</td>\n",
              "      <td>0</td>\n",
              "      <td>True</td>\n",
              "      <td>True</td>\n",
              "      <td>unknown</td>\n",
              "      <td>other</td>\n",
              "      <td>other</td>\n",
              "      <td>user-group</td>\n",
              "      <td>never pay</td>\n",
              "      <td>soft</td>\n",
              "      <td>enough</td>\n",
              "      <td>shallow well</td>\n",
              "      <td>groundwater</td>\n",
              "      <td>hand pump</td>\n",
              "      <td>hand pump</td>\n",
              "    </tr>\n",
              "    <tr>\n",
              "      <th>4</th>\n",
              "      <td>0.0</td>\n",
              "      <td>856</td>\n",
              "      <td>other</td>\n",
              "      <td>0</td>\n",
              "      <td>31.843905</td>\n",
              "      <td>-1.244841</td>\n",
              "      <td>Lake Victoria</td>\n",
              "      <td>0</td>\n",
              "      <td>True</td>\n",
              "      <td>True</td>\n",
              "      <td>unknown</td>\n",
              "      <td>gravity</td>\n",
              "      <td>gravity</td>\n",
              "      <td>user-group</td>\n",
              "      <td>never pay</td>\n",
              "      <td>soft</td>\n",
              "      <td>insufficient</td>\n",
              "      <td>rainwater harvesting</td>\n",
              "      <td>surface</td>\n",
              "      <td>communal standpipe</td>\n",
              "      <td>communal standpipe</td>\n",
              "    </tr>\n",
              "    <tr>\n",
              "      <th>...</th>\n",
              "      <td>...</td>\n",
              "      <td>...</td>\n",
              "      <td>...</td>\n",
              "      <td>...</td>\n",
              "      <td>...</td>\n",
              "      <td>...</td>\n",
              "      <td>...</td>\n",
              "      <td>...</td>\n",
              "      <td>...</td>\n",
              "      <td>...</td>\n",
              "      <td>...</td>\n",
              "      <td>...</td>\n",
              "      <td>...</td>\n",
              "      <td>...</td>\n",
              "      <td>...</td>\n",
              "      <td>...</td>\n",
              "      <td>...</td>\n",
              "      <td>...</td>\n",
              "      <td>...</td>\n",
              "      <td>...</td>\n",
              "      <td>...</td>\n",
              "    </tr>\n",
              "    <tr>\n",
              "      <th>14845</th>\n",
              "      <td>1000.0</td>\n",
              "      <td>999</td>\n",
              "      <td>danida</td>\n",
              "      <td>1811</td>\n",
              "      <td>34.533405</td>\n",
              "      <td>-9.781788</td>\n",
              "      <td>Lake Nyasa</td>\n",
              "      <td>45</td>\n",
              "      <td>True</td>\n",
              "      <td>False</td>\n",
              "      <td>80s</td>\n",
              "      <td>gravity</td>\n",
              "      <td>gravity</td>\n",
              "      <td>user-group</td>\n",
              "      <td>annually</td>\n",
              "      <td>soft</td>\n",
              "      <td>seasonal</td>\n",
              "      <td>spring</td>\n",
              "      <td>groundwater</td>\n",
              "      <td>communal standpipe</td>\n",
              "      <td>communal standpipe</td>\n",
              "    </tr>\n",
              "    <tr>\n",
              "      <th>14846</th>\n",
              "      <td>0.0</td>\n",
              "      <td>991</td>\n",
              "      <td>other</td>\n",
              "      <td>252</td>\n",
              "      <td>36.665856</td>\n",
              "      <td>-8.141162</td>\n",
              "      <td>Rufiji</td>\n",
              "      <td>150</td>\n",
              "      <td>True</td>\n",
              "      <td>True</td>\n",
              "      <td>10s</td>\n",
              "      <td>nira/tanira</td>\n",
              "      <td>handpump</td>\n",
              "      <td>user-group</td>\n",
              "      <td>never pay</td>\n",
              "      <td>soft</td>\n",
              "      <td>insufficient</td>\n",
              "      <td>shallow well</td>\n",
              "      <td>groundwater</td>\n",
              "      <td>hand pump</td>\n",
              "      <td>hand pump</td>\n",
              "    </tr>\n",
              "    <tr>\n",
              "      <th>14847</th>\n",
              "      <td>0.0</td>\n",
              "      <td>395</td>\n",
              "      <td>gov</td>\n",
              "      <td>0</td>\n",
              "      <td>33.020305</td>\n",
              "      <td>-4.949560</td>\n",
              "      <td>Lake Tanganyika</td>\n",
              "      <td>0</td>\n",
              "      <td>True</td>\n",
              "      <td>True</td>\n",
              "      <td>unknown</td>\n",
              "      <td>other</td>\n",
              "      <td>other</td>\n",
              "      <td>user-group</td>\n",
              "      <td>never pay</td>\n",
              "      <td>soft</td>\n",
              "      <td>dry</td>\n",
              "      <td>spring</td>\n",
              "      <td>groundwater</td>\n",
              "      <td>communal standpipe multiple</td>\n",
              "      <td>communal standpipe</td>\n",
              "    </tr>\n",
              "    <tr>\n",
              "      <th>14848</th>\n",
              "      <td>0.0</td>\n",
              "      <td>319</td>\n",
              "      <td>other</td>\n",
              "      <td>1294</td>\n",
              "      <td>30.588892</td>\n",
              "      <td>-3.837622</td>\n",
              "      <td>Lake Tanganyika</td>\n",
              "      <td>700</td>\n",
              "      <td>True</td>\n",
              "      <td>False</td>\n",
              "      <td>00s</td>\n",
              "      <td>gravity</td>\n",
              "      <td>gravity</td>\n",
              "      <td>user-group</td>\n",
              "      <td>unknown</td>\n",
              "      <td>soft</td>\n",
              "      <td>enough</td>\n",
              "      <td>spring</td>\n",
              "      <td>groundwater</td>\n",
              "      <td>communal standpipe multiple</td>\n",
              "      <td>communal standpipe</td>\n",
              "    </tr>\n",
              "    <tr>\n",
              "      <th>14849</th>\n",
              "      <td>30.0</td>\n",
              "      <td>1014</td>\n",
              "      <td>other</td>\n",
              "      <td>60</td>\n",
              "      <td>39.330407</td>\n",
              "      <td>-7.039634</td>\n",
              "      <td>Wami / Ruvu</td>\n",
              "      <td>1</td>\n",
              "      <td>True</td>\n",
              "      <td>False</td>\n",
              "      <td>10s</td>\n",
              "      <td>submersible</td>\n",
              "      <td>submersible</td>\n",
              "      <td>user-group</td>\n",
              "      <td>per bucket</td>\n",
              "      <td>soft</td>\n",
              "      <td>enough</td>\n",
              "      <td>borehole</td>\n",
              "      <td>groundwater</td>\n",
              "      <td>communal standpipe</td>\n",
              "      <td>communal standpipe</td>\n",
              "    </tr>\n",
              "  </tbody>\n",
              "</table>\n",
              "<p>14850 rows × 21 columns</p>\n",
              "</div>"
            ],
            "text/plain": [
              "       amount_tsh  ...  waterpoint_type_group\n",
              "0             0.0  ...     communal standpipe\n",
              "1             0.0  ...     communal standpipe\n",
              "2             0.0  ...              hand pump\n",
              "3             0.0  ...              hand pump\n",
              "4             0.0  ...     communal standpipe\n",
              "...           ...  ...                    ...\n",
              "14845      1000.0  ...     communal standpipe\n",
              "14846         0.0  ...              hand pump\n",
              "14847         0.0  ...     communal standpipe\n",
              "14848         0.0  ...     communal standpipe\n",
              "14849        30.0  ...     communal standpipe\n",
              "\n",
              "[14850 rows x 21 columns]"
            ]
          },
          "metadata": {
            "tags": []
          }
        }
      ]
    },
    {
      "cell_type": "code",
      "metadata": {
        "colab": {
          "base_uri": "https://localhost:8080/"
        },
        "id": "h4pKARGKlmOZ",
        "outputId": "c594977f-ed46-44d0-85dd-e44a399385db"
      },
      "source": [
        "test_df.dtypes"
      ],
      "execution_count": null,
      "outputs": [
        {
          "output_type": "execute_result",
          "data": {
            "text/plain": [
              "amount_tsh               float64\n",
              "days_since_recorded        int64\n",
              "funder                    object\n",
              "gps_height                 int64\n",
              "longitude                float64\n",
              "latitude                 float64\n",
              "basin                     object\n",
              "population                 int64\n",
              "public_meeting            object\n",
              "permit                    object\n",
              "construction_year         object\n",
              "extraction_type           object\n",
              "extraction_type_class     object\n",
              "management_group          object\n",
              "payment_type              object\n",
              "water_quality             object\n",
              "quantity                  object\n",
              "source_type               object\n",
              "source_class              object\n",
              "waterpoint_type           object\n",
              "waterpoint_type_group     object\n",
              "dtype: object"
            ]
          },
          "metadata": {
            "tags": []
          },
          "execution_count": 92
        }
      ]
    },
    {
      "cell_type": "code",
      "metadata": {
        "colab": {
          "base_uri": "https://localhost:8080/"
        },
        "id": "vJgsyYiplo_l",
        "outputId": "b2f703e1-4a9c-4e48-e3fe-f831524e985b"
      },
      "source": [
        "test_df.isnull().sum()"
      ],
      "execution_count": null,
      "outputs": [
        {
          "output_type": "execute_result",
          "data": {
            "text/plain": [
              "amount_tsh               0\n",
              "days_since_recorded      0\n",
              "funder                   0\n",
              "gps_height               0\n",
              "longitude                0\n",
              "latitude                 0\n",
              "basin                    0\n",
              "population               0\n",
              "public_meeting           0\n",
              "permit                   0\n",
              "construction_year        0\n",
              "extraction_type          0\n",
              "extraction_type_class    0\n",
              "management_group         0\n",
              "payment_type             0\n",
              "water_quality            0\n",
              "quantity                 0\n",
              "source_type              0\n",
              "source_class             0\n",
              "waterpoint_type          0\n",
              "waterpoint_type_group    0\n",
              "dtype: int64"
            ]
          },
          "metadata": {
            "tags": []
          },
          "execution_count": 93
        }
      ]
    },
    {
      "cell_type": "code",
      "metadata": {
        "id": "AIDGPloa1_Cb"
      },
      "source": [
        "def transform_feature(df, column_name):\n",
        "    unique_values = set(df[column_name].tolist())\n",
        "    transformer_dict = {}\n",
        "    for index, value in enumerate(unique_values):\n",
        "        transformer_dict[value] = index\n",
        "    df[column_name] = df[column_name].apply(lambda y: transformer_dict[y])\n",
        "    return df"
      ],
      "execution_count": null,
      "outputs": []
    },
    {
      "cell_type": "code",
      "metadata": {
        "id": "8Samz8A22RGp"
      },
      "source": [
        "integer_columns = ['days_since_recorded', 'population','gps_height'] \n",
        "columns_to_transform = [col for col in train_df.columns if col not in integer_columns]\n",
        "for column in columns_to_transform: \n",
        "    train = transform_feature(train_df, column)\n",
        "    test = transform_feature(test_df, column)"
      ],
      "execution_count": null,
      "outputs": []
    },
    {
      "cell_type": "code",
      "metadata": {
        "id": "eCJkYSO44wZo"
      },
      "source": [
        "## Converting the Training dataframe into a matrix and predictor as y \n",
        "features = train_df.to_numpy()\n",
        "target = train_new['status_group'].tolist()"
      ],
      "execution_count": null,
      "outputs": []
    },
    {
      "cell_type": "markdown",
      "metadata": {
        "id": "GAR2N5F70C57"
      },
      "source": [
        "####**PART 3**\n",
        "\n",
        "Declaration of ML frameworks\n",
        "\n",
        "ML models like decision trees, random forests, regression, etc. that can be implemented with Scikit-learn.\n",
        "\n",
        "**Comparison:**\n",
        "https://www.datasciencecentral.com/profiles/blogs/decision-tree-vs-random-forest-vs-boosted-trees-explained#:~:text=In%20a%20nutshell%3A,instead%20of%20at%20the%20end.\n",
        "\n",
        "1.)FOR RANDOM FOREST\n",
        "\n",
        " https://builtin.com/data-science/random-forest-algorithm\n",
        "\n",
        "2.) FOR XG BOOST\n",
        "\n",
        "https://towardsdatascience.com/https-medium-com-vishalmorde-xgboost-algorithm-long-she-may-rein-edd9f99be63d\n",
        "\n",
        "3.) FOR DECISION TREE \n",
        "\n",
        "https://towardsdatascience.com/decision-trees-in-machine-learning-641b9c4e8052\n",
        "\n",
        "A decision tree is a simple, decision making-diagram.\n",
        "\n",
        "Random forests are a large number of trees, combined (using averages or \"majority rules\") at the end of the process.\n",
        "\n",
        "Gradient boosting machines also combine decision trees, but start the combining process at the beginning, instead of at the end."
      ]
    },
    {
      "cell_type": "code",
      "metadata": {
        "id": "VHBkaLRxlsKV"
      },
      "source": [
        "from sklearn.model_selection import train_test_split\n",
        "from sklearn.svm import LinearSVC\n",
        "from sklearn.model_selection import GridSearchCV\n",
        "from sklearn.pipeline import Pipeline\n",
        "from sklearn.preprocessing import StandardScaler\n",
        "from sklearn.metrics import roc_auc_score # ROC and F1 are balanced metrics\n",
        "from sklearn.metrics import classification_report\n",
        "from sklearn.tree import DecisionTreeClassifier\n",
        "from sklearn.ensemble import GradientBoostingClassifier\n",
        "\n",
        "from sklearn.preprocessing import LabelEncoder"
      ],
      "execution_count": null,
      "outputs": []
    },
    {
      "cell_type": "code",
      "metadata": {
        "id": "k2cgGwH49YF2"
      },
      "source": [
        "X_train, X_val, y_train, y_val = train_test_split(features, target, train_size=0.8)"
      ],
      "execution_count": null,
      "outputs": []
    },
    {
      "cell_type": "markdown",
      "metadata": {
        "id": "zb5Eb-am0dB2"
      },
      "source": [
        "##part 4  \n",
        "\n",
        "Diligent hyperparameter tuning"
      ]
    },
    {
      "cell_type": "markdown",
      "metadata": {
        "id": "tcYShPU-ubEJ"
      },
      "source": [
        "#**RANDOM FOREST CLASSIFIER**"
      ]
    },
    {
      "cell_type": "code",
      "metadata": {
        "colab": {
          "base_uri": "https://localhost:8080/"
        },
        "id": "jY2HD_9TsP3R",
        "outputId": "37cf00f0-6d80-479a-a4f7-8d811e678622"
      },
      "source": [
        "from sklearn.ensemble import RandomForestClassifier\n",
        "rfc = RandomForestClassifier()\n",
        "\n",
        "scoring = 'f1_weighted'\n",
        "\n",
        "print('Training RFC using GridSearchCV')\n",
        "\n",
        "hyperparameters = {'max_depth': [2,5,10,20], 'n_estimators':[10,30,100] , 'criterion':['gini']}\n",
        "\n",
        "clf = GridSearchCV(rfc, param_grid=hyperparameters,  scoring=scoring)\n",
        "clf.fit(np.array(X_train), np.squeeze(y_train))\n",
        "print('Best parameters:')\n",
        "print(clf.best_params_)\n",
        "print('Best' + scoring + \":\" + str(clf.best_score_))\n",
        "\n",
        "print('Test classification report:')\n",
        "y_true, y_pred = np.squeeze(y_val), clf.predict(np.array(X_val))\n",
        "print(classification_report(y_true, y_pred))"
      ],
      "execution_count": null,
      "outputs": [
        {
          "output_type": "stream",
          "text": [
            "Training RFC using GridSearchCV\n",
            "Best parameters:\n",
            "{'criterion': 'gini', 'max_depth': 20, 'n_estimators': 100}\n",
            "Bestf1_weighted:0.7729183367453814\n",
            "Test classification report:\n",
            "                         precision    recall  f1-score   support\n",
            "\n",
            "             functional       0.77      0.92      0.83      4846\n",
            "functional needs repair       0.64      0.21      0.32       647\n",
            "         non functional       0.84      0.72      0.77      3417\n",
            "\n",
            "               accuracy                           0.79      8910\n",
            "              macro avg       0.75      0.61      0.64      8910\n",
            "           weighted avg       0.79      0.79      0.77      8910\n",
            "\n"
          ],
          "name": "stdout"
        }
      ]
    },
    {
      "cell_type": "markdown",
      "metadata": {
        "id": "GdLIupyOumB7"
      },
      "source": [
        "###Part 5 \n",
        "\n",
        "**Feature Importance**"
      ]
    },
    {
      "cell_type": "code",
      "metadata": {
        "colab": {
          "base_uri": "https://localhost:8080/"
        },
        "id": "YptME2OIASLP",
        "outputId": "15ba2c4a-a6f7-4c65-9354-3e5a0b4cdf92"
      },
      "source": [
        " print(rfc.feature_importances_)"
      ],
      "execution_count": null,
      "outputs": [
        {
          "output_type": "stream",
          "text": [
            "[0.0302791  0.11347538 0.02482645 0.08081512 0.11179216 0.10954456\n",
            " 0.03693198 0.05525868 0.0137796  0.01820596 0.02968365 0.02953304\n",
            " 0.03637131 0.01423735 0.03767921 0.01832948 0.13185222 0.02463012\n",
            " 0.00891052 0.04747227 0.02639185]\n"
          ],
          "name": "stdout"
        }
      ]
    },
    {
      "cell_type": "code",
      "metadata": {
        "colab": {
          "base_uri": "https://localhost:8080/",
          "height": 300
        },
        "id": "Ub4Wc0dr_-rj",
        "outputId": "ff9511ac-78e8-455d-8f49-f9fd99a14836"
      },
      "source": [
        "importance = rfc.feature_importances_\n",
        "importance = pd.DataFrame(importance, index=train_df.columns, \n",
        "                          columns=[\"Importance\"])\n",
        " \n",
        "importance[\"Std\"] = np.std([tree.feature_importances_ \n",
        "                            for tree in rfc.estimators_], axis=0)\n",
        " \n",
        "x = range(importance.shape[0])\n",
        "y = importance.iloc[:, 0]\n",
        "yerr = importance.iloc[:, 1]\n",
        "lables = list(train_df.columns.values)\n",
        " \n",
        " \n",
        " \n",
        "ax = plt.bar(x, y, yerr=yerr ,align=\"center\")\n",
        "plt.xlabel('Features', fontsize = 12)\n",
        "plt.ylabel('Importance', fontsize = 12)\n",
        " \n",
        "#plt.show()"
      ],
      "execution_count": null,
      "outputs": [
        {
          "output_type": "execute_result",
          "data": {
            "text/plain": [
              "Text(0, 0.5, 'Importance')"
            ]
          },
          "metadata": {
            "tags": []
          },
          "execution_count": 102
        },
        {
          "output_type": "display_data",
          "data": {
            "image/png": "[encoded data removed]",
            "text/plain": [
              "<Figure size 432x288 with 1 Axes>"
            ]
          },
          "metadata": {
            "tags": [],
            "needs_background": "light"
          }
        }
      ]
    },
    {
      "cell_type": "markdown",
      "metadata": {
        "id": "xRijGYYkG6wD"
      },
      "source": [
        "#**XG BOOST**"
      ]
    },
    {
      "cell_type": "code",
      "metadata": {
        "id": "g1GAHe4iN1AD"
      },
      "source": [
        "from xgboost import XGBClassifier\n",
        "xgb = XGBClassifier()"
      ],
      "execution_count": null,
      "outputs": []
    },
    {
      "cell_type": "code",
      "metadata": {
        "colab": {
          "base_uri": "https://localhost:8080/"
        },
        "id": "dTM9EzP3O-E2",
        "outputId": "7f1b29b9-b5ab-4547-c822-892b48b9492f"
      },
      "source": [
        "gamma = [0.1,0.2]\n",
        "\n",
        "parameter_grid = {'max_depth': [2,5,10], 'n_estimators':[10,30,100] , 'gamma':gamma}\n",
        "\n",
        "print(parameter_grid.keys())\n",
        "\n",
        "##grid search for best parameters\n",
        "xgb_grid = GridSearchCV(estimator= xgb, param_grid = parameter_grid, cv=3, n_jobs= 4)\n",
        "xgb_grid.fit(np.array(X_train),np.squeeze(y_train))\n",
        "\n",
        "print('Best parameters:')\n",
        "print(xgb_grid.best_params_)\n",
        "print('Best score' + \":\" + str(xgb_grid.best_score_))\n",
        "\n",
        "print('Test classification report:')\n",
        "y_true, y_pred = np.squeeze(y_val), xgb_grid.predict(np.array(X_val))\n",
        "print(classification_report(y_true, y_pred))"
      ],
      "execution_count": null,
      "outputs": [
        {
          "output_type": "stream",
          "text": [
            "dict_keys(['max_depth', 'n_estimators', 'gamma'])\n",
            "Best parameters:\n",
            "{'gamma': 0.1, 'max_depth': 10, 'n_estimators': 100}\n",
            "Best score:0.7786756453423119\n",
            "Test classification report:\n",
            "                         precision    recall  f1-score   support\n",
            "\n",
            "             functional       0.76      0.92      0.83      4846\n",
            "functional needs repair       0.64      0.19      0.29       647\n",
            "         non functional       0.84      0.71      0.77      3417\n",
            "\n",
            "               accuracy                           0.78      8910\n",
            "              macro avg       0.75      0.60      0.63      8910\n",
            "           weighted avg       0.78      0.78      0.77      8910\n",
            "\n"
          ],
          "name": "stdout"
        }
      ]
    },
    {
      "cell_type": "code",
      "metadata": {
        "colab": {
          "base_uri": "https://localhost:8080/"
        },
        "id": "LY7XD6-ZZ_ab",
        "outputId": "ab977fec-2a30-4261-93ac-305f4e7aed96"
      },
      "source": [
        "xgb.fit(X_train,y_train)\n",
        "print(xgb.feature_importances_)"
      ],
      "execution_count": null,
      "outputs": [
        {
          "output_type": "stream",
          "text": [
            "[0.04404541 0.01939399 0.02962889 0.01874967 0.02697796 0.00265439\n",
            " 0.02018407 0.02850324 0.02684192 0.01053763 0.02774828 0.02041359\n",
            " 0.17873713 0.01558665 0.04997176 0.00936363 0.24607578 0.04629357\n",
            " 0.04951088 0.12878157 0.        ]\n"
          ],
          "name": "stdout"
        }
      ]
    },
    {
      "cell_type": "markdown",
      "metadata": {
        "id": "_L1CgBopve46"
      },
      "source": [
        "##**Decision Tree Classifier**"
      ]
    },
    {
      "cell_type": "code",
      "metadata": {
        "id": "fdgHNmQMQWi1"
      },
      "source": [
        "from sklearn.tree import DecisionTreeClassifier\n",
        "DTC = DecisionTreeClassifier()"
      ],
      "execution_count": null,
      "outputs": []
    },
    {
      "cell_type": "code",
      "metadata": {
        "colab": {
          "base_uri": "https://localhost:8080/"
        },
        "id": "XspD6jPeWUmc",
        "outputId": "6ab34692-40cd-4145-9820-793835b50643"
      },
      "source": [
        "criterion= ['gini', 'entropy']\n",
        "\n",
        "max_depth= [2,5,10]\n",
        "                            \n",
        "parameter_grid = {'criterion': criterion, 'max_depth': max_depth}\n",
        "\n",
        "##grid search for best parameters\n",
        "DTC_grid = GridSearchCV(estimator= DTC, param_grid = parameter_grid, cv=3, n_jobs= 4)\n",
        "DTC_grid.fit(np.array(X_train),np.squeeze(y_train))\n",
        "\n",
        "print('Best parameters:')\n",
        "print(DTC_grid.best_params_)\n",
        "print('Best score' + \":\" + str(DTC_grid.best_score_))\n",
        "\n",
        "print('Test classification report:')\n",
        "y_true, y_pred = np.squeeze(y_val), DTC_grid.predict(np.array(X_val))\n",
        "print(classification_report(y_true, y_pred))"
      ],
      "execution_count": null,
      "outputs": [
        {
          "output_type": "stream",
          "text": [
            "Best parameters:\n",
            "{'criterion': 'gini', 'max_depth': 10}\n",
            "Best score:0.7412457912457913\n",
            "Test classification report:\n",
            "                         precision    recall  f1-score   support\n",
            "\n",
            "             functional       0.71      0.92      0.80      4846\n",
            "functional needs repair       0.51      0.09      0.15       647\n",
            "         non functional       0.82      0.60      0.70      3417\n",
            "\n",
            "               accuracy                           0.74      8910\n",
            "              macro avg       0.68      0.54      0.55      8910\n",
            "           weighted avg       0.74      0.74      0.71      8910\n",
            "\n"
          ],
          "name": "stdout"
        }
      ]
    },
    {
      "cell_type": "code",
      "metadata": {
        "colab": {
          "base_uri": "https://localhost:8080/"
        },
        "id": "sei2Hmnian5e",
        "outputId": "b41bf0d3-b4de-4a02-95d3-0133587e30f2"
      },
      "source": [
        "DTC.fit(X_train,y_train)\n",
        "print(DTC.feature_importances_)"
      ],
      "execution_count": null,
      "outputs": [
        {
          "output_type": "stream",
          "text": [
            "[0.03060849 0.12008246 0.02055639 0.09115128 0.11457352 0.11887739\n",
            " 0.03267686 0.05405843 0.01224645 0.0150088  0.02743592 0.02320643\n",
            " 0.03353209 0.01096332 0.02691063 0.01022211 0.15699948 0.01988302\n",
            " 0.00684156 0.0648127  0.00935269]\n"
          ],
          "name": "stdout"
        }
      ]
    },
    {
      "cell_type": "markdown",
      "metadata": {
        "id": "RHvkbQbwv2w1"
      },
      "source": [
        "## Part 7 \n",
        "\n",
        "####**final labels**"
      ]
    },
    {
      "cell_type": "markdown",
      "metadata": {
        "id": "v53x2bs76SX-"
      },
      "source": [
        "The best accuracy is achieved by using RANDOM FOREST CLASSIFIER so the prediction on test data is done using rfc."
      ]
    },
    {
      "cell_type": "code",
      "metadata": {
        "colab": {
          "base_uri": "https://localhost:8080/"
        },
        "id": "NCeqsmltcNUZ",
        "outputId": "5eb0abc8-dd7a-440e-de81-b475d79721ee"
      },
      "source": [
        "y_pred = rfc.predict(test)\n",
        "print(y_pred)"
      ],
      "execution_count": null,
      "outputs": [
        {
          "output_type": "stream",
          "text": [
            "['non functional' 'non functional' 'functional' ... 'non functional'\n",
            " 'functional' 'functional']\n"
          ],
          "name": "stdout"
        }
      ]
    },
    {
      "cell_type": "code",
      "metadata": {
        "id": "igrCgiJ1cbbF"
      },
      "source": [
        "df = pd.DataFrame(y_pred)\n",
        "df.to_csv('final_test.csv')"
      ],
      "execution_count": null,
      "outputs": []
    },
    {
      "cell_type": "code",
      "metadata": {
        "colab": {
          "base_uri": "https://localhost:8080/"
        },
        "id": "huEgSjKUc7AV",
        "outputId": "f1eccd35-e5f6-42b1-8488-79969ed6d6db"
      },
      "source": [
        "df.value_counts()"
      ],
      "execution_count": null,
      "outputs": [
        {
          "output_type": "execute_result",
          "data": {
            "text/plain": [
              "functional                 9701\n",
              "non functional             4888\n",
              "functional needs repair     261\n",
              "dtype: int64"
            ]
          },
          "metadata": {
            "tags": []
          },
          "execution_count": 136
        }
      ]
    },
    {
      "cell_type": "markdown",
      "metadata": {
        "id": "zx4n_QJ66hsS"
      },
      "source": [
        "Result: $65.32$% of the pumps are predicted to be functional, $$32.9% of the pumps are predicted to be non functional and $0.0175$% of the pumps are predicted to be functional but needs repair"
      ]
    },
    {
      "cell_type": "markdown",
      "metadata": {
        "id": "u6e4fv4Ee4wX"
      },
      "source": [
        "###**Part 8**\n",
        "\n",
        "$References:$\n",
        "\n",
        "1. https://scikit-learn.org/stable/modules/generated/sklearn.ensemble.RandomForestClassifier.html\n",
        "\n",
        "2. https://machinelearningmastery.com/develop-first-xgboost-model-python-scikit-learn/\n",
        "\n",
        "3. https://towardsdatascience.com/decision-trees-and-random-forests-df0c3123f991#:~:text=But%20as%20stated%2C%20a%20random,a%20collection%20of%20decision%20trees.&text=With%20that%20said%2C%20random%20forests,and%20therefore%20yield%20useful%20results.\n",
        "\n",
        "4. ML for smart monkeys part2 by Amit sethi sir"
      ]
    }
  ]
}